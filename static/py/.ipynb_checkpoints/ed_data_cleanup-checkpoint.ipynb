{
 "cells": [
  {
   "cell_type": "code",
   "execution_count": 1,
   "metadata": {},
   "outputs": [],
   "source": [
    "import pandas as pd\n",
    "import matplotlib.pyplot as plt\n",
    "import numpy as np\n",
    "import os\n",
    "import plotly_express as px"
   ]
  },
  {
   "cell_type": "markdown",
   "metadata": {},
   "source": [
    "## Create merged file for 2003 - 2015 for D3 plotting"
   ]
  },
  {
   "cell_type": "code",
   "execution_count": 2,
   "metadata": {},
   "outputs": [
    {
     "data": {
      "text/html": [
       "<div>\n",
       "<style scoped>\n",
       "    .dataframe tbody tr th:only-of-type {\n",
       "        vertical-align: middle;\n",
       "    }\n",
       "\n",
       "    .dataframe tbody tr th {\n",
       "        vertical-align: top;\n",
       "    }\n",
       "\n",
       "    .dataframe thead th {\n",
       "        text-align: right;\n",
       "    }\n",
       "</style>\n",
       "<table border=\"1\" class=\"dataframe\">\n",
       "  <thead>\n",
       "    <tr style=\"text-align: right;\">\n",
       "      <th></th>\n",
       "      <th>YEAR</th>\n",
       "      <th>STATE</th>\n",
       "      <th>AVG_SCORE</th>\n",
       "      <th>TEST_SUBJECT</th>\n",
       "      <th>TEST_YEAR</th>\n",
       "    </tr>\n",
       "  </thead>\n",
       "  <tbody>\n",
       "    <tr>\n",
       "      <th>0</th>\n",
       "      <td>2017</td>\n",
       "      <td>Alabama</td>\n",
       "      <td>232.1706877</td>\n",
       "      <td>Mathematics</td>\n",
       "      <td>4</td>\n",
       "    </tr>\n",
       "    <tr>\n",
       "      <th>1</th>\n",
       "      <td>2017</td>\n",
       "      <td>Alaska</td>\n",
       "      <td>230.4562776</td>\n",
       "      <td>Mathematics</td>\n",
       "      <td>4</td>\n",
       "    </tr>\n",
       "    <tr>\n",
       "      <th>2</th>\n",
       "      <td>2017</td>\n",
       "      <td>Arizona</td>\n",
       "      <td>234.4357882</td>\n",
       "      <td>Mathematics</td>\n",
       "      <td>4</td>\n",
       "    </tr>\n",
       "    <tr>\n",
       "      <th>3</th>\n",
       "      <td>2017</td>\n",
       "      <td>Arkansas</td>\n",
       "      <td>233.8481437</td>\n",
       "      <td>Mathematics</td>\n",
       "      <td>4</td>\n",
       "    </tr>\n",
       "    <tr>\n",
       "      <th>4</th>\n",
       "      <td>2017</td>\n",
       "      <td>California</td>\n",
       "      <td>232.262941</td>\n",
       "      <td>Mathematics</td>\n",
       "      <td>4</td>\n",
       "    </tr>\n",
       "  </tbody>\n",
       "</table>\n",
       "</div>"
      ],
      "text/plain": [
       "   YEAR       STATE    AVG_SCORE TEST_SUBJECT  TEST_YEAR\n",
       "0  2017     Alabama  232.1706877  Mathematics          4\n",
       "1  2017      Alaska  230.4562776  Mathematics          4\n",
       "2  2017     Arizona  234.4357882  Mathematics          4\n",
       "3  2017    Arkansas  233.8481437  Mathematics          4\n",
       "4  2017  California   232.262941  Mathematics          4"
      ]
     },
     "execution_count": 2,
     "metadata": {},
     "output_type": "execute_result"
    }
   ],
   "source": [
    "test = pd.read_csv(\"../data/naep.csv\")\n",
    "test.head()"
   ]
  },
  {
   "cell_type": "code",
   "execution_count": 3,
   "metadata": {},
   "outputs": [
    {
     "data": {
      "text/plain": [
       "(408, 3)"
      ]
     },
     "execution_count": 3,
     "metadata": {},
     "output_type": "execute_result"
    }
   ],
   "source": [
    "# Read in scores csv\n",
    "scores_csv = pd.read_csv(\"../data/naep.csv\")\n",
    "# Filter data to include 8th Grade, year 2000 onwards and the Department of Defense Education Activity and Math Scores\n",
    "math_df = scores_csv.loc[(scores_csv[\"TEST_YEAR\"]==8)&(scores_csv[\"YEAR\"]>=2003)&(scores_csv[\"STATE\"]!= \"DoDEA\")&(scores_csv[\"TEST_SUBJECT\"]==\"Mathematics\")].reset_index(drop=True)\n",
    "# Check for any other unnecessary areas\n",
    "math_df[\"STATE\"].value_counts()\n",
    "# Rename column headers to look better\n",
    "math_df = math_df.rename(columns={\"YEAR\":\"Year\",\"STATE\":\"State\",\"AVG_SCORE\":\"AverageMathScore\",\"TEST_SUBJECT\":\"Subject\",\"TEST_YEAR\":\"Grade\"})\n",
    "# Remove unnecessary columns\n",
    "math_df.drop(columns=[\"Subject\",\"Grade\"],inplace=True)\n",
    "# Preview cleaned df\n",
    "math_df.shape"
   ]
  },
  {
   "cell_type": "code",
   "execution_count": 4,
   "metadata": {},
   "outputs": [
    {
     "data": {
      "text/plain": [
       "(408, 3)"
      ]
     },
     "execution_count": 4,
     "metadata": {},
     "output_type": "execute_result"
    }
   ],
   "source": [
    "# Filter data to include 8th Grade, year 2000 onwards and the Department of Defense Education Activity and Reading scores\n",
    "reading_df = scores_csv.loc[(scores_csv[\"TEST_YEAR\"]==8)&(scores_csv[\"YEAR\"]>=2003)&(scores_csv[\"STATE\"]!= \"DoDEA\")&(scores_csv[\"TEST_SUBJECT\"]==\"Reading\")].reset_index(drop=True)\n",
    "# Check for any other unnecessary areas\n",
    "reading_df[\"STATE\"].value_counts()\n",
    "# Rename column headers to look better\n",
    "reading_df = reading_df.rename(columns={\"YEAR\":\"Year\",\"STATE\":\"State\",\"AVG_SCORE\":\"AverageReadingScore\",\"TEST_SUBJECT\":\"Subject\",\"TEST_YEAR\":\"Grade\"})\n",
    "# Remove unnecessary columns\n",
    "reading_df.drop(columns=[\"Subject\",\"Grade\"],inplace=True)\n",
    "# Preview cleaned df\n",
    "reading_df.shape"
   ]
  },
  {
   "cell_type": "code",
   "execution_count": 5,
   "metadata": {},
   "outputs": [
    {
     "data": {
      "text/html": [
       "<div>\n",
       "<style scoped>\n",
       "    .dataframe tbody tr th:only-of-type {\n",
       "        vertical-align: middle;\n",
       "    }\n",
       "\n",
       "    .dataframe tbody tr th {\n",
       "        vertical-align: top;\n",
       "    }\n",
       "\n",
       "    .dataframe thead th {\n",
       "        text-align: right;\n",
       "    }\n",
       "</style>\n",
       "<table border=\"1\" class=\"dataframe\">\n",
       "  <thead>\n",
       "    <tr style=\"text-align: right;\">\n",
       "      <th></th>\n",
       "      <th>Year</th>\n",
       "      <th>State</th>\n",
       "      <th>AverageMathScore</th>\n",
       "      <th>AverageReadingScore</th>\n",
       "    </tr>\n",
       "  </thead>\n",
       "  <tbody>\n",
       "    <tr>\n",
       "      <th>0</th>\n",
       "      <td>2017</td>\n",
       "      <td>Alabama</td>\n",
       "      <td>268.3120202</td>\n",
       "      <td>257.6865203</td>\n",
       "    </tr>\n",
       "    <tr>\n",
       "      <th>1</th>\n",
       "      <td>2017</td>\n",
       "      <td>Alaska</td>\n",
       "      <td>277.0155718</td>\n",
       "      <td>257.6674968</td>\n",
       "    </tr>\n",
       "    <tr>\n",
       "      <th>2</th>\n",
       "      <td>2017</td>\n",
       "      <td>Arizona</td>\n",
       "      <td>282.2481453</td>\n",
       "      <td>262.9574567</td>\n",
       "    </tr>\n",
       "    <tr>\n",
       "      <th>3</th>\n",
       "      <td>2017</td>\n",
       "      <td>Arkansas</td>\n",
       "      <td>273.7599073</td>\n",
       "      <td>259.9557985</td>\n",
       "    </tr>\n",
       "    <tr>\n",
       "      <th>4</th>\n",
       "      <td>2017</td>\n",
       "      <td>California</td>\n",
       "      <td>276.6382001</td>\n",
       "      <td>262.52063</td>\n",
       "    </tr>\n",
       "  </tbody>\n",
       "</table>\n",
       "</div>"
      ],
      "text/plain": [
       "   Year       State AverageMathScore AverageReadingScore\n",
       "0  2017     Alabama      268.3120202         257.6865203\n",
       "1  2017      Alaska      277.0155718         257.6674968\n",
       "2  2017     Arizona      282.2481453         262.9574567\n",
       "3  2017    Arkansas      273.7599073         259.9557985\n",
       "4  2017  California      276.6382001           262.52063"
      ]
     },
     "execution_count": 5,
     "metadata": {},
     "output_type": "execute_result"
    }
   ],
   "source": [
    "# Combine Math & Reading scores\n",
    "scores_df = pd.merge(math_df, reading_df, on=[\"Year\",\"State\"])\n",
    "scores_df.head()"
   ]
  },
  {
   "cell_type": "code",
   "execution_count": 6,
   "metadata": {},
   "outputs": [
    {
     "data": {
      "text/html": [
       "<div>\n",
       "<style scoped>\n",
       "    .dataframe tbody tr th:only-of-type {\n",
       "        vertical-align: middle;\n",
       "    }\n",
       "\n",
       "    .dataframe tbody tr th {\n",
       "        vertical-align: top;\n",
       "    }\n",
       "\n",
       "    .dataframe thead th {\n",
       "        text-align: right;\n",
       "    }\n",
       "</style>\n",
       "<table border=\"1\" class=\"dataframe\">\n",
       "  <thead>\n",
       "    <tr style=\"text-align: right;\">\n",
       "      <th></th>\n",
       "      <th>State</th>\n",
       "      <th>Year</th>\n",
       "      <th>StudentsEnrolled</th>\n",
       "      <th>TotalFunding</th>\n",
       "      <th>FederalFunding</th>\n",
       "      <th>StateFunding</th>\n",
       "      <th>LocalFunding</th>\n",
       "    </tr>\n",
       "  </thead>\n",
       "  <tbody>\n",
       "    <tr>\n",
       "      <th>0</th>\n",
       "      <td>Alabama</td>\n",
       "      <td>2003</td>\n",
       "      <td>727900.0</td>\n",
       "      <td>5196054</td>\n",
       "      <td>567704</td>\n",
       "      <td>2966981</td>\n",
       "      <td>1661369</td>\n",
       "    </tr>\n",
       "    <tr>\n",
       "      <th>1</th>\n",
       "      <td>Alaska</td>\n",
       "      <td>2003</td>\n",
       "      <td>133303.0</td>\n",
       "      <td>1425948</td>\n",
       "      <td>259423</td>\n",
       "      <td>813371</td>\n",
       "      <td>353154</td>\n",
       "    </tr>\n",
       "    <tr>\n",
       "      <th>2</th>\n",
       "      <td>Arizona</td>\n",
       "      <td>2003</td>\n",
       "      <td>875111.0</td>\n",
       "      <td>6529894</td>\n",
       "      <td>740579</td>\n",
       "      <td>2912629</td>\n",
       "      <td>2876686</td>\n",
       "    </tr>\n",
       "    <tr>\n",
       "      <th>3</th>\n",
       "      <td>Arkansas</td>\n",
       "      <td>2003</td>\n",
       "      <td>450158.0</td>\n",
       "      <td>3241275</td>\n",
       "      <td>379947</td>\n",
       "      <td>2394336</td>\n",
       "      <td>466992</td>\n",
       "    </tr>\n",
       "    <tr>\n",
       "      <th>4</th>\n",
       "      <td>California</td>\n",
       "      <td>2003</td>\n",
       "      <td>6226552.0</td>\n",
       "      <td>59815855</td>\n",
       "      <td>5795655</td>\n",
       "      <td>33617766</td>\n",
       "      <td>20402434</td>\n",
       "    </tr>\n",
       "  </tbody>\n",
       "</table>\n",
       "</div>"
      ],
      "text/plain": [
       "        State  Year  StudentsEnrolled  TotalFunding  FederalFunding  \\\n",
       "0     Alabama  2003          727900.0       5196054          567704   \n",
       "1      Alaska  2003          133303.0       1425948          259423   \n",
       "2     Arizona  2003          875111.0       6529894          740579   \n",
       "3    Arkansas  2003          450158.0       3241275          379947   \n",
       "4  California  2003         6226552.0      59815855         5795655   \n",
       "\n",
       "  StateFunding  LocalFunding  \n",
       "0      2966981       1661369  \n",
       "1       813371        353154  \n",
       "2      2912629       2876686  \n",
       "3      2394336        466992  \n",
       "4     33617766      20402434  "
      ]
     },
     "execution_count": 6,
     "metadata": {},
     "output_type": "execute_result"
    }
   ],
   "source": [
    "# Read in funding by state csv\n",
    "funding_df = pd.read_csv(\"../data/states.csv\")\n",
    "# Filter file to include years 2000 and onwards and reset index\n",
    "funding_df = funding_df.loc[funding_df[\"YEAR\"]>=2003].reset_index(drop=True)\n",
    "# Get rid of expenditure columns as not needed\n",
    "funding_df = funding_df.drop(columns=[\"TOTAL_EXPENDITURE\",\"INSTRUCTION_EXPENDITURE\",\"SUPPORT_SERVICES_EXPENDITURE\",\"OTHER_EXPENDITURE\",\"CAPITAL_OUTLAY_EXPENDITURE\"])\n",
    "# Rename column headers to look better\n",
    "funding_df = funding_df.rename(columns={\"STATE\":\"State\",\"YEAR\":\"Year\",\"ENROLL\":\"StudentsEnrolled\",\"TOTAL_REVENUE\":\"TotalFunding\",\"FEDERAL_REVENUE\":\"FederalFunding\",\"STATE_REVENUE\":\"StateFunding\",\"LOCAL_REVENUE\":\"LocalFunding\"})\n",
    "# Preview cleaned df\n",
    "# funding_df[\"Year\"].value_counts()\n",
    "funding_df.head()"
   ]
  },
  {
   "cell_type": "code",
   "execution_count": 7,
   "metadata": {},
   "outputs": [
    {
     "data": {
      "text/html": [
       "<div>\n",
       "<style scoped>\n",
       "    .dataframe tbody tr th:only-of-type {\n",
       "        vertical-align: middle;\n",
       "    }\n",
       "\n",
       "    .dataframe tbody tr th {\n",
       "        vertical-align: top;\n",
       "    }\n",
       "\n",
       "    .dataframe thead th {\n",
       "        text-align: right;\n",
       "    }\n",
       "</style>\n",
       "<table border=\"1\" class=\"dataframe\">\n",
       "  <thead>\n",
       "    <tr style=\"text-align: right;\">\n",
       "      <th></th>\n",
       "      <th>Year</th>\n",
       "      <th>State</th>\n",
       "      <th>AverageMathScore</th>\n",
       "      <th>AverageReadingScore</th>\n",
       "      <th>StudentsEnrolled</th>\n",
       "      <th>TotalFunding</th>\n",
       "      <th>FederalFunding</th>\n",
       "      <th>StateFunding</th>\n",
       "      <th>LocalFunding</th>\n",
       "      <th>DollarsPerStudent</th>\n",
       "    </tr>\n",
       "  </thead>\n",
       "  <tbody>\n",
       "    <tr>\n",
       "      <th>0</th>\n",
       "      <td>2017</td>\n",
       "      <td>Alabama</td>\n",
       "      <td>268.3120202</td>\n",
       "      <td>257.6865203</td>\n",
       "      <td>744930.0</td>\n",
       "      <td>7909958</td>\n",
       "      <td>811407</td>\n",
       "      <td>4350594</td>\n",
       "      <td>2747957</td>\n",
       "      <td>10.618391</td>\n",
       "    </tr>\n",
       "    <tr>\n",
       "      <th>1</th>\n",
       "      <td>2017</td>\n",
       "      <td>Alaska</td>\n",
       "      <td>277.0155718</td>\n",
       "      <td>257.6674968</td>\n",
       "      <td>132737.0</td>\n",
       "      <td>2504464</td>\n",
       "      <td>350204</td>\n",
       "      <td>1600503</td>\n",
       "      <td>553757</td>\n",
       "      <td>18.867867</td>\n",
       "    </tr>\n",
       "    <tr>\n",
       "      <th>2</th>\n",
       "      <td>2017</td>\n",
       "      <td>Arizona</td>\n",
       "      <td>282.2481453</td>\n",
       "      <td>262.9574567</td>\n",
       "      <td>936147.0</td>\n",
       "      <td>8601449</td>\n",
       "      <td>1178196</td>\n",
       "      <td>3446191</td>\n",
       "      <td>3977062</td>\n",
       "      <td>9.188139</td>\n",
       "    </tr>\n",
       "    <tr>\n",
       "      <th>3</th>\n",
       "      <td>2017</td>\n",
       "      <td>Arkansas</td>\n",
       "      <td>273.7599073</td>\n",
       "      <td>259.9557985</td>\n",
       "      <td>478996.0</td>\n",
       "      <td>5462279</td>\n",
       "      <td>597260</td>\n",
       "      <td>4137903</td>\n",
       "      <td>727116</td>\n",
       "      <td>11.403600</td>\n",
       "    </tr>\n",
       "    <tr>\n",
       "      <th>4</th>\n",
       "      <td>2017</td>\n",
       "      <td>California</td>\n",
       "      <td>276.6382001</td>\n",
       "      <td>262.52063</td>\n",
       "      <td>6195344.0</td>\n",
       "      <td>89109048</td>\n",
       "      <td>7889546</td>\n",
       "      <td>51046506</td>\n",
       "      <td>30172996</td>\n",
       "      <td>14.383228</td>\n",
       "    </tr>\n",
       "  </tbody>\n",
       "</table>\n",
       "</div>"
      ],
      "text/plain": [
       "   Year       State AverageMathScore AverageReadingScore  StudentsEnrolled  \\\n",
       "0  2017     Alabama      268.3120202         257.6865203          744930.0   \n",
       "1  2017      Alaska      277.0155718         257.6674968          132737.0   \n",
       "2  2017     Arizona      282.2481453         262.9574567          936147.0   \n",
       "3  2017    Arkansas      273.7599073         259.9557985          478996.0   \n",
       "4  2017  California      276.6382001           262.52063         6195344.0   \n",
       "\n",
       "   TotalFunding  FederalFunding StateFunding  LocalFunding  DollarsPerStudent  \n",
       "0       7909958          811407      4350594       2747957          10.618391  \n",
       "1       2504464          350204      1600503        553757          18.867867  \n",
       "2       8601449         1178196      3446191       3977062           9.188139  \n",
       "3       5462279          597260      4137903        727116          11.403600  \n",
       "4      89109048         7889546     51046506      30172996          14.383228  "
      ]
     },
     "execution_count": 7,
     "metadata": {},
     "output_type": "execute_result"
    }
   ],
   "source": [
    "# Merge Scores and Funding dataframes\n",
    "scores_and_funding = pd.merge(scores_df, funding_df, on=[\"Year\",\"State\"],how=\"left\")\\\n",
    "# Calculate $ spent per student enrolled and add new column\n",
    "scores_and_funding[\"DollarsPerStudent\"] = scores_and_funding[\"TotalFunding\"]/scores_and_funding[\"StudentsEnrolled\"]\n",
    "# Preview combined file\n",
    "scores_and_funding.head()\n"
   ]
  },
  {
   "cell_type": "code",
   "execution_count": 8,
   "metadata": {},
   "outputs": [],
   "source": [
    "# Check for inconsistent characters\n",
    "scores_and_funding[\"AverageMathScore\"].value_counts()\n",
    "# Replace non-numerical characters with nan or 0\n",
    "scores_and_funding[\"AverageMathScore\"] = scores_and_funding[\"AverageMathScore\"].replace({\"—\":0,\"‡\":np.nan})\n",
    "# Check for inconsistent characters\n",
    "scores_and_funding[\"AverageReadingScore\"].value_counts()\n",
    "# Replace non-numerical characters with nan or 0\n",
    "scores_and_funding[\"AverageReadingScore\"] = scores_and_funding[\"AverageReadingScore\"].replace({\"—\":0,\"‡\":np.nan})\n"
   ]
  },
  {
   "cell_type": "code",
   "execution_count": 9,
   "metadata": {},
   "outputs": [
    {
     "data": {
      "text/plain": [
       "Year                     int64\n",
       "State                   object\n",
       "AverageMathScore       float64\n",
       "AverageReadingScore    float64\n",
       "StudentsEnrolled       float64\n",
       "TotalFunding             int64\n",
       "FederalFunding           int64\n",
       "StateFunding            object\n",
       "LocalFunding             int64\n",
       "DollarsPerStudent      float64\n",
       "dtype: object"
      ]
     },
     "execution_count": 9,
     "metadata": {},
     "output_type": "execute_result"
    }
   ],
   "source": [
    "# Convert Average Score column to float type\n",
    "scores_and_funding[\"AverageMathScore\"] = scores_and_funding[\"AverageMathScore\"].astype(float)\n",
    "scores_and_funding[\"AverageReadingScore\"] = scores_and_funding[\"AverageReadingScore\"].astype(float)\n",
    "# # Check types are correct for calculations\n",
    "scores_and_funding.dtypes"
   ]
  },
  {
   "cell_type": "code",
   "execution_count": 456,
   "metadata": {},
   "outputs": [],
   "source": [
    "# Set container for list of protest states\n",
    "protest_states = [\"Arizona\",\"North Carolina\",\"South Carolina\",\"West Virginia\",\"Kentucky\",\"Colorado\",\"Oklahoma\",\"Virginia\"]\n"
   ]
  },
  {
   "cell_type": "code",
   "execution_count": 457,
   "metadata": {},
   "outputs": [
    {
     "data": {
      "text/html": [
       "<div>\n",
       "<style scoped>\n",
       "    .dataframe tbody tr th:only-of-type {\n",
       "        vertical-align: middle;\n",
       "    }\n",
       "\n",
       "    .dataframe tbody tr th {\n",
       "        vertical-align: top;\n",
       "    }\n",
       "\n",
       "    .dataframe thead th {\n",
       "        text-align: right;\n",
       "    }\n",
       "</style>\n",
       "<table border=\"1\" class=\"dataframe\">\n",
       "  <thead>\n",
       "    <tr style=\"text-align: right;\">\n",
       "      <th></th>\n",
       "      <th>Year</th>\n",
       "      <th>State</th>\n",
       "      <th>AverageMathScore</th>\n",
       "      <th>AverageReadingScore</th>\n",
       "      <th>StudentsEnrolled</th>\n",
       "      <th>TotalFunding</th>\n",
       "      <th>FederalFunding</th>\n",
       "      <th>StateFunding</th>\n",
       "      <th>LocalFunding</th>\n",
       "      <th>DollarsPerStudent</th>\n",
       "      <th>Abbreviation</th>\n",
       "    </tr>\n",
       "  </thead>\n",
       "  <tbody>\n",
       "    <tr>\n",
       "      <th>0</th>\n",
       "      <td>2003</td>\n",
       "      <td>West Virginia</td>\n",
       "      <td>270.770353</td>\n",
       "      <td>259.564238</td>\n",
       "      <td>281591.0</td>\n",
       "      <td>2497707</td>\n",
       "      <td>267470</td>\n",
       "      <td>1519848</td>\n",
       "      <td>710389</td>\n",
       "      <td>8.869982</td>\n",
       "      <td>WV</td>\n",
       "    </tr>\n",
       "    <tr>\n",
       "      <th>1</th>\n",
       "      <td>2003</td>\n",
       "      <td>Arizona</td>\n",
       "      <td>271.177350</td>\n",
       "      <td>255.320115</td>\n",
       "      <td>875111.0</td>\n",
       "      <td>6529894</td>\n",
       "      <td>740579</td>\n",
       "      <td>2912629</td>\n",
       "      <td>2876686</td>\n",
       "      <td>7.461789</td>\n",
       "      <td>AZ</td>\n",
       "    </tr>\n",
       "    <tr>\n",
       "      <th>2</th>\n",
       "      <td>2003</td>\n",
       "      <td>Colorado</td>\n",
       "      <td>283.399858</td>\n",
       "      <td>267.592641</td>\n",
       "      <td>751049.0</td>\n",
       "      <td>6297242</td>\n",
       "      <td>400219</td>\n",
       "      <td>2715219</td>\n",
       "      <td>3181804</td>\n",
       "      <td>8.384595</td>\n",
       "      <td>CO</td>\n",
       "    </tr>\n",
       "    <tr>\n",
       "      <th>3</th>\n",
       "      <td>2003</td>\n",
       "      <td>Kentucky</td>\n",
       "      <td>274.278472</td>\n",
       "      <td>266.191435</td>\n",
       "      <td>660782.0</td>\n",
       "      <td>4872025</td>\n",
       "      <td>503734</td>\n",
       "      <td>2904331</td>\n",
       "      <td>1463960</td>\n",
       "      <td>7.373120</td>\n",
       "      <td>KY</td>\n",
       "    </tr>\n",
       "    <tr>\n",
       "      <th>4</th>\n",
       "      <td>2003</td>\n",
       "      <td>Virginia</td>\n",
       "      <td>281.676643</td>\n",
       "      <td>268.004817</td>\n",
       "      <td>1175458.0</td>\n",
       "      <td>10504167</td>\n",
       "      <td>698716</td>\n",
       "      <td>4087720</td>\n",
       "      <td>5717731</td>\n",
       "      <td>8.936233</td>\n",
       "      <td>VA</td>\n",
       "    </tr>\n",
       "    <tr>\n",
       "      <th>5</th>\n",
       "      <td>2003</td>\n",
       "      <td>Oklahoma</td>\n",
       "      <td>271.905151</td>\n",
       "      <td>261.719961</td>\n",
       "      <td>624202.0</td>\n",
       "      <td>4426835</td>\n",
       "      <td>563974</td>\n",
       "      <td>2272785</td>\n",
       "      <td>1590076</td>\n",
       "      <td>7.091991</td>\n",
       "      <td>OK</td>\n",
       "    </tr>\n",
       "    <tr>\n",
       "      <th>6</th>\n",
       "      <td>2003</td>\n",
       "      <td>South Carolina</td>\n",
       "      <td>277.300450</td>\n",
       "      <td>258.088991</td>\n",
       "      <td>691736.0</td>\n",
       "      <td>5709707</td>\n",
       "      <td>535356</td>\n",
       "      <td>2761951</td>\n",
       "      <td>2412400</td>\n",
       "      <td>8.254171</td>\n",
       "      <td>SC</td>\n",
       "    </tr>\n",
       "    <tr>\n",
       "      <th>7</th>\n",
       "      <td>2003</td>\n",
       "      <td>North Carolina</td>\n",
       "      <td>281.240351</td>\n",
       "      <td>261.711645</td>\n",
       "      <td>1314632.0</td>\n",
       "      <td>9907235</td>\n",
       "      <td>888996</td>\n",
       "      <td>5970302</td>\n",
       "      <td>3047937</td>\n",
       "      <td>7.536128</td>\n",
       "      <td>NC</td>\n",
       "    </tr>\n",
       "    <tr>\n",
       "      <th>8</th>\n",
       "      <td>2005</td>\n",
       "      <td>West Virginia</td>\n",
       "      <td>269.099493</td>\n",
       "      <td>255.073380</td>\n",
       "      <td>279456.0</td>\n",
       "      <td>2701056</td>\n",
       "      <td>329159</td>\n",
       "      <td>1607433</td>\n",
       "      <td>764464</td>\n",
       "      <td>9.665407</td>\n",
       "      <td>WV</td>\n",
       "    </tr>\n",
       "    <tr>\n",
       "      <th>9</th>\n",
       "      <td>2005</td>\n",
       "      <td>Virginia</td>\n",
       "      <td>284.371628</td>\n",
       "      <td>267.808967</td>\n",
       "      <td>1203697.0</td>\n",
       "      <td>12182657</td>\n",
       "      <td>826830</td>\n",
       "      <td>4871813</td>\n",
       "      <td>6484014</td>\n",
       "      <td>10.121033</td>\n",
       "      <td>VA</td>\n",
       "    </tr>\n",
       "    <tr>\n",
       "      <th>10</th>\n",
       "      <td>2005</td>\n",
       "      <td>South Carolina</td>\n",
       "      <td>281.234321</td>\n",
       "      <td>257.169105</td>\n",
       "      <td>701176.0</td>\n",
       "      <td>6337711</td>\n",
       "      <td>639308</td>\n",
       "      <td>2832245</td>\n",
       "      <td>2866158</td>\n",
       "      <td>9.038688</td>\n",
       "      <td>SC</td>\n",
       "    </tr>\n",
       "    <tr>\n",
       "      <th>11</th>\n",
       "      <td>2005</td>\n",
       "      <td>Oklahoma</td>\n",
       "      <td>271.359902</td>\n",
       "      <td>259.631360</td>\n",
       "      <td>629145.0</td>\n",
       "      <td>4892548</td>\n",
       "      <td>678448</td>\n",
       "      <td>2440741</td>\n",
       "      <td>1773359</td>\n",
       "      <td>7.776503</td>\n",
       "      <td>OK</td>\n",
       "    </tr>\n",
       "    <tr>\n",
       "      <th>12</th>\n",
       "      <td>2005</td>\n",
       "      <td>North Carolina</td>\n",
       "      <td>281.825137</td>\n",
       "      <td>258.160186</td>\n",
       "      <td>1347177.0</td>\n",
       "      <td>11098165</td>\n",
       "      <td>1116670</td>\n",
       "      <td>6440768</td>\n",
       "      <td>3540727</td>\n",
       "      <td>8.238090</td>\n",
       "      <td>NC</td>\n",
       "    </tr>\n",
       "    <tr>\n",
       "      <th>13</th>\n",
       "      <td>2005</td>\n",
       "      <td>Kentucky</td>\n",
       "      <td>273.983027</td>\n",
       "      <td>263.938418</td>\n",
       "      <td>674502.0</td>\n",
       "      <td>5444309</td>\n",
       "      <td>646215</td>\n",
       "      <td>3121503</td>\n",
       "      <td>1676591</td>\n",
       "      <td>8.071598</td>\n",
       "      <td>KY</td>\n",
       "    </tr>\n",
       "    <tr>\n",
       "      <th>14</th>\n",
       "      <td>2005</td>\n",
       "      <td>Colorado</td>\n",
       "      <td>280.824007</td>\n",
       "      <td>264.758106</td>\n",
       "      <td>765388.0</td>\n",
       "      <td>6910296</td>\n",
       "      <td>472246</td>\n",
       "      <td>2954915</td>\n",
       "      <td>3483135</td>\n",
       "      <td>9.028488</td>\n",
       "      <td>CO</td>\n",
       "    </tr>\n",
       "    <tr>\n",
       "      <th>15</th>\n",
       "      <td>2005</td>\n",
       "      <td>Arizona</td>\n",
       "      <td>274.305090</td>\n",
       "      <td>254.787938</td>\n",
       "      <td>919875.0</td>\n",
       "      <td>7550109</td>\n",
       "      <td>897553</td>\n",
       "      <td>3320196</td>\n",
       "      <td>3332360</td>\n",
       "      <td>8.207755</td>\n",
       "      <td>AZ</td>\n",
       "    </tr>\n",
       "    <tr>\n",
       "      <th>16</th>\n",
       "      <td>2007</td>\n",
       "      <td>Arizona</td>\n",
       "      <td>275.548426</td>\n",
       "      <td>254.828792</td>\n",
       "      <td>969875.0</td>\n",
       "      <td>8724434</td>\n",
       "      <td>953861</td>\n",
       "      <td>4204089</td>\n",
       "      <td>3566484</td>\n",
       "      <td>8.995421</td>\n",
       "      <td>AZ</td>\n",
       "    </tr>\n",
       "    <tr>\n",
       "      <th>17</th>\n",
       "      <td>2007</td>\n",
       "      <td>Colorado</td>\n",
       "      <td>286.192756</td>\n",
       "      <td>266.407882</td>\n",
       "      <td>790211.0</td>\n",
       "      <td>7689014</td>\n",
       "      <td>529854</td>\n",
       "      <td>3307016</td>\n",
       "      <td>3852144</td>\n",
       "      <td>9.730330</td>\n",
       "      <td>CO</td>\n",
       "    </tr>\n",
       "    <tr>\n",
       "      <th>18</th>\n",
       "      <td>2007</td>\n",
       "      <td>Kentucky</td>\n",
       "      <td>278.704750</td>\n",
       "      <td>261.965951</td>\n",
       "      <td>646360.0</td>\n",
       "      <td>6226696</td>\n",
       "      <td>677570</td>\n",
       "      <td>3557084</td>\n",
       "      <td>1992042</td>\n",
       "      <td>9.633480</td>\n",
       "      <td>KY</td>\n",
       "    </tr>\n",
       "    <tr>\n",
       "      <th>19</th>\n",
       "      <td>2007</td>\n",
       "      <td>Oklahoma</td>\n",
       "      <td>274.534989</td>\n",
       "      <td>259.547225</td>\n",
       "      <td>639032.0</td>\n",
       "      <td>5491931</td>\n",
       "      <td>650579</td>\n",
       "      <td>2782356</td>\n",
       "      <td>2058996</td>\n",
       "      <td>8.594141</td>\n",
       "      <td>OK</td>\n",
       "    </tr>\n",
       "    <tr>\n",
       "      <th>20</th>\n",
       "      <td>2007</td>\n",
       "      <td>South Carolina</td>\n",
       "      <td>281.503602</td>\n",
       "      <td>257.421203</td>\n",
       "      <td>701580.0</td>\n",
       "      <td>7130274</td>\n",
       "      <td>680718</td>\n",
       "      <td>3120416</td>\n",
       "      <td>3329140</td>\n",
       "      <td>10.163166</td>\n",
       "      <td>SC</td>\n",
       "    </tr>\n",
       "    <tr>\n",
       "      <th>21</th>\n",
       "      <td>2007</td>\n",
       "      <td>Virginia</td>\n",
       "      <td>287.625905</td>\n",
       "      <td>266.878737</td>\n",
       "      <td>1220440.0</td>\n",
       "      <td>14176385</td>\n",
       "      <td>890144</td>\n",
       "      <td>5796043</td>\n",
       "      <td>7490198</td>\n",
       "      <td>11.615798</td>\n",
       "      <td>VA</td>\n",
       "    </tr>\n",
       "    <tr>\n",
       "      <th>22</th>\n",
       "      <td>2007</td>\n",
       "      <td>North Carolina</td>\n",
       "      <td>283.880669</td>\n",
       "      <td>259.136703</td>\n",
       "      <td>1416028.0</td>\n",
       "      <td>13063307</td>\n",
       "      <td>1184934</td>\n",
       "      <td>7481148</td>\n",
       "      <td>4397225</td>\n",
       "      <td>9.225317</td>\n",
       "      <td>NC</td>\n",
       "    </tr>\n",
       "    <tr>\n",
       "      <th>23</th>\n",
       "      <td>2007</td>\n",
       "      <td>West Virginia</td>\n",
       "      <td>270.084094</td>\n",
       "      <td>254.998552</td>\n",
       "      <td>281298.0</td>\n",
       "      <td>2905489</td>\n",
       "      <td>353571</td>\n",
       "      <td>1677212</td>\n",
       "      <td>874706</td>\n",
       "      <td>10.328865</td>\n",
       "      <td>WV</td>\n",
       "    </tr>\n",
       "    <tr>\n",
       "      <th>24</th>\n",
       "      <td>2009</td>\n",
       "      <td>Arizona</td>\n",
       "      <td>277.332282</td>\n",
       "      <td>257.595276</td>\n",
       "      <td>981303.0</td>\n",
       "      <td>8802515</td>\n",
       "      <td>1044140</td>\n",
       "      <td>3806064</td>\n",
       "      <td>3952311</td>\n",
       "      <td>8.970231</td>\n",
       "      <td>AZ</td>\n",
       "    </tr>\n",
       "    <tr>\n",
       "      <th>25</th>\n",
       "      <td>2009</td>\n",
       "      <td>West Virginia</td>\n",
       "      <td>270.415766</td>\n",
       "      <td>254.799747</td>\n",
       "      <td>281908.0</td>\n",
       "      <td>3097212</td>\n",
       "      <td>355325</td>\n",
       "      <td>1793917</td>\n",
       "      <td>947970</td>\n",
       "      <td>10.986606</td>\n",
       "      <td>WV</td>\n",
       "    </tr>\n",
       "    <tr>\n",
       "      <th>26</th>\n",
       "      <td>2009</td>\n",
       "      <td>Virginia</td>\n",
       "      <td>286.069755</td>\n",
       "      <td>265.641982</td>\n",
       "      <td>1235064.0</td>\n",
       "      <td>15251481</td>\n",
       "      <td>914507</td>\n",
       "      <td>6317714</td>\n",
       "      <td>8019260</td>\n",
       "      <td>12.348737</td>\n",
       "      <td>VA</td>\n",
       "    </tr>\n",
       "    <tr>\n",
       "      <th>27</th>\n",
       "      <td>2009</td>\n",
       "      <td>South Carolina</td>\n",
       "      <td>280.380855</td>\n",
       "      <td>257.274185</td>\n",
       "      <td>714290.0</td>\n",
       "      <td>7669733</td>\n",
       "      <td>734602</td>\n",
       "      <td>3654658</td>\n",
       "      <td>3280473</td>\n",
       "      <td>10.737562</td>\n",
       "      <td>SC</td>\n",
       "    </tr>\n",
       "    <tr>\n",
       "      <th>28</th>\n",
       "      <td>2009</td>\n",
       "      <td>Oklahoma</td>\n",
       "      <td>275.711957</td>\n",
       "      <td>259.495771</td>\n",
       "      <td>644549.0</td>\n",
       "      <td>6029807</td>\n",
       "      <td>768972</td>\n",
       "      <td>3014993</td>\n",
       "      <td>2245842</td>\n",
       "      <td>9.355079</td>\n",
       "      <td>OK</td>\n",
       "    </tr>\n",
       "    <tr>\n",
       "      <th>29</th>\n",
       "      <td>2009</td>\n",
       "      <td>North Carolina</td>\n",
       "      <td>284.332635</td>\n",
       "      <td>259.528487</td>\n",
       "      <td>1452064.0</td>\n",
       "      <td>15410564</td>\n",
       "      <td>1377661</td>\n",
       "      <td>8229140</td>\n",
       "      <td>5803763</td>\n",
       "      <td>10.612868</td>\n",
       "      <td>NC</td>\n",
       "    </tr>\n",
       "    <tr>\n",
       "      <th>...</th>\n",
       "      <td>...</td>\n",
       "      <td>...</td>\n",
       "      <td>...</td>\n",
       "      <td>...</td>\n",
       "      <td>...</td>\n",
       "      <td>...</td>\n",
       "      <td>...</td>\n",
       "      <td>...</td>\n",
       "      <td>...</td>\n",
       "      <td>...</td>\n",
       "      <td>...</td>\n",
       "    </tr>\n",
       "    <tr>\n",
       "      <th>34</th>\n",
       "      <td>2011</td>\n",
       "      <td>Oklahoma</td>\n",
       "      <td>279.179608</td>\n",
       "      <td>260.121265</td>\n",
       "      <td>658163.0</td>\n",
       "      <td>5835133</td>\n",
       "      <td>968529</td>\n",
       "      <td>2741058</td>\n",
       "      <td>2125546</td>\n",
       "      <td>8.865787</td>\n",
       "      <td>OK</td>\n",
       "    </tr>\n",
       "    <tr>\n",
       "      <th>35</th>\n",
       "      <td>2011</td>\n",
       "      <td>North Carolina</td>\n",
       "      <td>286.267028</td>\n",
       "      <td>262.928956</td>\n",
       "      <td>1448117.0</td>\n",
       "      <td>14409515</td>\n",
       "      <td>2046954</td>\n",
       "      <td>7488570</td>\n",
       "      <td>4873991</td>\n",
       "      <td>9.950519</td>\n",
       "      <td>NC</td>\n",
       "    </tr>\n",
       "    <tr>\n",
       "      <th>36</th>\n",
       "      <td>2011</td>\n",
       "      <td>Kentucky</td>\n",
       "      <td>281.608810</td>\n",
       "      <td>268.833964</td>\n",
       "      <td>672958.0</td>\n",
       "      <td>7104589</td>\n",
       "      <td>1164688</td>\n",
       "      <td>3704150</td>\n",
       "      <td>2235751</td>\n",
       "      <td>10.557255</td>\n",
       "      <td>KY</td>\n",
       "    </tr>\n",
       "    <tr>\n",
       "      <th>37</th>\n",
       "      <td>2011</td>\n",
       "      <td>Colorado</td>\n",
       "      <td>291.742673</td>\n",
       "      <td>270.636204</td>\n",
       "      <td>834832.0</td>\n",
       "      <td>8747471</td>\n",
       "      <td>969288</td>\n",
       "      <td>3493923</td>\n",
       "      <td>4284260</td>\n",
       "      <td>10.478121</td>\n",
       "      <td>CO</td>\n",
       "    </tr>\n",
       "    <tr>\n",
       "      <th>38</th>\n",
       "      <td>2011</td>\n",
       "      <td>Arizona</td>\n",
       "      <td>279.033502</td>\n",
       "      <td>260.148005</td>\n",
       "      <td>946571.0</td>\n",
       "      <td>8429186</td>\n",
       "      <td>1245814</td>\n",
       "      <td>3054501</td>\n",
       "      <td>4128871</td>\n",
       "      <td>8.904970</td>\n",
       "      <td>AZ</td>\n",
       "    </tr>\n",
       "    <tr>\n",
       "      <th>39</th>\n",
       "      <td>2011</td>\n",
       "      <td>Virginia</td>\n",
       "      <td>289.255411</td>\n",
       "      <td>267.272891</td>\n",
       "      <td>1250852.0</td>\n",
       "      <td>14655345</td>\n",
       "      <td>1427301</td>\n",
       "      <td>5351177</td>\n",
       "      <td>7876867</td>\n",
       "      <td>11.716290</td>\n",
       "      <td>VA</td>\n",
       "    </tr>\n",
       "    <tr>\n",
       "      <th>40</th>\n",
       "      <td>2013</td>\n",
       "      <td>Arizona</td>\n",
       "      <td>279.722268</td>\n",
       "      <td>260.448287</td>\n",
       "      <td>941726.0</td>\n",
       "      <td>8164324</td>\n",
       "      <td>1178356</td>\n",
       "      <td>2934165</td>\n",
       "      <td>4051803</td>\n",
       "      <td>8.669532</td>\n",
       "      <td>AZ</td>\n",
       "    </tr>\n",
       "    <tr>\n",
       "      <th>41</th>\n",
       "      <td>2013</td>\n",
       "      <td>Colorado</td>\n",
       "      <td>289.681800</td>\n",
       "      <td>271.009087</td>\n",
       "      <td>851063.0</td>\n",
       "      <td>8826868</td>\n",
       "      <td>696266</td>\n",
       "      <td>3693829</td>\n",
       "      <td>4436773</td>\n",
       "      <td>10.371580</td>\n",
       "      <td>CO</td>\n",
       "    </tr>\n",
       "    <tr>\n",
       "      <th>42</th>\n",
       "      <td>2013</td>\n",
       "      <td>Kentucky</td>\n",
       "      <td>280.645443</td>\n",
       "      <td>269.616472</td>\n",
       "      <td>685009.0</td>\n",
       "      <td>7216175</td>\n",
       "      <td>867735</td>\n",
       "      <td>3960822</td>\n",
       "      <td>2387618</td>\n",
       "      <td>10.534424</td>\n",
       "      <td>KY</td>\n",
       "    </tr>\n",
       "    <tr>\n",
       "      <th>43</th>\n",
       "      <td>2013</td>\n",
       "      <td>South Carolina</td>\n",
       "      <td>279.824609</td>\n",
       "      <td>261.449051</td>\n",
       "      <td>722249.0</td>\n",
       "      <td>8254462</td>\n",
       "      <td>814137</td>\n",
       "      <td>3819285</td>\n",
       "      <td>3621040</td>\n",
       "      <td>11.428831</td>\n",
       "      <td>SC</td>\n",
       "    </tr>\n",
       "    <tr>\n",
       "      <th>44</th>\n",
       "      <td>2013</td>\n",
       "      <td>Oklahoma</td>\n",
       "      <td>275.506732</td>\n",
       "      <td>261.931495</td>\n",
       "      <td>671445.0</td>\n",
       "      <td>5878111</td>\n",
       "      <td>715944</td>\n",
       "      <td>2890048</td>\n",
       "      <td>2272119</td>\n",
       "      <td>8.754419</td>\n",
       "      <td>OK</td>\n",
       "    </tr>\n",
       "    <tr>\n",
       "      <th>45</th>\n",
       "      <td>2013</td>\n",
       "      <td>Virginia</td>\n",
       "      <td>288.142960</td>\n",
       "      <td>267.589864</td>\n",
       "      <td>1264880.0</td>\n",
       "      <td>15322318</td>\n",
       "      <td>1108879</td>\n",
       "      <td>5874323</td>\n",
       "      <td>8339116</td>\n",
       "      <td>12.113653</td>\n",
       "      <td>VA</td>\n",
       "    </tr>\n",
       "    <tr>\n",
       "      <th>46</th>\n",
       "      <td>2013</td>\n",
       "      <td>West Virginia</td>\n",
       "      <td>274.430135</td>\n",
       "      <td>257.383509</td>\n",
       "      <td>282310.0</td>\n",
       "      <td>3486366</td>\n",
       "      <td>383169</td>\n",
       "      <td>2027414</td>\n",
       "      <td>1075783</td>\n",
       "      <td>12.349424</td>\n",
       "      <td>WV</td>\n",
       "    </tr>\n",
       "    <tr>\n",
       "      <th>47</th>\n",
       "      <td>2013</td>\n",
       "      <td>North Carolina</td>\n",
       "      <td>285.645388</td>\n",
       "      <td>264.541000</td>\n",
       "      <td>1468228.0</td>\n",
       "      <td>12729402</td>\n",
       "      <td>1579889</td>\n",
       "      <td>7891977</td>\n",
       "      <td>3257536</td>\n",
       "      <td>8.669908</td>\n",
       "      <td>NC</td>\n",
       "    </tr>\n",
       "    <tr>\n",
       "      <th>48</th>\n",
       "      <td>2015</td>\n",
       "      <td>Colorado</td>\n",
       "      <td>285.539189</td>\n",
       "      <td>268.073225</td>\n",
       "      <td>872320.0</td>\n",
       "      <td>9648297</td>\n",
       "      <td>715254</td>\n",
       "      <td>4354525</td>\n",
       "      <td>4578518</td>\n",
       "      <td>11.060502</td>\n",
       "      <td>CO</td>\n",
       "    </tr>\n",
       "    <tr>\n",
       "      <th>49</th>\n",
       "      <td>2015</td>\n",
       "      <td>Arizona</td>\n",
       "      <td>282.919489</td>\n",
       "      <td>262.769392</td>\n",
       "      <td>944978.0</td>\n",
       "      <td>8230507</td>\n",
       "      <td>1093834</td>\n",
       "      <td>3232013</td>\n",
       "      <td>3904660</td>\n",
       "      <td>8.709734</td>\n",
       "      <td>AZ</td>\n",
       "    </tr>\n",
       "    <tr>\n",
       "      <th>50</th>\n",
       "      <td>2015</td>\n",
       "      <td>Kentucky</td>\n",
       "      <td>277.947260</td>\n",
       "      <td>267.772900</td>\n",
       "      <td>688475.0</td>\n",
       "      <td>7548871</td>\n",
       "      <td>848963</td>\n",
       "      <td>4176753</td>\n",
       "      <td>2523155</td>\n",
       "      <td>10.964626</td>\n",
       "      <td>KY</td>\n",
       "    </tr>\n",
       "    <tr>\n",
       "      <th>51</th>\n",
       "      <td>2015</td>\n",
       "      <td>Virginia</td>\n",
       "      <td>287.709299</td>\n",
       "      <td>266.836053</td>\n",
       "      <td>1279867.0</td>\n",
       "      <td>15857524</td>\n",
       "      <td>1012205</td>\n",
       "      <td>6240349</td>\n",
       "      <td>8604970</td>\n",
       "      <td>12.389978</td>\n",
       "      <td>VA</td>\n",
       "    </tr>\n",
       "    <tr>\n",
       "      <th>52</th>\n",
       "      <td>2015</td>\n",
       "      <td>Oklahoma</td>\n",
       "      <td>274.585982</td>\n",
       "      <td>262.673146</td>\n",
       "      <td>671715.0</td>\n",
       "      <td>6121188</td>\n",
       "      <td>688990</td>\n",
       "      <td>2993050</td>\n",
       "      <td>2439148</td>\n",
       "      <td>9.112776</td>\n",
       "      <td>OK</td>\n",
       "    </tr>\n",
       "    <tr>\n",
       "      <th>53</th>\n",
       "      <td>2015</td>\n",
       "      <td>South Carolina</td>\n",
       "      <td>275.827866</td>\n",
       "      <td>260.331423</td>\n",
       "      <td>737401.0</td>\n",
       "      <td>8759944</td>\n",
       "      <td>836137</td>\n",
       "      <td>4094766</td>\n",
       "      <td>3829041</td>\n",
       "      <td>11.879485</td>\n",
       "      <td>SC</td>\n",
       "    </tr>\n",
       "    <tr>\n",
       "      <th>54</th>\n",
       "      <td>2015</td>\n",
       "      <td>West Virginia</td>\n",
       "      <td>271.450709</td>\n",
       "      <td>260.185273</td>\n",
       "      <td>279565.0</td>\n",
       "      <td>3478401</td>\n",
       "      <td>362959</td>\n",
       "      <td>1979466</td>\n",
       "      <td>1135976</td>\n",
       "      <td>12.442191</td>\n",
       "      <td>WV</td>\n",
       "    </tr>\n",
       "    <tr>\n",
       "      <th>55</th>\n",
       "      <td>2015</td>\n",
       "      <td>North Carolina</td>\n",
       "      <td>281.331091</td>\n",
       "      <td>260.594557</td>\n",
       "      <td>1465031.0</td>\n",
       "      <td>13146934</td>\n",
       "      <td>1589570</td>\n",
       "      <td>8172685</td>\n",
       "      <td>3384679</td>\n",
       "      <td>8.973826</td>\n",
       "      <td>NC</td>\n",
       "    </tr>\n",
       "    <tr>\n",
       "      <th>56</th>\n",
       "      <td>2017</td>\n",
       "      <td>West Virginia</td>\n",
       "      <td>273.415854</td>\n",
       "      <td>258.700304</td>\n",
       "      <td>273170.0</td>\n",
       "      <td>3476338</td>\n",
       "      <td>403856</td>\n",
       "      <td>1872045</td>\n",
       "      <td>1200437</td>\n",
       "      <td>12.725914</td>\n",
       "      <td>WV</td>\n",
       "    </tr>\n",
       "    <tr>\n",
       "      <th>57</th>\n",
       "      <td>2017</td>\n",
       "      <td>Virginia</td>\n",
       "      <td>290.081407</td>\n",
       "      <td>267.744778</td>\n",
       "      <td>1286711.0</td>\n",
       "      <td>16529157</td>\n",
       "      <td>1131679</td>\n",
       "      <td>6565670</td>\n",
       "      <td>8831808</td>\n",
       "      <td>12.846052</td>\n",
       "      <td>VA</td>\n",
       "    </tr>\n",
       "    <tr>\n",
       "      <th>58</th>\n",
       "      <td>2017</td>\n",
       "      <td>South Carolina</td>\n",
       "      <td>274.673821</td>\n",
       "      <td>259.753002</td>\n",
       "      <td>747868.0</td>\n",
       "      <td>9726983</td>\n",
       "      <td>854322</td>\n",
       "      <td>4624270</td>\n",
       "      <td>4248391</td>\n",
       "      <td>13.006283</td>\n",
       "      <td>SC</td>\n",
       "    </tr>\n",
       "    <tr>\n",
       "      <th>59</th>\n",
       "      <td>2017</td>\n",
       "      <td>Oklahoma</td>\n",
       "      <td>274.688883</td>\n",
       "      <td>261.236934</td>\n",
       "      <td>669462.0</td>\n",
       "      <td>6165537</td>\n",
       "      <td>686087</td>\n",
       "      <td>2870552</td>\n",
       "      <td>2608898</td>\n",
       "      <td>9.209689</td>\n",
       "      <td>OK</td>\n",
       "    </tr>\n",
       "    <tr>\n",
       "      <th>60</th>\n",
       "      <td>2017</td>\n",
       "      <td>North Carolina</td>\n",
       "      <td>281.926028</td>\n",
       "      <td>262.720477</td>\n",
       "      <td>1457600.0</td>\n",
       "      <td>13975840</td>\n",
       "      <td>1562965</td>\n",
       "      <td>8596449</td>\n",
       "      <td>3816426</td>\n",
       "      <td>9.588255</td>\n",
       "      <td>NC</td>\n",
       "    </tr>\n",
       "    <tr>\n",
       "      <th>61</th>\n",
       "      <td>2017</td>\n",
       "      <td>Kentucky</td>\n",
       "      <td>277.714162</td>\n",
       "      <td>265.133438</td>\n",
       "      <td>683864.0</td>\n",
       "      <td>7917769</td>\n",
       "      <td>911061</td>\n",
       "      <td>4330473</td>\n",
       "      <td>2676235</td>\n",
       "      <td>11.577988</td>\n",
       "      <td>KY</td>\n",
       "    </tr>\n",
       "    <tr>\n",
       "      <th>62</th>\n",
       "      <td>2017</td>\n",
       "      <td>Colorado</td>\n",
       "      <td>286.247718</td>\n",
       "      <td>270.338688</td>\n",
       "      <td>885492.0</td>\n",
       "      <td>10383949</td>\n",
       "      <td>697569</td>\n",
       "      <td>4479341</td>\n",
       "      <td>5207039</td>\n",
       "      <td>11.726756</td>\n",
       "      <td>CO</td>\n",
       "    </tr>\n",
       "    <tr>\n",
       "      <th>63</th>\n",
       "      <td>2017</td>\n",
       "      <td>Arizona</td>\n",
       "      <td>282.248145</td>\n",
       "      <td>262.957457</td>\n",
       "      <td>936147.0</td>\n",
       "      <td>8601449</td>\n",
       "      <td>1178196</td>\n",
       "      <td>3446191</td>\n",
       "      <td>3977062</td>\n",
       "      <td>9.188139</td>\n",
       "      <td>AZ</td>\n",
       "    </tr>\n",
       "  </tbody>\n",
       "</table>\n",
       "<p>64 rows × 11 columns</p>\n",
       "</div>"
      ],
      "text/plain": [
       "    Year           State  AverageMathScore  AverageReadingScore  \\\n",
       "0   2003   West Virginia        270.770353           259.564238   \n",
       "1   2003         Arizona        271.177350           255.320115   \n",
       "2   2003        Colorado        283.399858           267.592641   \n",
       "3   2003        Kentucky        274.278472           266.191435   \n",
       "4   2003        Virginia        281.676643           268.004817   \n",
       "5   2003        Oklahoma        271.905151           261.719961   \n",
       "6   2003  South Carolina        277.300450           258.088991   \n",
       "7   2003  North Carolina        281.240351           261.711645   \n",
       "8   2005   West Virginia        269.099493           255.073380   \n",
       "9   2005        Virginia        284.371628           267.808967   \n",
       "10  2005  South Carolina        281.234321           257.169105   \n",
       "11  2005        Oklahoma        271.359902           259.631360   \n",
       "12  2005  North Carolina        281.825137           258.160186   \n",
       "13  2005        Kentucky        273.983027           263.938418   \n",
       "14  2005        Colorado        280.824007           264.758106   \n",
       "15  2005         Arizona        274.305090           254.787938   \n",
       "16  2007         Arizona        275.548426           254.828792   \n",
       "17  2007        Colorado        286.192756           266.407882   \n",
       "18  2007        Kentucky        278.704750           261.965951   \n",
       "19  2007        Oklahoma        274.534989           259.547225   \n",
       "20  2007  South Carolina        281.503602           257.421203   \n",
       "21  2007        Virginia        287.625905           266.878737   \n",
       "22  2007  North Carolina        283.880669           259.136703   \n",
       "23  2007   West Virginia        270.084094           254.998552   \n",
       "24  2009         Arizona        277.332282           257.595276   \n",
       "25  2009   West Virginia        270.415766           254.799747   \n",
       "26  2009        Virginia        286.069755           265.641982   \n",
       "27  2009  South Carolina        280.380855           257.274185   \n",
       "28  2009        Oklahoma        275.711957           259.495771   \n",
       "29  2009  North Carolina        284.332635           259.528487   \n",
       "..   ...             ...               ...                  ...   \n",
       "34  2011        Oklahoma        279.179608           260.121265   \n",
       "35  2011  North Carolina        286.267028           262.928956   \n",
       "36  2011        Kentucky        281.608810           268.833964   \n",
       "37  2011        Colorado        291.742673           270.636204   \n",
       "38  2011         Arizona        279.033502           260.148005   \n",
       "39  2011        Virginia        289.255411           267.272891   \n",
       "40  2013         Arizona        279.722268           260.448287   \n",
       "41  2013        Colorado        289.681800           271.009087   \n",
       "42  2013        Kentucky        280.645443           269.616472   \n",
       "43  2013  South Carolina        279.824609           261.449051   \n",
       "44  2013        Oklahoma        275.506732           261.931495   \n",
       "45  2013        Virginia        288.142960           267.589864   \n",
       "46  2013   West Virginia        274.430135           257.383509   \n",
       "47  2013  North Carolina        285.645388           264.541000   \n",
       "48  2015        Colorado        285.539189           268.073225   \n",
       "49  2015         Arizona        282.919489           262.769392   \n",
       "50  2015        Kentucky        277.947260           267.772900   \n",
       "51  2015        Virginia        287.709299           266.836053   \n",
       "52  2015        Oklahoma        274.585982           262.673146   \n",
       "53  2015  South Carolina        275.827866           260.331423   \n",
       "54  2015   West Virginia        271.450709           260.185273   \n",
       "55  2015  North Carolina        281.331091           260.594557   \n",
       "56  2017   West Virginia        273.415854           258.700304   \n",
       "57  2017        Virginia        290.081407           267.744778   \n",
       "58  2017  South Carolina        274.673821           259.753002   \n",
       "59  2017        Oklahoma        274.688883           261.236934   \n",
       "60  2017  North Carolina        281.926028           262.720477   \n",
       "61  2017        Kentucky        277.714162           265.133438   \n",
       "62  2017        Colorado        286.247718           270.338688   \n",
       "63  2017         Arizona        282.248145           262.957457   \n",
       "\n",
       "    StudentsEnrolled  TotalFunding  FederalFunding StateFunding  LocalFunding  \\\n",
       "0           281591.0       2497707          267470      1519848        710389   \n",
       "1           875111.0       6529894          740579      2912629       2876686   \n",
       "2           751049.0       6297242          400219      2715219       3181804   \n",
       "3           660782.0       4872025          503734      2904331       1463960   \n",
       "4          1175458.0      10504167          698716      4087720       5717731   \n",
       "5           624202.0       4426835          563974      2272785       1590076   \n",
       "6           691736.0       5709707          535356      2761951       2412400   \n",
       "7          1314632.0       9907235          888996      5970302       3047937   \n",
       "8           279456.0       2701056          329159      1607433        764464   \n",
       "9          1203697.0      12182657          826830      4871813       6484014   \n",
       "10          701176.0       6337711          639308      2832245       2866158   \n",
       "11          629145.0       4892548          678448      2440741       1773359   \n",
       "12         1347177.0      11098165         1116670      6440768       3540727   \n",
       "13          674502.0       5444309          646215      3121503       1676591   \n",
       "14          765388.0       6910296          472246      2954915       3483135   \n",
       "15          919875.0       7550109          897553      3320196       3332360   \n",
       "16          969875.0       8724434          953861      4204089       3566484   \n",
       "17          790211.0       7689014          529854      3307016       3852144   \n",
       "18          646360.0       6226696          677570      3557084       1992042   \n",
       "19          639032.0       5491931          650579      2782356       2058996   \n",
       "20          701580.0       7130274          680718      3120416       3329140   \n",
       "21         1220440.0      14176385          890144      5796043       7490198   \n",
       "22         1416028.0      13063307         1184934      7481148       4397225   \n",
       "23          281298.0       2905489          353571      1677212        874706   \n",
       "24          981303.0       8802515         1044140      3806064       3952311   \n",
       "25          281908.0       3097212          355325      1793917        947970   \n",
       "26         1235064.0      15251481          914507      6317714       8019260   \n",
       "27          714290.0       7669733          734602      3654658       3280473   \n",
       "28          644549.0       6029807          768972      3014993       2245842   \n",
       "29         1452064.0      15410564         1377661      8229140       5803763   \n",
       "..               ...           ...             ...          ...           ...   \n",
       "34          658163.0       5835133          968529      2741058       2125546   \n",
       "35         1448117.0      14409515         2046954      7488570       4873991   \n",
       "36          672958.0       7104589         1164688      3704150       2235751   \n",
       "37          834832.0       8747471          969288      3493923       4284260   \n",
       "38          946571.0       8429186         1245814      3054501       4128871   \n",
       "39         1250852.0      14655345         1427301      5351177       7876867   \n",
       "40          941726.0       8164324         1178356      2934165       4051803   \n",
       "41          851063.0       8826868          696266      3693829       4436773   \n",
       "42          685009.0       7216175          867735      3960822       2387618   \n",
       "43          722249.0       8254462          814137      3819285       3621040   \n",
       "44          671445.0       5878111          715944      2890048       2272119   \n",
       "45         1264880.0      15322318         1108879      5874323       8339116   \n",
       "46          282310.0       3486366          383169      2027414       1075783   \n",
       "47         1468228.0      12729402         1579889      7891977       3257536   \n",
       "48          872320.0       9648297          715254      4354525       4578518   \n",
       "49          944978.0       8230507         1093834      3232013       3904660   \n",
       "50          688475.0       7548871          848963      4176753       2523155   \n",
       "51         1279867.0      15857524         1012205      6240349       8604970   \n",
       "52          671715.0       6121188          688990      2993050       2439148   \n",
       "53          737401.0       8759944          836137      4094766       3829041   \n",
       "54          279565.0       3478401          362959      1979466       1135976   \n",
       "55         1465031.0      13146934         1589570      8172685       3384679   \n",
       "56          273170.0       3476338          403856      1872045       1200437   \n",
       "57         1286711.0      16529157         1131679      6565670       8831808   \n",
       "58          747868.0       9726983          854322      4624270       4248391   \n",
       "59          669462.0       6165537          686087      2870552       2608898   \n",
       "60         1457600.0      13975840         1562965      8596449       3816426   \n",
       "61          683864.0       7917769          911061      4330473       2676235   \n",
       "62          885492.0      10383949          697569      4479341       5207039   \n",
       "63          936147.0       8601449         1178196      3446191       3977062   \n",
       "\n",
       "    DollarsPerStudent Abbreviation  \n",
       "0            8.869982           WV  \n",
       "1            7.461789           AZ  \n",
       "2            8.384595           CO  \n",
       "3            7.373120           KY  \n",
       "4            8.936233           VA  \n",
       "5            7.091991           OK  \n",
       "6            8.254171           SC  \n",
       "7            7.536128           NC  \n",
       "8            9.665407           WV  \n",
       "9           10.121033           VA  \n",
       "10           9.038688           SC  \n",
       "11           7.776503           OK  \n",
       "12           8.238090           NC  \n",
       "13           8.071598           KY  \n",
       "14           9.028488           CO  \n",
       "15           8.207755           AZ  \n",
       "16           8.995421           AZ  \n",
       "17           9.730330           CO  \n",
       "18           9.633480           KY  \n",
       "19           8.594141           OK  \n",
       "20          10.163166           SC  \n",
       "21          11.615798           VA  \n",
       "22           9.225317           NC  \n",
       "23          10.328865           WV  \n",
       "24           8.970231           AZ  \n",
       "25          10.986606           WV  \n",
       "26          12.348737           VA  \n",
       "27          10.737562           SC  \n",
       "28           9.355079           OK  \n",
       "29          10.612868           NC  \n",
       "..                ...          ...  \n",
       "34           8.865787           OK  \n",
       "35           9.950519           NC  \n",
       "36          10.557255           KY  \n",
       "37          10.478121           CO  \n",
       "38           8.904970           AZ  \n",
       "39          11.716290           VA  \n",
       "40           8.669532           AZ  \n",
       "41          10.371580           CO  \n",
       "42          10.534424           KY  \n",
       "43          11.428831           SC  \n",
       "44           8.754419           OK  \n",
       "45          12.113653           VA  \n",
       "46          12.349424           WV  \n",
       "47           8.669908           NC  \n",
       "48          11.060502           CO  \n",
       "49           8.709734           AZ  \n",
       "50          10.964626           KY  \n",
       "51          12.389978           VA  \n",
       "52           9.112776           OK  \n",
       "53          11.879485           SC  \n",
       "54          12.442191           WV  \n",
       "55           8.973826           NC  \n",
       "56          12.725914           WV  \n",
       "57          12.846052           VA  \n",
       "58          13.006283           SC  \n",
       "59           9.209689           OK  \n",
       "60           9.588255           NC  \n",
       "61          11.577988           KY  \n",
       "62          11.726756           CO  \n",
       "63           9.188139           AZ  \n",
       "\n",
       "[64 rows x 11 columns]"
      ]
     },
     "execution_count": 457,
     "metadata": {},
     "output_type": "execute_result"
    }
   ],
   "source": [
    "# Create subset of overall dataset including only protest states. Reset index\n",
    "protest_states_scores_and_funding = scores_and_funding.loc[scores_and_funding[\"State\"].isin(protest_states)].reset_index(drop=True)\n",
    "protest_states_scores_and_funding.head()\n",
    "# Sort values by year in ascending order\n",
    "protest_states_scores_and_funding = protest_states_scores_and_funding.sort_values(by=[\"Year\"]).reset_index(drop=True)\n",
    "# Read in State Abbreviations CSV\n",
    "state_Abbrs = pd.read_csv(\"data/stateAbbrs.csv\")\n",
    "# Drop unnecessary columns\n",
    "state_Abbrs = state_Abbrs[[\"State\",\"Abbreviation\"]]\n",
    "# Merge Abbrs to scores and funding dataset\n",
    "protest_states_scores_and_funding = pd.merge(protest_states_scores_and_funding,state_Abbrs,on=\"State\",how=\"left\")\n",
    "protest_states_scores_and_funding\n"
   ]
  },
  {
   "cell_type": "code",
   "execution_count": 458,
   "metadata": {},
   "outputs": [
    {
     "data": {
      "text/html": [
       "<div>\n",
       "<style scoped>\n",
       "    .dataframe tbody tr th:only-of-type {\n",
       "        vertical-align: middle;\n",
       "    }\n",
       "\n",
       "    .dataframe tbody tr th {\n",
       "        vertical-align: top;\n",
       "    }\n",
       "\n",
       "    .dataframe thead th {\n",
       "        text-align: right;\n",
       "    }\n",
       "</style>\n",
       "<table border=\"1\" class=\"dataframe\">\n",
       "  <thead>\n",
       "    <tr style=\"text-align: right;\">\n",
       "      <th></th>\n",
       "      <th>Year</th>\n",
       "      <th>State</th>\n",
       "      <th>AverageMathScore</th>\n",
       "      <th>AverageReadingScore</th>\n",
       "      <th>StudentsEnrolled</th>\n",
       "      <th>TotalFunding</th>\n",
       "      <th>DollarsPerStudent</th>\n",
       "      <th>Abbreviation</th>\n",
       "    </tr>\n",
       "  </thead>\n",
       "  <tbody>\n",
       "    <tr>\n",
       "      <th>0</th>\n",
       "      <td>2003</td>\n",
       "      <td>West Virginia</td>\n",
       "      <td>270.770353</td>\n",
       "      <td>259.564238</td>\n",
       "      <td>281591.0</td>\n",
       "      <td>2497707</td>\n",
       "      <td>8.869982</td>\n",
       "      <td>WV</td>\n",
       "    </tr>\n",
       "    <tr>\n",
       "      <th>1</th>\n",
       "      <td>2003</td>\n",
       "      <td>Arizona</td>\n",
       "      <td>271.177350</td>\n",
       "      <td>255.320115</td>\n",
       "      <td>875111.0</td>\n",
       "      <td>6529894</td>\n",
       "      <td>7.461789</td>\n",
       "      <td>AZ</td>\n",
       "    </tr>\n",
       "    <tr>\n",
       "      <th>2</th>\n",
       "      <td>2003</td>\n",
       "      <td>Colorado</td>\n",
       "      <td>283.399858</td>\n",
       "      <td>267.592641</td>\n",
       "      <td>751049.0</td>\n",
       "      <td>6297242</td>\n",
       "      <td>8.384595</td>\n",
       "      <td>CO</td>\n",
       "    </tr>\n",
       "    <tr>\n",
       "      <th>3</th>\n",
       "      <td>2003</td>\n",
       "      <td>Kentucky</td>\n",
       "      <td>274.278472</td>\n",
       "      <td>266.191435</td>\n",
       "      <td>660782.0</td>\n",
       "      <td>4872025</td>\n",
       "      <td>7.373120</td>\n",
       "      <td>KY</td>\n",
       "    </tr>\n",
       "    <tr>\n",
       "      <th>4</th>\n",
       "      <td>2003</td>\n",
       "      <td>Virginia</td>\n",
       "      <td>281.676643</td>\n",
       "      <td>268.004817</td>\n",
       "      <td>1175458.0</td>\n",
       "      <td>10504167</td>\n",
       "      <td>8.936233</td>\n",
       "      <td>VA</td>\n",
       "    </tr>\n",
       "  </tbody>\n",
       "</table>\n",
       "</div>"
      ],
      "text/plain": [
       "   Year          State  AverageMathScore  AverageReadingScore  \\\n",
       "0  2003  West Virginia        270.770353           259.564238   \n",
       "1  2003        Arizona        271.177350           255.320115   \n",
       "2  2003       Colorado        283.399858           267.592641   \n",
       "3  2003       Kentucky        274.278472           266.191435   \n",
       "4  2003       Virginia        281.676643           268.004817   \n",
       "\n",
       "   StudentsEnrolled  TotalFunding  DollarsPerStudent Abbreviation  \n",
       "0          281591.0       2497707           8.869982           WV  \n",
       "1          875111.0       6529894           7.461789           AZ  \n",
       "2          751049.0       6297242           8.384595           CO  \n",
       "3          660782.0       4872025           7.373120           KY  \n",
       "4         1175458.0      10504167           8.936233           VA  "
      ]
     },
     "execution_count": 458,
     "metadata": {},
     "output_type": "execute_result"
    }
   ],
   "source": [
    "protest_states_scores_and_funding = protest_states_scores_and_funding[[\"Year\",\"State\",\"AverageMathScore\",\"AverageReadingScore\",\"StudentsEnrolled\",\"TotalFunding\",\"DollarsPerStudent\",\"Abbreviation\"]]\n",
    "protest_states_scores_and_funding.head()"
   ]
  },
  {
   "cell_type": "code",
   "execution_count": 459,
   "metadata": {},
   "outputs": [
    {
     "data": {
      "application/vnd.plotly.v1+json": {
       "config": {
        "linkText": "Export to plot.ly",
        "plotlyServerURL": "https://plot.ly",
        "showLink": false
       },
       "data": [
        {
         "hoverlabel": {
          "namelength": 0
         },
         "hovertemplate": "<b>%{hovertext}</b><br><br>State=West Virginia<br>Year=2003<br>AverageMathScore=%{x}<br>DollarsPerStudent=%{marker.size}",
         "hovertext": [
          "West Virginia"
         ],
         "ids": [
          "West Virginia"
         ],
         "legendgroup": "State=West Virginia",
         "marker": {
          "color": "#636efa",
          "size": [
           8.869981640038212
          ],
          "sizemode": "area",
          "sizeref": 0.032515707985901254,
          "symbol": "circle"
         },
         "mode": "markers",
         "name": "State=West Virginia",
         "showlegend": true,
         "type": "scatter",
         "uid": "f385ce8b-c6c8-4cab-aed7-ec55cf99b6fa",
         "x": [
          270.7703534
         ],
         "xaxis": "x",
         "y": [
          8.869981640038212
         ],
         "yaxis": "y"
        },
        {
         "hoverlabel": {
          "namelength": 0
         },
         "hovertemplate": "<b>%{hovertext}</b><br><br>State=Arizona<br>Year=2003<br>AverageMathScore=%{x}<br>DollarsPerStudent=%{marker.size}",
         "hovertext": [
          "Arizona"
         ],
         "ids": [
          "Arizona"
         ],
         "legendgroup": "State=Arizona",
         "marker": {
          "color": "#EF553B",
          "size": [
           7.461789418713741
          ],
          "sizemode": "area",
          "sizeref": 0.032515707985901254,
          "symbol": "circle"
         },
         "mode": "markers",
         "name": "State=Arizona",
         "showlegend": true,
         "type": "scatter",
         "uid": "46ba27f1-52ca-4a07-a0cb-d5597283d717",
         "x": [
          271.1773505
         ],
         "xaxis": "x",
         "y": [
          7.461789418713741
         ],
         "yaxis": "y"
        },
        {
         "hoverlabel": {
          "namelength": 0
         },
         "hovertemplate": "<b>%{hovertext}</b><br><br>State=Colorado<br>Year=2003<br>AverageMathScore=%{x}<br>DollarsPerStudent=%{marker.size}",
         "hovertext": [
          "Colorado"
         ],
         "ids": [
          "Colorado"
         ],
         "legendgroup": "State=Colorado",
         "marker": {
          "color": "#00cc96",
          "size": [
           8.384595412549647
          ],
          "sizemode": "area",
          "sizeref": 0.032515707985901254,
          "symbol": "circle"
         },
         "mode": "markers",
         "name": "State=Colorado",
         "showlegend": true,
         "type": "scatter",
         "uid": "d5df0728-0073-4f44-b94f-e2766df5f727",
         "x": [
          283.3998585
         ],
         "xaxis": "x",
         "y": [
          8.384595412549647
         ],
         "yaxis": "y"
        },
        {
         "hoverlabel": {
          "namelength": 0
         },
         "hovertemplate": "<b>%{hovertext}</b><br><br>State=Kentucky<br>Year=2003<br>AverageMathScore=%{x}<br>DollarsPerStudent=%{marker.size}",
         "hovertext": [
          "Kentucky"
         ],
         "ids": [
          "Kentucky"
         ],
         "legendgroup": "State=Kentucky",
         "marker": {
          "color": "#ab63fa",
          "size": [
           7.373120030509305
          ],
          "sizemode": "area",
          "sizeref": 0.032515707985901254,
          "symbol": "circle"
         },
         "mode": "markers",
         "name": "State=Kentucky",
         "showlegend": true,
         "type": "scatter",
         "uid": "757f7a82-0325-44c0-bfdb-7bccf2eecffd",
         "x": [
          274.2784722
         ],
         "xaxis": "x",
         "y": [
          7.373120030509305
         ],
         "yaxis": "y"
        },
        {
         "hoverlabel": {
          "namelength": 0
         },
         "hovertemplate": "<b>%{hovertext}</b><br><br>State=Virginia<br>Year=2003<br>AverageMathScore=%{x}<br>DollarsPerStudent=%{marker.size}",
         "hovertext": [
          "Virginia"
         ],
         "ids": [
          "Virginia"
         ],
         "legendgroup": "State=Virginia",
         "marker": {
          "color": "#19d3f3",
          "size": [
           8.936233366058167
          ],
          "sizemode": "area",
          "sizeref": 0.032515707985901254,
          "symbol": "circle"
         },
         "mode": "markers",
         "name": "State=Virginia",
         "showlegend": true,
         "type": "scatter",
         "uid": "85d8830c-d8e7-423d-b670-170f2e83edd7",
         "x": [
          281.6766434
         ],
         "xaxis": "x",
         "y": [
          8.936233366058167
         ],
         "yaxis": "y"
        },
        {
         "hoverlabel": {
          "namelength": 0
         },
         "hovertemplate": "<b>%{hovertext}</b><br><br>State=Oklahoma<br>Year=2003<br>AverageMathScore=%{x}<br>DollarsPerStudent=%{marker.size}",
         "hovertext": [
          "Oklahoma"
         ],
         "ids": [
          "Oklahoma"
         ],
         "legendgroup": "State=Oklahoma",
         "marker": {
          "color": "#e763fa",
          "size": [
           7.091991054177974
          ],
          "sizemode": "area",
          "sizeref": 0.032515707985901254,
          "symbol": "circle"
         },
         "mode": "markers",
         "name": "State=Oklahoma",
         "showlegend": true,
         "type": "scatter",
         "uid": "c157ee9c-2352-4390-8327-42454e32702a",
         "x": [
          271.9051513
         ],
         "xaxis": "x",
         "y": [
          7.091991054177974
         ],
         "yaxis": "y"
        },
        {
         "hoverlabel": {
          "namelength": 0
         },
         "hovertemplate": "<b>%{hovertext}</b><br><br>State=South Carolina<br>Year=2003<br>AverageMathScore=%{x}<br>DollarsPerStudent=%{marker.size}",
         "hovertext": [
          "South Carolina"
         ],
         "ids": [
          "South Carolina"
         ],
         "legendgroup": "State=South Carolina",
         "marker": {
          "color": "#FECB52",
          "size": [
           8.254170666265743
          ],
          "sizemode": "area",
          "sizeref": 0.032515707985901254,
          "symbol": "circle"
         },
         "mode": "markers",
         "name": "State=South Carolina",
         "showlegend": true,
         "type": "scatter",
         "uid": "ec20bebc-e288-4745-8c5f-d54d78787dd1",
         "x": [
          277.3004496
         ],
         "xaxis": "x",
         "y": [
          8.254170666265743
         ],
         "yaxis": "y"
        },
        {
         "hoverlabel": {
          "namelength": 0
         },
         "hovertemplate": "<b>%{hovertext}</b><br><br>State=North Carolina<br>Year=2003<br>AverageMathScore=%{x}<br>DollarsPerStudent=%{marker.size}",
         "hovertext": [
          "North Carolina"
         ],
         "ids": [
          "North Carolina"
         ],
         "legendgroup": "State=North Carolina",
         "marker": {
          "color": "#FFA15A",
          "size": [
           7.536127981062381
          ],
          "sizemode": "area",
          "sizeref": 0.032515707985901254,
          "symbol": "circle"
         },
         "mode": "markers",
         "name": "State=North Carolina",
         "showlegend": true,
         "type": "scatter",
         "uid": "81cebe82-b0d3-425e-9de5-b740d1ec8af3",
         "x": [
          281.2403506
         ],
         "xaxis": "x",
         "y": [
          7.536127981062381
         ],
         "yaxis": "y"
        }
       ],
       "frames": [
        {
         "data": [
          {
           "hoverlabel": {
            "namelength": 0
           },
           "hovertemplate": "<b>%{hovertext}</b><br><br>State=West Virginia<br>Year=2003<br>AverageMathScore=%{x}<br>DollarsPerStudent=%{marker.size}",
           "hovertext": [
            "West Virginia"
           ],
           "ids": [
            "West Virginia"
           ],
           "legendgroup": "State=West Virginia",
           "marker": {
            "color": "#636efa",
            "size": [
             8.869981640038212
            ],
            "sizemode": "area",
            "sizeref": 0.032515707985901254,
            "symbol": "circle"
           },
           "mode": "markers",
           "name": "State=West Virginia",
           "showlegend": true,
           "type": "scatter",
           "x": [
            270.7703534
           ],
           "xaxis": "x",
           "y": [
            8.869981640038212
           ],
           "yaxis": "y"
          },
          {
           "hoverlabel": {
            "namelength": 0
           },
           "hovertemplate": "<b>%{hovertext}</b><br><br>State=Arizona<br>Year=2003<br>AverageMathScore=%{x}<br>DollarsPerStudent=%{marker.size}",
           "hovertext": [
            "Arizona"
           ],
           "ids": [
            "Arizona"
           ],
           "legendgroup": "State=Arizona",
           "marker": {
            "color": "#EF553B",
            "size": [
             7.461789418713741
            ],
            "sizemode": "area",
            "sizeref": 0.032515707985901254,
            "symbol": "circle"
           },
           "mode": "markers",
           "name": "State=Arizona",
           "showlegend": true,
           "type": "scatter",
           "x": [
            271.1773505
           ],
           "xaxis": "x",
           "y": [
            7.461789418713741
           ],
           "yaxis": "y"
          },
          {
           "hoverlabel": {
            "namelength": 0
           },
           "hovertemplate": "<b>%{hovertext}</b><br><br>State=Colorado<br>Year=2003<br>AverageMathScore=%{x}<br>DollarsPerStudent=%{marker.size}",
           "hovertext": [
            "Colorado"
           ],
           "ids": [
            "Colorado"
           ],
           "legendgroup": "State=Colorado",
           "marker": {
            "color": "#00cc96",
            "size": [
             8.384595412549647
            ],
            "sizemode": "area",
            "sizeref": 0.032515707985901254,
            "symbol": "circle"
           },
           "mode": "markers",
           "name": "State=Colorado",
           "showlegend": true,
           "type": "scatter",
           "x": [
            283.3998585
           ],
           "xaxis": "x",
           "y": [
            8.384595412549647
           ],
           "yaxis": "y"
          },
          {
           "hoverlabel": {
            "namelength": 0
           },
           "hovertemplate": "<b>%{hovertext}</b><br><br>State=Kentucky<br>Year=2003<br>AverageMathScore=%{x}<br>DollarsPerStudent=%{marker.size}",
           "hovertext": [
            "Kentucky"
           ],
           "ids": [
            "Kentucky"
           ],
           "legendgroup": "State=Kentucky",
           "marker": {
            "color": "#ab63fa",
            "size": [
             7.373120030509305
            ],
            "sizemode": "area",
            "sizeref": 0.032515707985901254,
            "symbol": "circle"
           },
           "mode": "markers",
           "name": "State=Kentucky",
           "showlegend": true,
           "type": "scatter",
           "x": [
            274.2784722
           ],
           "xaxis": "x",
           "y": [
            7.373120030509305
           ],
           "yaxis": "y"
          },
          {
           "hoverlabel": {
            "namelength": 0
           },
           "hovertemplate": "<b>%{hovertext}</b><br><br>State=Virginia<br>Year=2003<br>AverageMathScore=%{x}<br>DollarsPerStudent=%{marker.size}",
           "hovertext": [
            "Virginia"
           ],
           "ids": [
            "Virginia"
           ],
           "legendgroup": "State=Virginia",
           "marker": {
            "color": "#19d3f3",
            "size": [
             8.936233366058167
            ],
            "sizemode": "area",
            "sizeref": 0.032515707985901254,
            "symbol": "circle"
           },
           "mode": "markers",
           "name": "State=Virginia",
           "showlegend": true,
           "type": "scatter",
           "x": [
            281.6766434
           ],
           "xaxis": "x",
           "y": [
            8.936233366058167
           ],
           "yaxis": "y"
          },
          {
           "hoverlabel": {
            "namelength": 0
           },
           "hovertemplate": "<b>%{hovertext}</b><br><br>State=Oklahoma<br>Year=2003<br>AverageMathScore=%{x}<br>DollarsPerStudent=%{marker.size}",
           "hovertext": [
            "Oklahoma"
           ],
           "ids": [
            "Oklahoma"
           ],
           "legendgroup": "State=Oklahoma",
           "marker": {
            "color": "#e763fa",
            "size": [
             7.091991054177974
            ],
            "sizemode": "area",
            "sizeref": 0.032515707985901254,
            "symbol": "circle"
           },
           "mode": "markers",
           "name": "State=Oklahoma",
           "showlegend": true,
           "type": "scatter",
           "x": [
            271.9051513
           ],
           "xaxis": "x",
           "y": [
            7.091991054177974
           ],
           "yaxis": "y"
          },
          {
           "hoverlabel": {
            "namelength": 0
           },
           "hovertemplate": "<b>%{hovertext}</b><br><br>State=South Carolina<br>Year=2003<br>AverageMathScore=%{x}<br>DollarsPerStudent=%{marker.size}",
           "hovertext": [
            "South Carolina"
           ],
           "ids": [
            "South Carolina"
           ],
           "legendgroup": "State=South Carolina",
           "marker": {
            "color": "#FECB52",
            "size": [
             8.254170666265743
            ],
            "sizemode": "area",
            "sizeref": 0.032515707985901254,
            "symbol": "circle"
           },
           "mode": "markers",
           "name": "State=South Carolina",
           "showlegend": true,
           "type": "scatter",
           "x": [
            277.3004496
           ],
           "xaxis": "x",
           "y": [
            8.254170666265743
           ],
           "yaxis": "y"
          },
          {
           "hoverlabel": {
            "namelength": 0
           },
           "hovertemplate": "<b>%{hovertext}</b><br><br>State=North Carolina<br>Year=2003<br>AverageMathScore=%{x}<br>DollarsPerStudent=%{marker.size}",
           "hovertext": [
            "North Carolina"
           ],
           "ids": [
            "North Carolina"
           ],
           "legendgroup": "State=North Carolina",
           "marker": {
            "color": "#FFA15A",
            "size": [
             7.536127981062381
            ],
            "sizemode": "area",
            "sizeref": 0.032515707985901254,
            "symbol": "circle"
           },
           "mode": "markers",
           "name": "State=North Carolina",
           "showlegend": true,
           "type": "scatter",
           "x": [
            281.2403506
           ],
           "xaxis": "x",
           "y": [
            7.536127981062381
           ],
           "yaxis": "y"
          }
         ],
         "name": "2003"
        },
        {
         "data": [
          {
           "hoverlabel": {
            "namelength": 0
           },
           "hovertemplate": "<b>%{hovertext}</b><br><br>State=West Virginia<br>Year=2005<br>AverageMathScore=%{x}<br>DollarsPerStudent=%{marker.size}",
           "hovertext": [
            "West Virginia"
           ],
           "ids": [
            "West Virginia"
           ],
           "legendgroup": "State=West Virginia",
           "marker": {
            "color": "#636efa",
            "size": [
             9.665407076605977
            ],
            "sizemode": "area",
            "sizeref": 0.032515707985901254,
            "symbol": "circle"
           },
           "mode": "markers",
           "name": "State=West Virginia",
           "showlegend": true,
           "type": "scatter",
           "x": [
            269.0994928
           ],
           "xaxis": "x",
           "y": [
            9.665407076605977
           ],
           "yaxis": "y"
          },
          {
           "hoverlabel": {
            "namelength": 0
           },
           "hovertemplate": "<b>%{hovertext}</b><br><br>State=Arizona<br>Year=2005<br>AverageMathScore=%{x}<br>DollarsPerStudent=%{marker.size}",
           "hovertext": [
            "Arizona"
           ],
           "ids": [
            "Arizona"
           ],
           "legendgroup": "State=Arizona",
           "marker": {
            "color": "#EF553B",
            "size": [
             8.207755401549123
            ],
            "sizemode": "area",
            "sizeref": 0.032515707985901254,
            "symbol": "circle"
           },
           "mode": "markers",
           "name": "State=Arizona",
           "showlegend": true,
           "type": "scatter",
           "x": [
            274.30509
           ],
           "xaxis": "x",
           "y": [
            8.207755401549123
           ],
           "yaxis": "y"
          },
          {
           "hoverlabel": {
            "namelength": 0
           },
           "hovertemplate": "<b>%{hovertext}</b><br><br>State=Colorado<br>Year=2005<br>AverageMathScore=%{x}<br>DollarsPerStudent=%{marker.size}",
           "hovertext": [
            "Colorado"
           ],
           "ids": [
            "Colorado"
           ],
           "legendgroup": "State=Colorado",
           "marker": {
            "color": "#00cc96",
            "size": [
             9.028487512216026
            ],
            "sizemode": "area",
            "sizeref": 0.032515707985901254,
            "symbol": "circle"
           },
           "mode": "markers",
           "name": "State=Colorado",
           "showlegend": true,
           "type": "scatter",
           "x": [
            280.8240073
           ],
           "xaxis": "x",
           "y": [
            9.028487512216026
           ],
           "yaxis": "y"
          },
          {
           "hoverlabel": {
            "namelength": 0
           },
           "hovertemplate": "<b>%{hovertext}</b><br><br>State=Kentucky<br>Year=2005<br>AverageMathScore=%{x}<br>DollarsPerStudent=%{marker.size}",
           "hovertext": [
            "Kentucky"
           ],
           "ids": [
            "Kentucky"
           ],
           "legendgroup": "State=Kentucky",
           "marker": {
            "color": "#ab63fa",
            "size": [
             8.071598008604868
            ],
            "sizemode": "area",
            "sizeref": 0.032515707985901254,
            "symbol": "circle"
           },
           "mode": "markers",
           "name": "State=Kentucky",
           "showlegend": true,
           "type": "scatter",
           "x": [
            273.9830272
           ],
           "xaxis": "x",
           "y": [
            8.071598008604868
           ],
           "yaxis": "y"
          },
          {
           "hoverlabel": {
            "namelength": 0
           },
           "hovertemplate": "<b>%{hovertext}</b><br><br>State=Virginia<br>Year=2005<br>AverageMathScore=%{x}<br>DollarsPerStudent=%{marker.size}",
           "hovertext": [
            "Virginia"
           ],
           "ids": [
            "Virginia"
           ],
           "legendgroup": "State=Virginia",
           "marker": {
            "color": "#19d3f3",
            "size": [
             10.121032950983512
            ],
            "sizemode": "area",
            "sizeref": 0.032515707985901254,
            "symbol": "circle"
           },
           "mode": "markers",
           "name": "State=Virginia",
           "showlegend": true,
           "type": "scatter",
           "x": [
            284.3716282
           ],
           "xaxis": "x",
           "y": [
            10.121032950983512
           ],
           "yaxis": "y"
          },
          {
           "hoverlabel": {
            "namelength": 0
           },
           "hovertemplate": "<b>%{hovertext}</b><br><br>State=Oklahoma<br>Year=2005<br>AverageMathScore=%{x}<br>DollarsPerStudent=%{marker.size}",
           "hovertext": [
            "Oklahoma"
           ],
           "ids": [
            "Oklahoma"
           ],
           "legendgroup": "State=Oklahoma",
           "marker": {
            "color": "#e763fa",
            "size": [
             7.776503031892489
            ],
            "sizemode": "area",
            "sizeref": 0.032515707985901254,
            "symbol": "circle"
           },
           "mode": "markers",
           "name": "State=Oklahoma",
           "showlegend": true,
           "type": "scatter",
           "x": [
            271.3599024
           ],
           "xaxis": "x",
           "y": [
            7.776503031892489
           ],
           "yaxis": "y"
          },
          {
           "hoverlabel": {
            "namelength": 0
           },
           "hovertemplate": "<b>%{hovertext}</b><br><br>State=South Carolina<br>Year=2005<br>AverageMathScore=%{x}<br>DollarsPerStudent=%{marker.size}",
           "hovertext": [
            "South Carolina"
           ],
           "ids": [
            "South Carolina"
           ],
           "legendgroup": "State=South Carolina",
           "marker": {
            "color": "#FECB52",
            "size": [
             9.038687861535477
            ],
            "sizemode": "area",
            "sizeref": 0.032515707985901254,
            "symbol": "circle"
           },
           "mode": "markers",
           "name": "State=South Carolina",
           "showlegend": true,
           "type": "scatter",
           "x": [
            281.2343211
           ],
           "xaxis": "x",
           "y": [
            9.038687861535477
           ],
           "yaxis": "y"
          },
          {
           "hoverlabel": {
            "namelength": 0
           },
           "hovertemplate": "<b>%{hovertext}</b><br><br>State=North Carolina<br>Year=2005<br>AverageMathScore=%{x}<br>DollarsPerStudent=%{marker.size}",
           "hovertext": [
            "North Carolina"
           ],
           "ids": [
            "North Carolina"
           ],
           "legendgroup": "State=North Carolina",
           "marker": {
            "color": "#FFA15A",
            "size": [
             8.23808972391898
            ],
            "sizemode": "area",
            "sizeref": 0.032515707985901254,
            "symbol": "circle"
           },
           "mode": "markers",
           "name": "State=North Carolina",
           "showlegend": true,
           "type": "scatter",
           "x": [
            281.8251366
           ],
           "xaxis": "x",
           "y": [
            8.23808972391898
           ],
           "yaxis": "y"
          }
         ],
         "name": "2005"
        },
        {
         "data": [
          {
           "hoverlabel": {
            "namelength": 0
           },
           "hovertemplate": "<b>%{hovertext}</b><br><br>State=West Virginia<br>Year=2007<br>AverageMathScore=%{x}<br>DollarsPerStudent=%{marker.size}",
           "hovertext": [
            "West Virginia"
           ],
           "ids": [
            "West Virginia"
           ],
           "legendgroup": "State=West Virginia",
           "marker": {
            "color": "#636efa",
            "size": [
             10.328864762636066
            ],
            "sizemode": "area",
            "sizeref": 0.032515707985901254,
            "symbol": "circle"
           },
           "mode": "markers",
           "name": "State=West Virginia",
           "showlegend": true,
           "type": "scatter",
           "x": [
            270.0840936
           ],
           "xaxis": "x",
           "y": [
            10.328864762636066
           ],
           "yaxis": "y"
          },
          {
           "hoverlabel": {
            "namelength": 0
           },
           "hovertemplate": "<b>%{hovertext}</b><br><br>State=Arizona<br>Year=2007<br>AverageMathScore=%{x}<br>DollarsPerStudent=%{marker.size}",
           "hovertext": [
            "Arizona"
           ],
           "ids": [
            "Arizona"
           ],
           "legendgroup": "State=Arizona",
           "marker": {
            "color": "#EF553B",
            "size": [
             8.995421059414873
            ],
            "sizemode": "area",
            "sizeref": 0.032515707985901254,
            "symbol": "circle"
           },
           "mode": "markers",
           "name": "State=Arizona",
           "showlegend": true,
           "type": "scatter",
           "x": [
            275.5484264
           ],
           "xaxis": "x",
           "y": [
            8.995421059414873
           ],
           "yaxis": "y"
          },
          {
           "hoverlabel": {
            "namelength": 0
           },
           "hovertemplate": "<b>%{hovertext}</b><br><br>State=Colorado<br>Year=2007<br>AverageMathScore=%{x}<br>DollarsPerStudent=%{marker.size}",
           "hovertext": [
            "Colorado"
           ],
           "ids": [
            "Colorado"
           ],
           "legendgroup": "State=Colorado",
           "marker": {
            "color": "#00cc96",
            "size": [
             9.730330253565187
            ],
            "sizemode": "area",
            "sizeref": 0.032515707985901254,
            "symbol": "circle"
           },
           "mode": "markers",
           "name": "State=Colorado",
           "showlegend": true,
           "type": "scatter",
           "x": [
            286.1927562
           ],
           "xaxis": "x",
           "y": [
            9.730330253565187
           ],
           "yaxis": "y"
          },
          {
           "hoverlabel": {
            "namelength": 0
           },
           "hovertemplate": "<b>%{hovertext}</b><br><br>State=Kentucky<br>Year=2007<br>AverageMathScore=%{x}<br>DollarsPerStudent=%{marker.size}",
           "hovertext": [
            "Kentucky"
           ],
           "ids": [
            "Kentucky"
           ],
           "legendgroup": "State=Kentucky",
           "marker": {
            "color": "#ab63fa",
            "size": [
             9.633479794541742
            ],
            "sizemode": "area",
            "sizeref": 0.032515707985901254,
            "symbol": "circle"
           },
           "mode": "markers",
           "name": "State=Kentucky",
           "showlegend": true,
           "type": "scatter",
           "x": [
            278.7047499
           ],
           "xaxis": "x",
           "y": [
            9.633479794541742
           ],
           "yaxis": "y"
          },
          {
           "hoverlabel": {
            "namelength": 0
           },
           "hovertemplate": "<b>%{hovertext}</b><br><br>State=Virginia<br>Year=2007<br>AverageMathScore=%{x}<br>DollarsPerStudent=%{marker.size}",
           "hovertext": [
            "Virginia"
           ],
           "ids": [
            "Virginia"
           ],
           "legendgroup": "State=Virginia",
           "marker": {
            "color": "#19d3f3",
            "size": [
             11.61579840057684
            ],
            "sizemode": "area",
            "sizeref": 0.032515707985901254,
            "symbol": "circle"
           },
           "mode": "markers",
           "name": "State=Virginia",
           "showlegend": true,
           "type": "scatter",
           "x": [
            287.625905
           ],
           "xaxis": "x",
           "y": [
            11.61579840057684
           ],
           "yaxis": "y"
          },
          {
           "hoverlabel": {
            "namelength": 0
           },
           "hovertemplate": "<b>%{hovertext}</b><br><br>State=Oklahoma<br>Year=2007<br>AverageMathScore=%{x}<br>DollarsPerStudent=%{marker.size}",
           "hovertext": [
            "Oklahoma"
           ],
           "ids": [
            "Oklahoma"
           ],
           "legendgroup": "State=Oklahoma",
           "marker": {
            "color": "#e763fa",
            "size": [
             8.594140825498567
            ],
            "sizemode": "area",
            "sizeref": 0.032515707985901254,
            "symbol": "circle"
           },
           "mode": "markers",
           "name": "State=Oklahoma",
           "showlegend": true,
           "type": "scatter",
           "x": [
            274.5349894
           ],
           "xaxis": "x",
           "y": [
            8.594140825498567
           ],
           "yaxis": "y"
          },
          {
           "hoverlabel": {
            "namelength": 0
           },
           "hovertemplate": "<b>%{hovertext}</b><br><br>State=South Carolina<br>Year=2007<br>AverageMathScore=%{x}<br>DollarsPerStudent=%{marker.size}",
           "hovertext": [
            "South Carolina"
           ],
           "ids": [
            "South Carolina"
           ],
           "legendgroup": "State=South Carolina",
           "marker": {
            "color": "#FECB52",
            "size": [
             10.163165996750193
            ],
            "sizemode": "area",
            "sizeref": 0.032515707985901254,
            "symbol": "circle"
           },
           "mode": "markers",
           "name": "State=South Carolina",
           "showlegend": true,
           "type": "scatter",
           "x": [
            281.5036015
           ],
           "xaxis": "x",
           "y": [
            10.163165996750193
           ],
           "yaxis": "y"
          },
          {
           "hoverlabel": {
            "namelength": 0
           },
           "hovertemplate": "<b>%{hovertext}</b><br><br>State=North Carolina<br>Year=2007<br>AverageMathScore=%{x}<br>DollarsPerStudent=%{marker.size}",
           "hovertext": [
            "North Carolina"
           ],
           "ids": [
            "North Carolina"
           ],
           "legendgroup": "State=North Carolina",
           "marker": {
            "color": "#FFA15A",
            "size": [
             9.225316872265237
            ],
            "sizemode": "area",
            "sizeref": 0.032515707985901254,
            "symbol": "circle"
           },
           "mode": "markers",
           "name": "State=North Carolina",
           "showlegend": true,
           "type": "scatter",
           "x": [
            283.8806688
           ],
           "xaxis": "x",
           "y": [
            9.225316872265237
           ],
           "yaxis": "y"
          }
         ],
         "name": "2007"
        },
        {
         "data": [
          {
           "hoverlabel": {
            "namelength": 0
           },
           "hovertemplate": "<b>%{hovertext}</b><br><br>State=West Virginia<br>Year=2009<br>AverageMathScore=%{x}<br>DollarsPerStudent=%{marker.size}",
           "hovertext": [
            "West Virginia"
           ],
           "ids": [
            "West Virginia"
           ],
           "legendgroup": "State=West Virginia",
           "marker": {
            "color": "#636efa",
            "size": [
             10.986605559260468
            ],
            "sizemode": "area",
            "sizeref": 0.032515707985901254,
            "symbol": "circle"
           },
           "mode": "markers",
           "name": "State=West Virginia",
           "showlegend": true,
           "type": "scatter",
           "x": [
            270.4157659
           ],
           "xaxis": "x",
           "y": [
            10.986605559260468
           ],
           "yaxis": "y"
          },
          {
           "hoverlabel": {
            "namelength": 0
           },
           "hovertemplate": "<b>%{hovertext}</b><br><br>State=Arizona<br>Year=2009<br>AverageMathScore=%{x}<br>DollarsPerStudent=%{marker.size}",
           "hovertext": [
            "Arizona"
           ],
           "ids": [
            "Arizona"
           ],
           "legendgroup": "State=Arizona",
           "marker": {
            "color": "#EF553B",
            "size": [
             8.970231416799908
            ],
            "sizemode": "area",
            "sizeref": 0.032515707985901254,
            "symbol": "circle"
           },
           "mode": "markers",
           "name": "State=Arizona",
           "showlegend": true,
           "type": "scatter",
           "x": [
            277.332282
           ],
           "xaxis": "x",
           "y": [
            8.970231416799908
           ],
           "yaxis": "y"
          },
          {
           "hoverlabel": {
            "namelength": 0
           },
           "hovertemplate": "<b>%{hovertext}</b><br><br>State=Colorado<br>Year=2009<br>AverageMathScore=%{x}<br>DollarsPerStudent=%{marker.size}",
           "hovertext": [
            "Colorado"
           ],
           "ids": [
            "Colorado"
           ],
           "legendgroup": "State=Colorado",
           "marker": {
            "color": "#00cc96",
            "size": [
             10.233961934222258
            ],
            "sizemode": "area",
            "sizeref": 0.032515707985901254,
            "symbol": "circle"
           },
           "mode": "markers",
           "name": "State=Colorado",
           "showlegend": true,
           "type": "scatter",
           "x": [
            287.3729075
           ],
           "xaxis": "x",
           "y": [
            10.233961934222258
           ],
           "yaxis": "y"
          },
          {
           "hoverlabel": {
            "namelength": 0
           },
           "hovertemplate": "<b>%{hovertext}</b><br><br>State=Kentucky<br>Year=2009<br>AverageMathScore=%{x}<br>DollarsPerStudent=%{marker.size}",
           "hovertext": [
            "Kentucky"
           ],
           "ids": [
            "Kentucky"
           ],
           "legendgroup": "State=Kentucky",
           "marker": {
            "color": "#ab63fa",
            "size": [
             10.012453385642928
            ],
            "sizemode": "area",
            "sizeref": 0.032515707985901254,
            "symbol": "circle"
           },
           "mode": "markers",
           "name": "State=Kentucky",
           "showlegend": true,
           "type": "scatter",
           "x": [
            279.2842161
           ],
           "xaxis": "x",
           "y": [
            10.012453385642928
           ],
           "yaxis": "y"
          },
          {
           "hoverlabel": {
            "namelength": 0
           },
           "hovertemplate": "<b>%{hovertext}</b><br><br>State=Virginia<br>Year=2009<br>AverageMathScore=%{x}<br>DollarsPerStudent=%{marker.size}",
           "hovertext": [
            "Virginia"
           ],
           "ids": [
            "Virginia"
           ],
           "legendgroup": "State=Virginia",
           "marker": {
            "color": "#19d3f3",
            "size": [
             12.34873739336585
            ],
            "sizemode": "area",
            "sizeref": 0.032515707985901254,
            "symbol": "circle"
           },
           "mode": "markers",
           "name": "State=Virginia",
           "showlegend": true,
           "type": "scatter",
           "x": [
            286.069755
           ],
           "xaxis": "x",
           "y": [
            12.34873739336585
           ],
           "yaxis": "y"
          },
          {
           "hoverlabel": {
            "namelength": 0
           },
           "hovertemplate": "<b>%{hovertext}</b><br><br>State=Oklahoma<br>Year=2009<br>AverageMathScore=%{x}<br>DollarsPerStudent=%{marker.size}",
           "hovertext": [
            "Oklahoma"
           ],
           "ids": [
            "Oklahoma"
           ],
           "legendgroup": "State=Oklahoma",
           "marker": {
            "color": "#e763fa",
            "size": [
             9.355079287998274
            ],
            "sizemode": "area",
            "sizeref": 0.032515707985901254,
            "symbol": "circle"
           },
           "mode": "markers",
           "name": "State=Oklahoma",
           "showlegend": true,
           "type": "scatter",
           "x": [
            275.7119568
           ],
           "xaxis": "x",
           "y": [
            9.355079287998274
           ],
           "yaxis": "y"
          },
          {
           "hoverlabel": {
            "namelength": 0
           },
           "hovertemplate": "<b>%{hovertext}</b><br><br>State=South Carolina<br>Year=2009<br>AverageMathScore=%{x}<br>DollarsPerStudent=%{marker.size}",
           "hovertext": [
            "South Carolina"
           ],
           "ids": [
            "South Carolina"
           ],
           "legendgroup": "State=South Carolina",
           "marker": {
            "color": "#FECB52",
            "size": [
             10.737561774629352
            ],
            "sizemode": "area",
            "sizeref": 0.032515707985901254,
            "symbol": "circle"
           },
           "mode": "markers",
           "name": "State=South Carolina",
           "showlegend": true,
           "type": "scatter",
           "x": [
            280.3808554
           ],
           "xaxis": "x",
           "y": [
            10.737561774629352
           ],
           "yaxis": "y"
          },
          {
           "hoverlabel": {
            "namelength": 0
           },
           "hovertemplate": "<b>%{hovertext}</b><br><br>State=North Carolina<br>Year=2009<br>AverageMathScore=%{x}<br>DollarsPerStudent=%{marker.size}",
           "hovertext": [
            "North Carolina"
           ],
           "ids": [
            "North Carolina"
           ],
           "legendgroup": "State=North Carolina",
           "marker": {
            "color": "#FFA15A",
            "size": [
             10.612868303325474
            ],
            "sizemode": "area",
            "sizeref": 0.032515707985901254,
            "symbol": "circle"
           },
           "mode": "markers",
           "name": "State=North Carolina",
           "showlegend": true,
           "type": "scatter",
           "x": [
            284.3326353
           ],
           "xaxis": "x",
           "y": [
            10.612868303325474
           ],
           "yaxis": "y"
          }
         ],
         "name": "2009"
        },
        {
         "data": [
          {
           "hoverlabel": {
            "namelength": 0
           },
           "hovertemplate": "<b>%{hovertext}</b><br><br>State=West Virginia<br>Year=2011<br>AverageMathScore=%{x}<br>DollarsPerStudent=%{marker.size}",
           "hovertext": [
            "West Virginia"
           ],
           "ids": [
            "West Virginia"
           ],
           "legendgroup": "State=West Virginia",
           "marker": {
            "color": "#636efa",
            "size": [
             12.319292524722645
            ],
            "sizemode": "area",
            "sizeref": 0.032515707985901254,
            "symbol": "circle"
           },
           "mode": "markers",
           "name": "State=West Virginia",
           "showlegend": true,
           "type": "scatter",
           "x": [
            273.2631731
           ],
           "xaxis": "x",
           "y": [
            12.319292524722645
           ],
           "yaxis": "y"
          },
          {
           "hoverlabel": {
            "namelength": 0
           },
           "hovertemplate": "<b>%{hovertext}</b><br><br>State=Arizona<br>Year=2011<br>AverageMathScore=%{x}<br>DollarsPerStudent=%{marker.size}",
           "hovertext": [
            "Arizona"
           ],
           "ids": [
            "Arizona"
           ],
           "legendgroup": "State=Arizona",
           "marker": {
            "color": "#EF553B",
            "size": [
             8.904969621930103
            ],
            "sizemode": "area",
            "sizeref": 0.032515707985901254,
            "symbol": "circle"
           },
           "mode": "markers",
           "name": "State=Arizona",
           "showlegend": true,
           "type": "scatter",
           "x": [
            279.0335017
           ],
           "xaxis": "x",
           "y": [
            8.904969621930103
           ],
           "yaxis": "y"
          },
          {
           "hoverlabel": {
            "namelength": 0
           },
           "hovertemplate": "<b>%{hovertext}</b><br><br>State=Colorado<br>Year=2011<br>AverageMathScore=%{x}<br>DollarsPerStudent=%{marker.size}",
           "hovertext": [
            "Colorado"
           ],
           "ids": [
            "Colorado"
           ],
           "legendgroup": "State=Colorado",
           "marker": {
            "color": "#00cc96",
            "size": [
             10.478121346570328
            ],
            "sizemode": "area",
            "sizeref": 0.032515707985901254,
            "symbol": "circle"
           },
           "mode": "markers",
           "name": "State=Colorado",
           "showlegend": true,
           "type": "scatter",
           "x": [
            291.7426729
           ],
           "xaxis": "x",
           "y": [
            10.478121346570328
           ],
           "yaxis": "y"
          },
          {
           "hoverlabel": {
            "namelength": 0
           },
           "hovertemplate": "<b>%{hovertext}</b><br><br>State=Kentucky<br>Year=2011<br>AverageMathScore=%{x}<br>DollarsPerStudent=%{marker.size}",
           "hovertext": [
            "Kentucky"
           ],
           "ids": [
            "Kentucky"
           ],
           "legendgroup": "State=Kentucky",
           "marker": {
            "color": "#ab63fa",
            "size": [
             10.55725468751393
            ],
            "sizemode": "area",
            "sizeref": 0.032515707985901254,
            "symbol": "circle"
           },
           "mode": "markers",
           "name": "State=Kentucky",
           "showlegend": true,
           "type": "scatter",
           "x": [
            281.6088097
           ],
           "xaxis": "x",
           "y": [
            10.55725468751393
           ],
           "yaxis": "y"
          },
          {
           "hoverlabel": {
            "namelength": 0
           },
           "hovertemplate": "<b>%{hovertext}</b><br><br>State=Virginia<br>Year=2011<br>AverageMathScore=%{x}<br>DollarsPerStudent=%{marker.size}",
           "hovertext": [
            "Virginia"
           ],
           "ids": [
            "Virginia"
           ],
           "legendgroup": "State=Virginia",
           "marker": {
            "color": "#19d3f3",
            "size": [
             11.716290176615619
            ],
            "sizemode": "area",
            "sizeref": 0.032515707985901254,
            "symbol": "circle"
           },
           "mode": "markers",
           "name": "State=Virginia",
           "showlegend": true,
           "type": "scatter",
           "x": [
            289.2554112
           ],
           "xaxis": "x",
           "y": [
            11.716290176615619
           ],
           "yaxis": "y"
          },
          {
           "hoverlabel": {
            "namelength": 0
           },
           "hovertemplate": "<b>%{hovertext}</b><br><br>State=Oklahoma<br>Year=2011<br>AverageMathScore=%{x}<br>DollarsPerStudent=%{marker.size}",
           "hovertext": [
            "Oklahoma"
           ],
           "ids": [
            "Oklahoma"
           ],
           "legendgroup": "State=Oklahoma",
           "marker": {
            "color": "#e763fa",
            "size": [
             8.865787046673848
            ],
            "sizemode": "area",
            "sizeref": 0.032515707985901254,
            "symbol": "circle"
           },
           "mode": "markers",
           "name": "State=Oklahoma",
           "showlegend": true,
           "type": "scatter",
           "x": [
            279.1796082
           ],
           "xaxis": "x",
           "y": [
            8.865787046673848
           ],
           "yaxis": "y"
          },
          {
           "hoverlabel": {
            "namelength": 0
           },
           "hovertemplate": "<b>%{hovertext}</b><br><br>State=South Carolina<br>Year=2011<br>AverageMathScore=%{x}<br>DollarsPerStudent=%{marker.size}",
           "hovertext": [
            "South Carolina"
           ],
           "ids": [
            "South Carolina"
           ],
           "legendgroup": "State=South Carolina",
           "marker": {
            "color": "#FECB52",
            "size": [
             10.893703110393533
            ],
            "sizemode": "area",
            "sizeref": 0.032515707985901254,
            "symbol": "circle"
           },
           "mode": "markers",
           "name": "State=South Carolina",
           "showlegend": true,
           "type": "scatter",
           "x": [
            281.0001337
           ],
           "xaxis": "x",
           "y": [
            10.893703110393533
           ],
           "yaxis": "y"
          },
          {
           "hoverlabel": {
            "namelength": 0
           },
           "hovertemplate": "<b>%{hovertext}</b><br><br>State=North Carolina<br>Year=2011<br>AverageMathScore=%{x}<br>DollarsPerStudent=%{marker.size}",
           "hovertext": [
            "North Carolina"
           ],
           "ids": [
            "North Carolina"
           ],
           "legendgroup": "State=North Carolina",
           "marker": {
            "color": "#FFA15A",
            "size": [
             9.950518500922232
            ],
            "sizemode": "area",
            "sizeref": 0.032515707985901254,
            "symbol": "circle"
           },
           "mode": "markers",
           "name": "State=North Carolina",
           "showlegend": true,
           "type": "scatter",
           "x": [
            286.2670282
           ],
           "xaxis": "x",
           "y": [
            9.950518500922232
           ],
           "yaxis": "y"
          }
         ],
         "name": "2011"
        },
        {
         "data": [
          {
           "hoverlabel": {
            "namelength": 0
           },
           "hovertemplate": "<b>%{hovertext}</b><br><br>State=West Virginia<br>Year=2013<br>AverageMathScore=%{x}<br>DollarsPerStudent=%{marker.size}",
           "hovertext": [
            "West Virginia"
           ],
           "ids": [
            "West Virginia"
           ],
           "legendgroup": "State=West Virginia",
           "marker": {
            "color": "#636efa",
            "size": [
             12.349424391626226
            ],
            "sizemode": "area",
            "sizeref": 0.032515707985901254,
            "symbol": "circle"
           },
           "mode": "markers",
           "name": "State=West Virginia",
           "showlegend": true,
           "type": "scatter",
           "x": [
            274.4301347
           ],
           "xaxis": "x",
           "y": [
            12.349424391626226
           ],
           "yaxis": "y"
          },
          {
           "hoverlabel": {
            "namelength": 0
           },
           "hovertemplate": "<b>%{hovertext}</b><br><br>State=Arizona<br>Year=2013<br>AverageMathScore=%{x}<br>DollarsPerStudent=%{marker.size}",
           "hovertext": [
            "Arizona"
           ],
           "ids": [
            "Arizona"
           ],
           "legendgroup": "State=Arizona",
           "marker": {
            "color": "#EF553B",
            "size": [
             8.669532326812682
            ],
            "sizemode": "area",
            "sizeref": 0.032515707985901254,
            "symbol": "circle"
           },
           "mode": "markers",
           "name": "State=Arizona",
           "showlegend": true,
           "type": "scatter",
           "x": [
            279.722268
           ],
           "xaxis": "x",
           "y": [
            8.669532326812682
           ],
           "yaxis": "y"
          },
          {
           "hoverlabel": {
            "namelength": 0
           },
           "hovertemplate": "<b>%{hovertext}</b><br><br>State=Colorado<br>Year=2013<br>AverageMathScore=%{x}<br>DollarsPerStudent=%{marker.size}",
           "hovertext": [
            "Colorado"
           ],
           "ids": [
            "Colorado"
           ],
           "legendgroup": "State=Colorado",
           "marker": {
            "color": "#00cc96",
            "size": [
             10.371580012290512
            ],
            "sizemode": "area",
            "sizeref": 0.032515707985901254,
            "symbol": "circle"
           },
           "mode": "markers",
           "name": "State=Colorado",
           "showlegend": true,
           "type": "scatter",
           "x": [
            289.6818001
           ],
           "xaxis": "x",
           "y": [
            10.371580012290512
           ],
           "yaxis": "y"
          },
          {
           "hoverlabel": {
            "namelength": 0
           },
           "hovertemplate": "<b>%{hovertext}</b><br><br>State=Kentucky<br>Year=2013<br>AverageMathScore=%{x}<br>DollarsPerStudent=%{marker.size}",
           "hovertext": [
            "Kentucky"
           ],
           "ids": [
            "Kentucky"
           ],
           "legendgroup": "State=Kentucky",
           "marker": {
            "color": "#ab63fa",
            "size": [
             10.534423635309901
            ],
            "sizemode": "area",
            "sizeref": 0.032515707985901254,
            "symbol": "circle"
           },
           "mode": "markers",
           "name": "State=Kentucky",
           "showlegend": true,
           "type": "scatter",
           "x": [
            280.6454425
           ],
           "xaxis": "x",
           "y": [
            10.534423635309901
           ],
           "yaxis": "y"
          },
          {
           "hoverlabel": {
            "namelength": 0
           },
           "hovertemplate": "<b>%{hovertext}</b><br><br>State=Virginia<br>Year=2013<br>AverageMathScore=%{x}<br>DollarsPerStudent=%{marker.size}",
           "hovertext": [
            "Virginia"
           ],
           "ids": [
            "Virginia"
           ],
           "legendgroup": "State=Virginia",
           "marker": {
            "color": "#19d3f3",
            "size": [
             12.113653469103788
            ],
            "sizemode": "area",
            "sizeref": 0.032515707985901254,
            "symbol": "circle"
           },
           "mode": "markers",
           "name": "State=Virginia",
           "showlegend": true,
           "type": "scatter",
           "x": [
            288.1429595
           ],
           "xaxis": "x",
           "y": [
            12.113653469103788
           ],
           "yaxis": "y"
          },
          {
           "hoverlabel": {
            "namelength": 0
           },
           "hovertemplate": "<b>%{hovertext}</b><br><br>State=Oklahoma<br>Year=2013<br>AverageMathScore=%{x}<br>DollarsPerStudent=%{marker.size}",
           "hovertext": [
            "Oklahoma"
           ],
           "ids": [
            "Oklahoma"
           ],
           "legendgroup": "State=Oklahoma",
           "marker": {
            "color": "#e763fa",
            "size": [
             8.754419200381268
            ],
            "sizemode": "area",
            "sizeref": 0.032515707985901254,
            "symbol": "circle"
           },
           "mode": "markers",
           "name": "State=Oklahoma",
           "showlegend": true,
           "type": "scatter",
           "x": [
            275.506732
           ],
           "xaxis": "x",
           "y": [
            8.754419200381268
           ],
           "yaxis": "y"
          },
          {
           "hoverlabel": {
            "namelength": 0
           },
           "hovertemplate": "<b>%{hovertext}</b><br><br>State=South Carolina<br>Year=2013<br>AverageMathScore=%{x}<br>DollarsPerStudent=%{marker.size}",
           "hovertext": [
            "South Carolina"
           ],
           "ids": [
            "South Carolina"
           ],
           "legendgroup": "State=South Carolina",
           "marker": {
            "color": "#FECB52",
            "size": [
             11.428831331022957
            ],
            "sizemode": "area",
            "sizeref": 0.032515707985901254,
            "symbol": "circle"
           },
           "mode": "markers",
           "name": "State=South Carolina",
           "showlegend": true,
           "type": "scatter",
           "x": [
            279.8246086
           ],
           "xaxis": "x",
           "y": [
            11.428831331022957
           ],
           "yaxis": "y"
          },
          {
           "hoverlabel": {
            "namelength": 0
           },
           "hovertemplate": "<b>%{hovertext}</b><br><br>State=North Carolina<br>Year=2013<br>AverageMathScore=%{x}<br>DollarsPerStudent=%{marker.size}",
           "hovertext": [
            "North Carolina"
           ],
           "ids": [
            "North Carolina"
           ],
           "legendgroup": "State=North Carolina",
           "marker": {
            "color": "#FFA15A",
            "size": [
             8.669908215890175
            ],
            "sizemode": "area",
            "sizeref": 0.032515707985901254,
            "symbol": "circle"
           },
           "mode": "markers",
           "name": "State=North Carolina",
           "showlegend": true,
           "type": "scatter",
           "x": [
            285.6453884
           ],
           "xaxis": "x",
           "y": [
            8.669908215890175
           ],
           "yaxis": "y"
          }
         ],
         "name": "2013"
        },
        {
         "data": [
          {
           "hoverlabel": {
            "namelength": 0
           },
           "hovertemplate": "<b>%{hovertext}</b><br><br>State=West Virginia<br>Year=2015<br>AverageMathScore=%{x}<br>DollarsPerStudent=%{marker.size}",
           "hovertext": [
            "West Virginia"
           ],
           "ids": [
            "West Virginia"
           ],
           "legendgroup": "State=West Virginia",
           "marker": {
            "color": "#636efa",
            "size": [
             12.442190546026863
            ],
            "sizemode": "area",
            "sizeref": 0.032515707985901254,
            "symbol": "circle"
           },
           "mode": "markers",
           "name": "State=West Virginia",
           "showlegend": true,
           "type": "scatter",
           "x": [
            271.4507088
           ],
           "xaxis": "x",
           "y": [
            12.442190546026863
           ],
           "yaxis": "y"
          },
          {
           "hoverlabel": {
            "namelength": 0
           },
           "hovertemplate": "<b>%{hovertext}</b><br><br>State=Arizona<br>Year=2015<br>AverageMathScore=%{x}<br>DollarsPerStudent=%{marker.size}",
           "hovertext": [
            "Arizona"
           ],
           "ids": [
            "Arizona"
           ],
           "legendgroup": "State=Arizona",
           "marker": {
            "color": "#EF553B",
            "size": [
             8.709733983225007
            ],
            "sizemode": "area",
            "sizeref": 0.032515707985901254,
            "symbol": "circle"
           },
           "mode": "markers",
           "name": "State=Arizona",
           "showlegend": true,
           "type": "scatter",
           "x": [
            282.9194894
           ],
           "xaxis": "x",
           "y": [
            8.709733983225007
           ],
           "yaxis": "y"
          },
          {
           "hoverlabel": {
            "namelength": 0
           },
           "hovertemplate": "<b>%{hovertext}</b><br><br>State=Colorado<br>Year=2015<br>AverageMathScore=%{x}<br>DollarsPerStudent=%{marker.size}",
           "hovertext": [
            "Colorado"
           ],
           "ids": [
            "Colorado"
           ],
           "legendgroup": "State=Colorado",
           "marker": {
            "color": "#00cc96",
            "size": [
             11.06050188004402
            ],
            "sizemode": "area",
            "sizeref": 0.032515707985901254,
            "symbol": "circle"
           },
           "mode": "markers",
           "name": "State=Colorado",
           "showlegend": true,
           "type": "scatter",
           "x": [
            285.5391887
           ],
           "xaxis": "x",
           "y": [
            11.06050188004402
           ],
           "yaxis": "y"
          },
          {
           "hoverlabel": {
            "namelength": 0
           },
           "hovertemplate": "<b>%{hovertext}</b><br><br>State=Kentucky<br>Year=2015<br>AverageMathScore=%{x}<br>DollarsPerStudent=%{marker.size}",
           "hovertext": [
            "Kentucky"
           ],
           "ids": [
            "Kentucky"
           ],
           "legendgroup": "State=Kentucky",
           "marker": {
            "color": "#ab63fa",
            "size": [
             10.96462616652747
            ],
            "sizemode": "area",
            "sizeref": 0.032515707985901254,
            "symbol": "circle"
           },
           "mode": "markers",
           "name": "State=Kentucky",
           "showlegend": true,
           "type": "scatter",
           "x": [
            277.9472601
           ],
           "xaxis": "x",
           "y": [
            10.96462616652747
           ],
           "yaxis": "y"
          },
          {
           "hoverlabel": {
            "namelength": 0
           },
           "hovertemplate": "<b>%{hovertext}</b><br><br>State=Virginia<br>Year=2015<br>AverageMathScore=%{x}<br>DollarsPerStudent=%{marker.size}",
           "hovertext": [
            "Virginia"
           ],
           "ids": [
            "Virginia"
           ],
           "legendgroup": "State=Virginia",
           "marker": {
            "color": "#19d3f3",
            "size": [
             12.38997802115376
            ],
            "sizemode": "area",
            "sizeref": 0.032515707985901254,
            "symbol": "circle"
           },
           "mode": "markers",
           "name": "State=Virginia",
           "showlegend": true,
           "type": "scatter",
           "x": [
            287.7092987
           ],
           "xaxis": "x",
           "y": [
            12.38997802115376
           ],
           "yaxis": "y"
          },
          {
           "hoverlabel": {
            "namelength": 0
           },
           "hovertemplate": "<b>%{hovertext}</b><br><br>State=Oklahoma<br>Year=2015<br>AverageMathScore=%{x}<br>DollarsPerStudent=%{marker.size}",
           "hovertext": [
            "Oklahoma"
           ],
           "ids": [
            "Oklahoma"
           ],
           "legendgroup": "State=Oklahoma",
           "marker": {
            "color": "#e763fa",
            "size": [
             9.112775507469685
            ],
            "sizemode": "area",
            "sizeref": 0.032515707985901254,
            "symbol": "circle"
           },
           "mode": "markers",
           "name": "State=Oklahoma",
           "showlegend": true,
           "type": "scatter",
           "x": [
            274.5859821
           ],
           "xaxis": "x",
           "y": [
            9.112775507469685
           ],
           "yaxis": "y"
          },
          {
           "hoverlabel": {
            "namelength": 0
           },
           "hovertemplate": "<b>%{hovertext}</b><br><br>State=South Carolina<br>Year=2015<br>AverageMathScore=%{x}<br>DollarsPerStudent=%{marker.size}",
           "hovertext": [
            "South Carolina"
           ],
           "ids": [
            "South Carolina"
           ],
           "legendgroup": "State=South Carolina",
           "marker": {
            "color": "#FECB52",
            "size": [
             11.879484839320805
            ],
            "sizemode": "area",
            "sizeref": 0.032515707985901254,
            "symbol": "circle"
           },
           "mode": "markers",
           "name": "State=South Carolina",
           "showlegend": true,
           "type": "scatter",
           "x": [
            275.8278662
           ],
           "xaxis": "x",
           "y": [
            11.879484839320805
           ],
           "yaxis": "y"
          },
          {
           "hoverlabel": {
            "namelength": 0
           },
           "hovertemplate": "<b>%{hovertext}</b><br><br>State=North Carolina<br>Year=2015<br>AverageMathScore=%{x}<br>DollarsPerStudent=%{marker.size}",
           "hovertext": [
            "North Carolina"
           ],
           "ids": [
            "North Carolina"
           ],
           "legendgroup": "State=North Carolina",
           "marker": {
            "color": "#FFA15A",
            "size": [
             8.973826492408692
            ],
            "sizemode": "area",
            "sizeref": 0.032515707985901254,
            "symbol": "circle"
           },
           "mode": "markers",
           "name": "State=North Carolina",
           "showlegend": true,
           "type": "scatter",
           "x": [
            281.3310911
           ],
           "xaxis": "x",
           "y": [
            8.973826492408692
           ],
           "yaxis": "y"
          }
         ],
         "name": "2015"
        },
        {
         "data": [
          {
           "hoverlabel": {
            "namelength": 0
           },
           "hovertemplate": "<b>%{hovertext}</b><br><br>State=West Virginia<br>Year=2017<br>AverageMathScore=%{x}<br>DollarsPerStudent=%{marker.size}",
           "hovertext": [
            "West Virginia"
           ],
           "ids": [
            "West Virginia"
           ],
           "legendgroup": "State=West Virginia",
           "marker": {
            "color": "#636efa",
            "size": [
             12.725914265841784
            ],
            "sizemode": "area",
            "sizeref": 0.032515707985901254,
            "symbol": "circle"
           },
           "mode": "markers",
           "name": "State=West Virginia",
           "showlegend": true,
           "type": "scatter",
           "x": [
            273.4158536
           ],
           "xaxis": "x",
           "y": [
            12.725914265841784
           ],
           "yaxis": "y"
          },
          {
           "hoverlabel": {
            "namelength": 0
           },
           "hovertemplate": "<b>%{hovertext}</b><br><br>State=Arizona<br>Year=2017<br>AverageMathScore=%{x}<br>DollarsPerStudent=%{marker.size}",
           "hovertext": [
            "Arizona"
           ],
           "ids": [
            "Arizona"
           ],
           "legendgroup": "State=Arizona",
           "marker": {
            "color": "#EF553B",
            "size": [
             9.188139255907458
            ],
            "sizemode": "area",
            "sizeref": 0.032515707985901254,
            "symbol": "circle"
           },
           "mode": "markers",
           "name": "State=Arizona",
           "showlegend": true,
           "type": "scatter",
           "x": [
            282.2481453
           ],
           "xaxis": "x",
           "y": [
            9.188139255907458
           ],
           "yaxis": "y"
          },
          {
           "hoverlabel": {
            "namelength": 0
           },
           "hovertemplate": "<b>%{hovertext}</b><br><br>State=Colorado<br>Year=2017<br>AverageMathScore=%{x}<br>DollarsPerStudent=%{marker.size}",
           "hovertext": [
            "Colorado"
           ],
           "ids": [
            "Colorado"
           ],
           "legendgroup": "State=Colorado",
           "marker": {
            "color": "#00cc96",
            "size": [
             11.726756424676903
            ],
            "sizemode": "area",
            "sizeref": 0.032515707985901254,
            "symbol": "circle"
           },
           "mode": "markers",
           "name": "State=Colorado",
           "showlegend": true,
           "type": "scatter",
           "x": [
            286.2477175
           ],
           "xaxis": "x",
           "y": [
            11.726756424676903
           ],
           "yaxis": "y"
          },
          {
           "hoverlabel": {
            "namelength": 0
           },
           "hovertemplate": "<b>%{hovertext}</b><br><br>State=Kentucky<br>Year=2017<br>AverageMathScore=%{x}<br>DollarsPerStudent=%{marker.size}",
           "hovertext": [
            "Kentucky"
           ],
           "ids": [
            "Kentucky"
           ],
           "legendgroup": "State=Kentucky",
           "marker": {
            "color": "#ab63fa",
            "size": [
             11.577987728554216
            ],
            "sizemode": "area",
            "sizeref": 0.032515707985901254,
            "symbol": "circle"
           },
           "mode": "markers",
           "name": "State=Kentucky",
           "showlegend": true,
           "type": "scatter",
           "x": [
            277.7141618
           ],
           "xaxis": "x",
           "y": [
            11.577987728554216
           ],
           "yaxis": "y"
          },
          {
           "hoverlabel": {
            "namelength": 0
           },
           "hovertemplate": "<b>%{hovertext}</b><br><br>State=Virginia<br>Year=2017<br>AverageMathScore=%{x}<br>DollarsPerStudent=%{marker.size}",
           "hovertext": [
            "Virginia"
           ],
           "ids": [
            "Virginia"
           ],
           "legendgroup": "State=Virginia",
           "marker": {
            "color": "#19d3f3",
            "size": [
             12.846052454669309
            ],
            "sizemode": "area",
            "sizeref": 0.032515707985901254,
            "symbol": "circle"
           },
           "mode": "markers",
           "name": "State=Virginia",
           "showlegend": true,
           "type": "scatter",
           "x": [
            290.0814074
           ],
           "xaxis": "x",
           "y": [
            12.846052454669309
           ],
           "yaxis": "y"
          },
          {
           "hoverlabel": {
            "namelength": 0
           },
           "hovertemplate": "<b>%{hovertext}</b><br><br>State=Oklahoma<br>Year=2017<br>AverageMathScore=%{x}<br>DollarsPerStudent=%{marker.size}",
           "hovertext": [
            "Oklahoma"
           ],
           "ids": [
            "Oklahoma"
           ],
           "legendgroup": "State=Oklahoma",
           "marker": {
            "color": "#e763fa",
            "size": [
             9.209689272878819
            ],
            "sizemode": "area",
            "sizeref": 0.032515707985901254,
            "symbol": "circle"
           },
           "mode": "markers",
           "name": "State=Oklahoma",
           "showlegend": true,
           "type": "scatter",
           "x": [
            274.6888834
           ],
           "xaxis": "x",
           "y": [
            9.209689272878819
           ],
           "yaxis": "y"
          },
          {
           "hoverlabel": {
            "namelength": 0
           },
           "hovertemplate": "<b>%{hovertext}</b><br><br>State=South Carolina<br>Year=2017<br>AverageMathScore=%{x}<br>DollarsPerStudent=%{marker.size}",
           "hovertext": [
            "South Carolina"
           ],
           "ids": [
            "South Carolina"
           ],
           "legendgroup": "State=South Carolina",
           "marker": {
            "color": "#FECB52",
            "size": [
             13.006283194360503
            ],
            "sizemode": "area",
            "sizeref": 0.032515707985901254,
            "symbol": "circle"
           },
           "mode": "markers",
           "name": "State=South Carolina",
           "showlegend": true,
           "type": "scatter",
           "x": [
            274.6738211
           ],
           "xaxis": "x",
           "y": [
            13.006283194360503
           ],
           "yaxis": "y"
          },
          {
           "hoverlabel": {
            "namelength": 0
           },
           "hovertemplate": "<b>%{hovertext}</b><br><br>State=North Carolina<br>Year=2017<br>AverageMathScore=%{x}<br>DollarsPerStudent=%{marker.size}",
           "hovertext": [
            "North Carolina"
           ],
           "ids": [
            "North Carolina"
           ],
           "legendgroup": "State=North Carolina",
           "marker": {
            "color": "#FFA15A",
            "size": [
             9.588254665203074
            ],
            "sizemode": "area",
            "sizeref": 0.032515707985901254,
            "symbol": "circle"
           },
           "mode": "markers",
           "name": "State=North Carolina",
           "showlegend": true,
           "type": "scatter",
           "x": [
            281.9260284
           ],
           "xaxis": "x",
           "y": [
            9.588254665203074
           ],
           "yaxis": "y"
          }
         ],
         "name": "2017"
        }
       ],
       "layout": {
        "grid": {
         "xaxes": [
          "x"
         ],
         "xgap": 0.1,
         "xside": "bottom",
         "yaxes": [
          "y"
         ],
         "ygap": 0.1,
         "yside": "left"
        },
        "height": 600,
        "legend": {
         "itemsizing": "constant",
         "tracegroupgap": 0
        },
        "margin": {
         "t": 60
        },
        "sliders": [
         {
          "active": 0,
          "currentvalue": {
           "prefix": "Year="
          },
          "len": 0.9,
          "pad": {
           "b": 10,
           "t": 60
          },
          "steps": [
           {
            "args": [
             [
              "2003"
             ],
             {
              "frame": {
               "duration": 0,
               "redraw": false
              },
              "fromcurrent": true,
              "mode": "immediate",
              "transition": {
               "duration": 0,
               "easing": "linear"
              }
             }
            ],
            "label": "2003",
            "method": "animate"
           },
           {
            "args": [
             [
              "2005"
             ],
             {
              "frame": {
               "duration": 0,
               "redraw": false
              },
              "fromcurrent": true,
              "mode": "immediate",
              "transition": {
               "duration": 0,
               "easing": "linear"
              }
             }
            ],
            "label": "2005",
            "method": "animate"
           },
           {
            "args": [
             [
              "2007"
             ],
             {
              "frame": {
               "duration": 0,
               "redraw": false
              },
              "fromcurrent": true,
              "mode": "immediate",
              "transition": {
               "duration": 0,
               "easing": "linear"
              }
             }
            ],
            "label": "2007",
            "method": "animate"
           },
           {
            "args": [
             [
              "2009"
             ],
             {
              "frame": {
               "duration": 0,
               "redraw": false
              },
              "fromcurrent": true,
              "mode": "immediate",
              "transition": {
               "duration": 0,
               "easing": "linear"
              }
             }
            ],
            "label": "2009",
            "method": "animate"
           },
           {
            "args": [
             [
              "2011"
             ],
             {
              "frame": {
               "duration": 0,
               "redraw": false
              },
              "fromcurrent": true,
              "mode": "immediate",
              "transition": {
               "duration": 0,
               "easing": "linear"
              }
             }
            ],
            "label": "2011",
            "method": "animate"
           },
           {
            "args": [
             [
              "2013"
             ],
             {
              "frame": {
               "duration": 0,
               "redraw": false
              },
              "fromcurrent": true,
              "mode": "immediate",
              "transition": {
               "duration": 0,
               "easing": "linear"
              }
             }
            ],
            "label": "2013",
            "method": "animate"
           },
           {
            "args": [
             [
              "2015"
             ],
             {
              "frame": {
               "duration": 0,
               "redraw": false
              },
              "fromcurrent": true,
              "mode": "immediate",
              "transition": {
               "duration": 0,
               "easing": "linear"
              }
             }
            ],
            "label": "2015",
            "method": "animate"
           },
           {
            "args": [
             [
              "2017"
             ],
             {
              "frame": {
               "duration": 0,
               "redraw": false
              },
              "fromcurrent": true,
              "mode": "immediate",
              "transition": {
               "duration": 0,
               "easing": "linear"
              }
             }
            ],
            "label": "2017",
            "method": "animate"
           }
          ],
          "x": 0.1,
          "xanchor": "left",
          "y": 0,
          "yanchor": "top"
         }
        ],
        "template": {
         "data": {
          "bar": [
           {
            "marker": {
             "line": {
              "color": "#E5ECF6",
              "width": 0.5
             }
            },
            "type": "bar"
           }
          ],
          "barpolar": [
           {
            "marker": {
             "line": {
              "color": "#E5ECF6",
              "width": 0.5
             }
            },
            "type": "barpolar"
           }
          ],
          "carpet": [
           {
            "aaxis": {
             "endlinecolor": "#2a3f5f",
             "gridcolor": "white",
             "linecolor": "white",
             "minorgridcolor": "white",
             "startlinecolor": "#2a3f5f"
            },
            "baxis": {
             "endlinecolor": "#2a3f5f",
             "gridcolor": "white",
             "linecolor": "white",
             "minorgridcolor": "white",
             "startlinecolor": "#2a3f5f"
            },
            "type": "carpet"
           }
          ],
          "choropleth": [
           {
            "colorbar": {
             "outlinewidth": 0,
             "ticks": ""
            },
            "type": "choropleth"
           }
          ],
          "contour": [
           {
            "colorbar": {
             "outlinewidth": 0,
             "ticks": ""
            },
            "colorscale": [
             [
              0,
              "#0508b8"
             ],
             [
              0.0893854748603352,
              "#1910d8"
             ],
             [
              0.1787709497206704,
              "#3c19f0"
             ],
             [
              0.2681564245810056,
              "#6b1cfb"
             ],
             [
              0.3575418994413408,
              "#981cfd"
             ],
             [
              0.44692737430167595,
              "#bf1cfd"
             ],
             [
              0.5363128491620112,
              "#dd2bfd"
             ],
             [
              0.6256983240223464,
              "#f246fe"
             ],
             [
              0.7150837988826816,
              "#fc67fd"
             ],
             [
              0.8044692737430168,
              "#fe88fc"
             ],
             [
              0.8938547486033519,
              "#fea5fd"
             ],
             [
              0.9832402234636871,
              "#febefe"
             ],
             [
              1,
              "#fec3fe"
             ]
            ],
            "type": "contour"
           }
          ],
          "contourcarpet": [
           {
            "colorbar": {
             "outlinewidth": 0,
             "ticks": ""
            },
            "type": "contourcarpet"
           }
          ],
          "heatmap": [
           {
            "colorbar": {
             "outlinewidth": 0,
             "ticks": ""
            },
            "colorscale": [
             [
              0,
              "#0508b8"
             ],
             [
              0.0893854748603352,
              "#1910d8"
             ],
             [
              0.1787709497206704,
              "#3c19f0"
             ],
             [
              0.2681564245810056,
              "#6b1cfb"
             ],
             [
              0.3575418994413408,
              "#981cfd"
             ],
             [
              0.44692737430167595,
              "#bf1cfd"
             ],
             [
              0.5363128491620112,
              "#dd2bfd"
             ],
             [
              0.6256983240223464,
              "#f246fe"
             ],
             [
              0.7150837988826816,
              "#fc67fd"
             ],
             [
              0.8044692737430168,
              "#fe88fc"
             ],
             [
              0.8938547486033519,
              "#fea5fd"
             ],
             [
              0.9832402234636871,
              "#febefe"
             ],
             [
              1,
              "#fec3fe"
             ]
            ],
            "type": "heatmap"
           }
          ],
          "heatmapgl": [
           {
            "colorbar": {
             "outlinewidth": 0,
             "ticks": ""
            },
            "type": "heatmapgl"
           }
          ],
          "histogram": [
           {
            "marker": {
             "colorbar": {
              "outlinewidth": 0,
              "ticks": ""
             }
            },
            "type": "histogram"
           }
          ],
          "histogram2d": [
           {
            "colorbar": {
             "outlinewidth": 0,
             "ticks": ""
            },
            "colorscale": [
             [
              0,
              "#0508b8"
             ],
             [
              0.0893854748603352,
              "#1910d8"
             ],
             [
              0.1787709497206704,
              "#3c19f0"
             ],
             [
              0.2681564245810056,
              "#6b1cfb"
             ],
             [
              0.3575418994413408,
              "#981cfd"
             ],
             [
              0.44692737430167595,
              "#bf1cfd"
             ],
             [
              0.5363128491620112,
              "#dd2bfd"
             ],
             [
              0.6256983240223464,
              "#f246fe"
             ],
             [
              0.7150837988826816,
              "#fc67fd"
             ],
             [
              0.8044692737430168,
              "#fe88fc"
             ],
             [
              0.8938547486033519,
              "#fea5fd"
             ],
             [
              0.9832402234636871,
              "#febefe"
             ],
             [
              1,
              "#fec3fe"
             ]
            ],
            "type": "histogram2d"
           }
          ],
          "histogram2dcontour": [
           {
            "colorbar": {
             "outlinewidth": 0,
             "ticks": ""
            },
            "colorscale": [
             [
              0,
              "#0508b8"
             ],
             [
              0.0893854748603352,
              "#1910d8"
             ],
             [
              0.1787709497206704,
              "#3c19f0"
             ],
             [
              0.2681564245810056,
              "#6b1cfb"
             ],
             [
              0.3575418994413408,
              "#981cfd"
             ],
             [
              0.44692737430167595,
              "#bf1cfd"
             ],
             [
              0.5363128491620112,
              "#dd2bfd"
             ],
             [
              0.6256983240223464,
              "#f246fe"
             ],
             [
              0.7150837988826816,
              "#fc67fd"
             ],
             [
              0.8044692737430168,
              "#fe88fc"
             ],
             [
              0.8938547486033519,
              "#fea5fd"
             ],
             [
              0.9832402234636871,
              "#febefe"
             ],
             [
              1,
              "#fec3fe"
             ]
            ],
            "type": "histogram2dcontour"
           }
          ],
          "mesh3d": [
           {
            "colorbar": {
             "outlinewidth": 0,
             "ticks": ""
            },
            "type": "mesh3d"
           }
          ],
          "parcoords": [
           {
            "line": {
             "colorbar": {
              "outlinewidth": 0,
              "ticks": ""
             }
            },
            "type": "parcoords"
           }
          ],
          "scatter": [
           {
            "marker": {
             "colorbar": {
              "outlinewidth": 0,
              "ticks": ""
             }
            },
            "type": "scatter"
           }
          ],
          "scatter3d": [
           {
            "marker": {
             "colorbar": {
              "outlinewidth": 0,
              "ticks": ""
             }
            },
            "type": "scatter3d"
           }
          ],
          "scattercarpet": [
           {
            "marker": {
             "colorbar": {
              "outlinewidth": 0,
              "ticks": ""
             }
            },
            "type": "scattercarpet"
           }
          ],
          "scattergeo": [
           {
            "marker": {
             "colorbar": {
              "outlinewidth": 0,
              "ticks": ""
             }
            },
            "type": "scattergeo"
           }
          ],
          "scattergl": [
           {
            "marker": {
             "colorbar": {
              "outlinewidth": 0,
              "ticks": ""
             }
            },
            "type": "scattergl"
           }
          ],
          "scattermapbox": [
           {
            "marker": {
             "colorbar": {
              "outlinewidth": 0,
              "ticks": ""
             }
            },
            "type": "scattermapbox"
           }
          ],
          "scatterpolar": [
           {
            "marker": {
             "colorbar": {
              "outlinewidth": 0,
              "ticks": ""
             }
            },
            "type": "scatterpolar"
           }
          ],
          "scatterpolargl": [
           {
            "marker": {
             "colorbar": {
              "outlinewidth": 0,
              "ticks": ""
             }
            },
            "type": "scatterpolargl"
           }
          ],
          "scatterternary": [
           {
            "marker": {
             "colorbar": {
              "outlinewidth": 0,
              "ticks": ""
             }
            },
            "type": "scatterternary"
           }
          ],
          "surface": [
           {
            "colorbar": {
             "outlinewidth": 0,
             "ticks": ""
            },
            "type": "surface"
           }
          ],
          "table": [
           {
            "cells": {
             "fill": {
              "color": "#EBF0F8"
             },
             "line": {
              "color": "white"
             }
            },
            "header": {
             "fill": {
              "color": "#C8D4E3"
             },
             "line": {
              "color": "white"
             }
            },
            "type": "table"
           }
          ]
         },
         "layout": {
          "annotationdefaults": {
           "arrowcolor": "#506784",
           "arrowhead": 0,
           "arrowwidth": 1
          },
          "colorscale": {
           "diverging": [
            [
             0,
             "#8e0152"
            ],
            [
             0.1,
             "#c51b7d"
            ],
            [
             0.2,
             "#de77ae"
            ],
            [
             0.3,
             "#f1b6da"
            ],
            [
             0.4,
             "#fde0ef"
            ],
            [
             0.5,
             "#f7f7f7"
            ],
            [
             0.6,
             "#e6f5d0"
            ],
            [
             0.7,
             "#b8e186"
            ],
            [
             0.8,
             "#7fbc41"
            ],
            [
             0.9,
             "#4d9221"
            ],
            [
             1,
             "#276419"
            ]
           ],
           "sequential": [
            [
             0,
             "#0508b8"
            ],
            [
             0.0893854748603352,
             "#1910d8"
            ],
            [
             0.1787709497206704,
             "#3c19f0"
            ],
            [
             0.2681564245810056,
             "#6b1cfb"
            ],
            [
             0.3575418994413408,
             "#981cfd"
            ],
            [
             0.44692737430167595,
             "#bf1cfd"
            ],
            [
             0.5363128491620112,
             "#dd2bfd"
            ],
            [
             0.6256983240223464,
             "#f246fe"
            ],
            [
             0.7150837988826816,
             "#fc67fd"
            ],
            [
             0.8044692737430168,
             "#fe88fc"
            ],
            [
             0.8938547486033519,
             "#fea5fd"
            ],
            [
             0.9832402234636871,
             "#febefe"
            ],
            [
             1,
             "#fec3fe"
            ]
           ],
           "sequentialminus": [
            [
             0,
             "#0508b8"
            ],
            [
             0.0893854748603352,
             "#1910d8"
            ],
            [
             0.1787709497206704,
             "#3c19f0"
            ],
            [
             0.2681564245810056,
             "#6b1cfb"
            ],
            [
             0.3575418994413408,
             "#981cfd"
            ],
            [
             0.44692737430167595,
             "#bf1cfd"
            ],
            [
             0.5363128491620112,
             "#dd2bfd"
            ],
            [
             0.6256983240223464,
             "#f246fe"
            ],
            [
             0.7150837988826816,
             "#fc67fd"
            ],
            [
             0.8044692737430168,
             "#fe88fc"
            ],
            [
             0.8938547486033519,
             "#fea5fd"
            ],
            [
             0.9832402234636871,
             "#febefe"
            ],
            [
             1,
             "#fec3fe"
            ]
           ]
          },
          "colorway": [
           "#636efa",
           "#EF553B",
           "#00cc96",
           "#ab63fa",
           "#19d3f3",
           "#e763fa",
           "#FECB52",
           "#FFA15A",
           "#FF6692",
           "#B6E880"
          ],
          "font": {
           "color": "#2a3f5f"
          },
          "geo": {
           "bgcolor": "white",
           "lakecolor": "white",
           "landcolor": "#E5ECF6",
           "showlakes": true,
           "showland": true,
           "subunitcolor": "white"
          },
          "hoverlabel": {
           "align": "left"
          },
          "hovermode": "closest",
          "mapbox": {
           "style": "light"
          },
          "paper_bgcolor": "white",
          "plot_bgcolor": "#E5ECF6",
          "polar": {
           "angularaxis": {
            "gridcolor": "white",
            "linecolor": "white",
            "ticks": ""
           },
           "bgcolor": "#E5ECF6",
           "radialaxis": {
            "gridcolor": "white",
            "linecolor": "white",
            "ticks": ""
           }
          },
          "scene": {
           "xaxis": {
            "backgroundcolor": "#E5ECF6",
            "gridcolor": "white",
            "gridwidth": 2,
            "linecolor": "white",
            "showbackground": true,
            "ticks": "",
            "zerolinecolor": "white"
           },
           "yaxis": {
            "backgroundcolor": "#E5ECF6",
            "gridcolor": "white",
            "gridwidth": 2,
            "linecolor": "white",
            "showbackground": true,
            "ticks": "",
            "zerolinecolor": "white"
           },
           "zaxis": {
            "backgroundcolor": "#E5ECF6",
            "gridcolor": "white",
            "gridwidth": 2,
            "linecolor": "white",
            "showbackground": true,
            "ticks": "",
            "zerolinecolor": "white"
           }
          },
          "shapedefaults": {
           "fillcolor": "#506784",
           "line": {
            "width": 0
           },
           "opacity": 0.4
          },
          "ternary": {
           "aaxis": {
            "gridcolor": "white",
            "linecolor": "white",
            "ticks": ""
           },
           "baxis": {
            "gridcolor": "white",
            "linecolor": "white",
            "ticks": ""
           },
           "bgcolor": "#E5ECF6",
           "caxis": {
            "gridcolor": "white",
            "linecolor": "white",
            "ticks": ""
           }
          },
          "title": {
           "x": 0.05
          },
          "xaxis": {
           "automargin": true,
           "gridcolor": "white",
           "linecolor": "white",
           "ticks": "",
           "zerolinecolor": "white",
           "zerolinewidth": 2
          },
          "yaxis": {
           "automargin": true,
           "gridcolor": "white",
           "linecolor": "white",
           "ticks": "",
           "zerolinecolor": "white",
           "zerolinewidth": 2
          }
         }
        },
        "updatemenus": [
         {
          "buttons": [
           {
            "args": [
             null,
             {
              "frame": {
               "duration": 500,
               "redraw": false
              },
              "fromcurrent": true,
              "mode": "immediate",
              "transition": {
               "duration": 500,
               "easing": "linear"
              }
             }
            ],
            "label": "&#9654;",
            "method": "animate"
           },
           {
            "args": [
             [
              null
             ],
             {
              "frame": {
               "duration": 0,
               "redraw": false
              },
              "fromcurrent": true,
              "mode": "immediate",
              "transition": {
               "duration": 0,
               "easing": "linear"
              }
             }
            ],
            "label": "&#9724;",
            "method": "animate"
           }
          ],
          "direction": "left",
          "pad": {
           "r": 10,
           "t": 70
          },
          "showactive": false,
          "type": "buttons",
          "x": 0.1,
          "xanchor": "right",
          "y": 0,
          "yanchor": "top"
         }
        ],
        "xaxis": {
         "range": [
          260,
          300
         ],
         "title": {
          "text": "AverageMathScore"
         }
        },
        "yaxis": {
         "range": [
          5,
          16
         ],
         "title": {
          "text": "DollarsPerStudent"
         }
        }
       }
      },
      "text/html": [
       "<div>\n",
       "        \n",
       "        \n",
       "            <div id=\"2a44bc30-e553-49ee-b5ca-93b36a183efc\" class=\"plotly-graph-div\" style=\"height:600px; width:100%;\"></div>\n",
       "            <script type=\"text/javascript\">\n",
       "                require([\"plotly\"], function(Plotly) {\n",
       "                    window.PLOTLYENV=window.PLOTLYENV || {};\n",
       "                    window.PLOTLYENV.BASE_URL='https://plot.ly';\n",
       "                    \n",
       "                if (document.getElementById(\"2a44bc30-e553-49ee-b5ca-93b36a183efc\")) {\n",
       "                    Plotly.newPlot(\n",
       "                        '2a44bc30-e553-49ee-b5ca-93b36a183efc',\n",
       "                        [{\"hoverlabel\": {\"namelength\": 0}, \"hovertemplate\": \"<b>%{hovertext}</b><br><br>State=West Virginia<br>Year=2003<br>AverageMathScore=%{x}<br>DollarsPerStudent=%{marker.size}\", \"hovertext\": [\"West Virginia\"], \"ids\": [\"West Virginia\"], \"legendgroup\": \"State=West Virginia\", \"marker\": {\"color\": \"#636efa\", \"size\": [8.869981640038212], \"sizemode\": \"area\", \"sizeref\": 0.032515707985901254, \"symbol\": \"circle\"}, \"mode\": \"markers\", \"name\": \"State=West Virginia\", \"showlegend\": true, \"type\": \"scatter\", \"uid\": \"f385ce8b-c6c8-4cab-aed7-ec55cf99b6fa\", \"x\": [270.7703534], \"xaxis\": \"x\", \"y\": [8.869981640038212], \"yaxis\": \"y\"}, {\"hoverlabel\": {\"namelength\": 0}, \"hovertemplate\": \"<b>%{hovertext}</b><br><br>State=Arizona<br>Year=2003<br>AverageMathScore=%{x}<br>DollarsPerStudent=%{marker.size}\", \"hovertext\": [\"Arizona\"], \"ids\": [\"Arizona\"], \"legendgroup\": \"State=Arizona\", \"marker\": {\"color\": \"#EF553B\", \"size\": [7.461789418713741], \"sizemode\": \"area\", \"sizeref\": 0.032515707985901254, \"symbol\": \"circle\"}, \"mode\": \"markers\", \"name\": \"State=Arizona\", \"showlegend\": true, \"type\": \"scatter\", \"uid\": \"46ba27f1-52ca-4a07-a0cb-d5597283d717\", \"x\": [271.1773505], \"xaxis\": \"x\", \"y\": [7.461789418713741], \"yaxis\": \"y\"}, {\"hoverlabel\": {\"namelength\": 0}, \"hovertemplate\": \"<b>%{hovertext}</b><br><br>State=Colorado<br>Year=2003<br>AverageMathScore=%{x}<br>DollarsPerStudent=%{marker.size}\", \"hovertext\": [\"Colorado\"], \"ids\": [\"Colorado\"], \"legendgroup\": \"State=Colorado\", \"marker\": {\"color\": \"#00cc96\", \"size\": [8.384595412549647], \"sizemode\": \"area\", \"sizeref\": 0.032515707985901254, \"symbol\": \"circle\"}, \"mode\": \"markers\", \"name\": \"State=Colorado\", \"showlegend\": true, \"type\": \"scatter\", \"uid\": \"d5df0728-0073-4f44-b94f-e2766df5f727\", \"x\": [283.3998585], \"xaxis\": \"x\", \"y\": [8.384595412549647], \"yaxis\": \"y\"}, {\"hoverlabel\": {\"namelength\": 0}, \"hovertemplate\": \"<b>%{hovertext}</b><br><br>State=Kentucky<br>Year=2003<br>AverageMathScore=%{x}<br>DollarsPerStudent=%{marker.size}\", \"hovertext\": [\"Kentucky\"], \"ids\": [\"Kentucky\"], \"legendgroup\": \"State=Kentucky\", \"marker\": {\"color\": \"#ab63fa\", \"size\": [7.373120030509305], \"sizemode\": \"area\", \"sizeref\": 0.032515707985901254, \"symbol\": \"circle\"}, \"mode\": \"markers\", \"name\": \"State=Kentucky\", \"showlegend\": true, \"type\": \"scatter\", \"uid\": \"757f7a82-0325-44c0-bfdb-7bccf2eecffd\", \"x\": [274.2784722], \"xaxis\": \"x\", \"y\": [7.373120030509305], \"yaxis\": \"y\"}, {\"hoverlabel\": {\"namelength\": 0}, \"hovertemplate\": \"<b>%{hovertext}</b><br><br>State=Virginia<br>Year=2003<br>AverageMathScore=%{x}<br>DollarsPerStudent=%{marker.size}\", \"hovertext\": [\"Virginia\"], \"ids\": [\"Virginia\"], \"legendgroup\": \"State=Virginia\", \"marker\": {\"color\": \"#19d3f3\", \"size\": [8.936233366058167], \"sizemode\": \"area\", \"sizeref\": 0.032515707985901254, \"symbol\": \"circle\"}, \"mode\": \"markers\", \"name\": \"State=Virginia\", \"showlegend\": true, \"type\": \"scatter\", \"uid\": \"85d8830c-d8e7-423d-b670-170f2e83edd7\", \"x\": [281.6766434], \"xaxis\": \"x\", \"y\": [8.936233366058167], \"yaxis\": \"y\"}, {\"hoverlabel\": {\"namelength\": 0}, \"hovertemplate\": \"<b>%{hovertext}</b><br><br>State=Oklahoma<br>Year=2003<br>AverageMathScore=%{x}<br>DollarsPerStudent=%{marker.size}\", \"hovertext\": [\"Oklahoma\"], \"ids\": [\"Oklahoma\"], \"legendgroup\": \"State=Oklahoma\", \"marker\": {\"color\": \"#e763fa\", \"size\": [7.091991054177974], \"sizemode\": \"area\", \"sizeref\": 0.032515707985901254, \"symbol\": \"circle\"}, \"mode\": \"markers\", \"name\": \"State=Oklahoma\", \"showlegend\": true, \"type\": \"scatter\", \"uid\": \"c157ee9c-2352-4390-8327-42454e32702a\", \"x\": [271.9051513], \"xaxis\": \"x\", \"y\": [7.091991054177974], \"yaxis\": \"y\"}, {\"hoverlabel\": {\"namelength\": 0}, \"hovertemplate\": \"<b>%{hovertext}</b><br><br>State=South Carolina<br>Year=2003<br>AverageMathScore=%{x}<br>DollarsPerStudent=%{marker.size}\", \"hovertext\": [\"South Carolina\"], \"ids\": [\"South Carolina\"], \"legendgroup\": \"State=South Carolina\", \"marker\": {\"color\": \"#FECB52\", \"size\": [8.254170666265743], \"sizemode\": \"area\", \"sizeref\": 0.032515707985901254, \"symbol\": \"circle\"}, \"mode\": \"markers\", \"name\": \"State=South Carolina\", \"showlegend\": true, \"type\": \"scatter\", \"uid\": \"ec20bebc-e288-4745-8c5f-d54d78787dd1\", \"x\": [277.3004496], \"xaxis\": \"x\", \"y\": [8.254170666265743], \"yaxis\": \"y\"}, {\"hoverlabel\": {\"namelength\": 0}, \"hovertemplate\": \"<b>%{hovertext}</b><br><br>State=North Carolina<br>Year=2003<br>AverageMathScore=%{x}<br>DollarsPerStudent=%{marker.size}\", \"hovertext\": [\"North Carolina\"], \"ids\": [\"North Carolina\"], \"legendgroup\": \"State=North Carolina\", \"marker\": {\"color\": \"#FFA15A\", \"size\": [7.536127981062381], \"sizemode\": \"area\", \"sizeref\": 0.032515707985901254, \"symbol\": \"circle\"}, \"mode\": \"markers\", \"name\": \"State=North Carolina\", \"showlegend\": true, \"type\": \"scatter\", \"uid\": \"81cebe82-b0d3-425e-9de5-b740d1ec8af3\", \"x\": [281.2403506], \"xaxis\": \"x\", \"y\": [7.536127981062381], \"yaxis\": \"y\"}],\n",
       "                        {\"grid\": {\"xaxes\": [\"x\"], \"xgap\": 0.1, \"xside\": \"bottom\", \"yaxes\": [\"y\"], \"ygap\": 0.1, \"yside\": \"left\"}, \"height\": 600, \"legend\": {\"itemsizing\": \"constant\", \"tracegroupgap\": 0}, \"margin\": {\"t\": 60}, \"sliders\": [{\"active\": 0, \"currentvalue\": {\"prefix\": \"Year=\"}, \"len\": 0.9, \"pad\": {\"b\": 10, \"t\": 60}, \"steps\": [{\"args\": [[\"2003\"], {\"frame\": {\"duration\": 0, \"redraw\": false}, \"fromcurrent\": true, \"mode\": \"immediate\", \"transition\": {\"duration\": 0, \"easing\": \"linear\"}}], \"label\": \"2003\", \"method\": \"animate\"}, {\"args\": [[\"2005\"], {\"frame\": {\"duration\": 0, \"redraw\": false}, \"fromcurrent\": true, \"mode\": \"immediate\", \"transition\": {\"duration\": 0, \"easing\": \"linear\"}}], \"label\": \"2005\", \"method\": \"animate\"}, {\"args\": [[\"2007\"], {\"frame\": {\"duration\": 0, \"redraw\": false}, \"fromcurrent\": true, \"mode\": \"immediate\", \"transition\": {\"duration\": 0, \"easing\": \"linear\"}}], \"label\": \"2007\", \"method\": \"animate\"}, {\"args\": [[\"2009\"], {\"frame\": {\"duration\": 0, \"redraw\": false}, \"fromcurrent\": true, \"mode\": \"immediate\", \"transition\": {\"duration\": 0, \"easing\": \"linear\"}}], \"label\": \"2009\", \"method\": \"animate\"}, {\"args\": [[\"2011\"], {\"frame\": {\"duration\": 0, \"redraw\": false}, \"fromcurrent\": true, \"mode\": \"immediate\", \"transition\": {\"duration\": 0, \"easing\": \"linear\"}}], \"label\": \"2011\", \"method\": \"animate\"}, {\"args\": [[\"2013\"], {\"frame\": {\"duration\": 0, \"redraw\": false}, \"fromcurrent\": true, \"mode\": \"immediate\", \"transition\": {\"duration\": 0, \"easing\": \"linear\"}}], \"label\": \"2013\", \"method\": \"animate\"}, {\"args\": [[\"2015\"], {\"frame\": {\"duration\": 0, \"redraw\": false}, \"fromcurrent\": true, \"mode\": \"immediate\", \"transition\": {\"duration\": 0, \"easing\": \"linear\"}}], \"label\": \"2015\", \"method\": \"animate\"}, {\"args\": [[\"2017\"], {\"frame\": {\"duration\": 0, \"redraw\": false}, \"fromcurrent\": true, \"mode\": \"immediate\", \"transition\": {\"duration\": 0, \"easing\": \"linear\"}}], \"label\": \"2017\", \"method\": \"animate\"}], \"x\": 0.1, \"xanchor\": \"left\", \"y\": 0, \"yanchor\": \"top\"}], \"template\": {\"data\": {\"bar\": [{\"marker\": {\"line\": {\"color\": \"#E5ECF6\", \"width\": 0.5}}, \"type\": \"bar\"}], \"barpolar\": [{\"marker\": {\"line\": {\"color\": \"#E5ECF6\", \"width\": 0.5}}, \"type\": \"barpolar\"}], \"carpet\": [{\"aaxis\": {\"endlinecolor\": \"#2a3f5f\", \"gridcolor\": \"white\", \"linecolor\": \"white\", \"minorgridcolor\": \"white\", \"startlinecolor\": \"#2a3f5f\"}, \"baxis\": {\"endlinecolor\": \"#2a3f5f\", \"gridcolor\": \"white\", \"linecolor\": \"white\", \"minorgridcolor\": \"white\", \"startlinecolor\": \"#2a3f5f\"}, \"type\": \"carpet\"}], \"choropleth\": [{\"colorbar\": {\"outlinewidth\": 0, \"ticks\": \"\"}, \"type\": \"choropleth\"}], \"contour\": [{\"colorbar\": {\"outlinewidth\": 0, \"ticks\": \"\"}, \"colorscale\": [[0.0, \"#0508b8\"], [0.0893854748603352, \"#1910d8\"], [0.1787709497206704, \"#3c19f0\"], [0.2681564245810056, \"#6b1cfb\"], [0.3575418994413408, \"#981cfd\"], [0.44692737430167595, \"#bf1cfd\"], [0.5363128491620112, \"#dd2bfd\"], [0.6256983240223464, \"#f246fe\"], [0.7150837988826816, \"#fc67fd\"], [0.8044692737430168, \"#fe88fc\"], [0.8938547486033519, \"#fea5fd\"], [0.9832402234636871, \"#febefe\"], [1.0, \"#fec3fe\"]], \"type\": \"contour\"}], \"contourcarpet\": [{\"colorbar\": {\"outlinewidth\": 0, \"ticks\": \"\"}, \"type\": \"contourcarpet\"}], \"heatmap\": [{\"colorbar\": {\"outlinewidth\": 0, \"ticks\": \"\"}, \"colorscale\": [[0.0, \"#0508b8\"], [0.0893854748603352, \"#1910d8\"], [0.1787709497206704, \"#3c19f0\"], [0.2681564245810056, \"#6b1cfb\"], [0.3575418994413408, \"#981cfd\"], [0.44692737430167595, \"#bf1cfd\"], [0.5363128491620112, \"#dd2bfd\"], [0.6256983240223464, \"#f246fe\"], [0.7150837988826816, \"#fc67fd\"], [0.8044692737430168, \"#fe88fc\"], [0.8938547486033519, \"#fea5fd\"], [0.9832402234636871, \"#febefe\"], [1.0, \"#fec3fe\"]], \"type\": \"heatmap\"}], \"heatmapgl\": [{\"colorbar\": {\"outlinewidth\": 0, \"ticks\": \"\"}, \"type\": \"heatmapgl\"}], \"histogram\": [{\"marker\": {\"colorbar\": {\"outlinewidth\": 0, \"ticks\": \"\"}}, \"type\": \"histogram\"}], \"histogram2d\": [{\"colorbar\": {\"outlinewidth\": 0, \"ticks\": \"\"}, \"colorscale\": [[0.0, \"#0508b8\"], [0.0893854748603352, \"#1910d8\"], [0.1787709497206704, \"#3c19f0\"], [0.2681564245810056, \"#6b1cfb\"], [0.3575418994413408, \"#981cfd\"], [0.44692737430167595, \"#bf1cfd\"], [0.5363128491620112, \"#dd2bfd\"], [0.6256983240223464, \"#f246fe\"], [0.7150837988826816, \"#fc67fd\"], [0.8044692737430168, \"#fe88fc\"], [0.8938547486033519, \"#fea5fd\"], [0.9832402234636871, \"#febefe\"], [1.0, \"#fec3fe\"]], \"type\": \"histogram2d\"}], \"histogram2dcontour\": [{\"colorbar\": {\"outlinewidth\": 0, \"ticks\": \"\"}, \"colorscale\": [[0.0, \"#0508b8\"], [0.0893854748603352, \"#1910d8\"], [0.1787709497206704, \"#3c19f0\"], [0.2681564245810056, \"#6b1cfb\"], [0.3575418994413408, \"#981cfd\"], [0.44692737430167595, \"#bf1cfd\"], [0.5363128491620112, \"#dd2bfd\"], [0.6256983240223464, \"#f246fe\"], [0.7150837988826816, \"#fc67fd\"], [0.8044692737430168, \"#fe88fc\"], [0.8938547486033519, \"#fea5fd\"], [0.9832402234636871, \"#febefe\"], [1.0, \"#fec3fe\"]], \"type\": \"histogram2dcontour\"}], \"mesh3d\": [{\"colorbar\": {\"outlinewidth\": 0, \"ticks\": \"\"}, \"type\": \"mesh3d\"}], \"parcoords\": [{\"line\": {\"colorbar\": {\"outlinewidth\": 0, \"ticks\": \"\"}}, \"type\": \"parcoords\"}], \"scatter\": [{\"marker\": {\"colorbar\": {\"outlinewidth\": 0, \"ticks\": \"\"}}, \"type\": \"scatter\"}], \"scatter3d\": [{\"marker\": {\"colorbar\": {\"outlinewidth\": 0, \"ticks\": \"\"}}, \"type\": \"scatter3d\"}], \"scattercarpet\": [{\"marker\": {\"colorbar\": {\"outlinewidth\": 0, \"ticks\": \"\"}}, \"type\": \"scattercarpet\"}], \"scattergeo\": [{\"marker\": {\"colorbar\": {\"outlinewidth\": 0, \"ticks\": \"\"}}, \"type\": \"scattergeo\"}], \"scattergl\": [{\"marker\": {\"colorbar\": {\"outlinewidth\": 0, \"ticks\": \"\"}}, \"type\": \"scattergl\"}], \"scattermapbox\": [{\"marker\": {\"colorbar\": {\"outlinewidth\": 0, \"ticks\": \"\"}}, \"type\": \"scattermapbox\"}], \"scatterpolar\": [{\"marker\": {\"colorbar\": {\"outlinewidth\": 0, \"ticks\": \"\"}}, \"type\": \"scatterpolar\"}], \"scatterpolargl\": [{\"marker\": {\"colorbar\": {\"outlinewidth\": 0, \"ticks\": \"\"}}, \"type\": \"scatterpolargl\"}], \"scatterternary\": [{\"marker\": {\"colorbar\": {\"outlinewidth\": 0, \"ticks\": \"\"}}, \"type\": \"scatterternary\"}], \"surface\": [{\"colorbar\": {\"outlinewidth\": 0, \"ticks\": \"\"}, \"type\": \"surface\"}], \"table\": [{\"cells\": {\"fill\": {\"color\": \"#EBF0F8\"}, \"line\": {\"color\": \"white\"}}, \"header\": {\"fill\": {\"color\": \"#C8D4E3\"}, \"line\": {\"color\": \"white\"}}, \"type\": \"table\"}]}, \"layout\": {\"annotationdefaults\": {\"arrowcolor\": \"#506784\", \"arrowhead\": 0, \"arrowwidth\": 1}, \"colorscale\": {\"diverging\": [[0, \"#8e0152\"], [0.1, \"#c51b7d\"], [0.2, \"#de77ae\"], [0.3, \"#f1b6da\"], [0.4, \"#fde0ef\"], [0.5, \"#f7f7f7\"], [0.6, \"#e6f5d0\"], [0.7, \"#b8e186\"], [0.8, \"#7fbc41\"], [0.9, \"#4d9221\"], [1, \"#276419\"]], \"sequential\": [[0.0, \"#0508b8\"], [0.0893854748603352, \"#1910d8\"], [0.1787709497206704, \"#3c19f0\"], [0.2681564245810056, \"#6b1cfb\"], [0.3575418994413408, \"#981cfd\"], [0.44692737430167595, \"#bf1cfd\"], [0.5363128491620112, \"#dd2bfd\"], [0.6256983240223464, \"#f246fe\"], [0.7150837988826816, \"#fc67fd\"], [0.8044692737430168, \"#fe88fc\"], [0.8938547486033519, \"#fea5fd\"], [0.9832402234636871, \"#febefe\"], [1.0, \"#fec3fe\"]], \"sequentialminus\": [[0.0, \"#0508b8\"], [0.0893854748603352, \"#1910d8\"], [0.1787709497206704, \"#3c19f0\"], [0.2681564245810056, \"#6b1cfb\"], [0.3575418994413408, \"#981cfd\"], [0.44692737430167595, \"#bf1cfd\"], [0.5363128491620112, \"#dd2bfd\"], [0.6256983240223464, \"#f246fe\"], [0.7150837988826816, \"#fc67fd\"], [0.8044692737430168, \"#fe88fc\"], [0.8938547486033519, \"#fea5fd\"], [0.9832402234636871, \"#febefe\"], [1.0, \"#fec3fe\"]]}, \"colorway\": [\"#636efa\", \"#EF553B\", \"#00cc96\", \"#ab63fa\", \"#19d3f3\", \"#e763fa\", \"#FECB52\", \"#FFA15A\", \"#FF6692\", \"#B6E880\"], \"font\": {\"color\": \"#2a3f5f\"}, \"geo\": {\"bgcolor\": \"white\", \"lakecolor\": \"white\", \"landcolor\": \"#E5ECF6\", \"showlakes\": true, \"showland\": true, \"subunitcolor\": \"white\"}, \"hoverlabel\": {\"align\": \"left\"}, \"hovermode\": \"closest\", \"mapbox\": {\"style\": \"light\"}, \"paper_bgcolor\": \"white\", \"plot_bgcolor\": \"#E5ECF6\", \"polar\": {\"angularaxis\": {\"gridcolor\": \"white\", \"linecolor\": \"white\", \"ticks\": \"\"}, \"bgcolor\": \"#E5ECF6\", \"radialaxis\": {\"gridcolor\": \"white\", \"linecolor\": \"white\", \"ticks\": \"\"}}, \"scene\": {\"xaxis\": {\"backgroundcolor\": \"#E5ECF6\", \"gridcolor\": \"white\", \"gridwidth\": 2, \"linecolor\": \"white\", \"showbackground\": true, \"ticks\": \"\", \"zerolinecolor\": \"white\"}, \"yaxis\": {\"backgroundcolor\": \"#E5ECF6\", \"gridcolor\": \"white\", \"gridwidth\": 2, \"linecolor\": \"white\", \"showbackground\": true, \"ticks\": \"\", \"zerolinecolor\": \"white\"}, \"zaxis\": {\"backgroundcolor\": \"#E5ECF6\", \"gridcolor\": \"white\", \"gridwidth\": 2, \"linecolor\": \"white\", \"showbackground\": true, \"ticks\": \"\", \"zerolinecolor\": \"white\"}}, \"shapedefaults\": {\"fillcolor\": \"#506784\", \"line\": {\"width\": 0}, \"opacity\": 0.4}, \"ternary\": {\"aaxis\": {\"gridcolor\": \"white\", \"linecolor\": \"white\", \"ticks\": \"\"}, \"baxis\": {\"gridcolor\": \"white\", \"linecolor\": \"white\", \"ticks\": \"\"}, \"bgcolor\": \"#E5ECF6\", \"caxis\": {\"gridcolor\": \"white\", \"linecolor\": \"white\", \"ticks\": \"\"}}, \"title\": {\"x\": 0.05}, \"xaxis\": {\"automargin\": true, \"gridcolor\": \"white\", \"linecolor\": \"white\", \"ticks\": \"\", \"zerolinecolor\": \"white\", \"zerolinewidth\": 2}, \"yaxis\": {\"automargin\": true, \"gridcolor\": \"white\", \"linecolor\": \"white\", \"ticks\": \"\", \"zerolinecolor\": \"white\", \"zerolinewidth\": 2}}}, \"updatemenus\": [{\"buttons\": [{\"args\": [null, {\"frame\": {\"duration\": 500, \"redraw\": false}, \"fromcurrent\": true, \"mode\": \"immediate\", \"transition\": {\"duration\": 500, \"easing\": \"linear\"}}], \"label\": \"&#9654;\", \"method\": \"animate\"}, {\"args\": [[null], {\"frame\": {\"duration\": 0, \"redraw\": false}, \"fromcurrent\": true, \"mode\": \"immediate\", \"transition\": {\"duration\": 0, \"easing\": \"linear\"}}], \"label\": \"&#9724;\", \"method\": \"animate\"}], \"direction\": \"left\", \"pad\": {\"r\": 10, \"t\": 70}, \"showactive\": false, \"type\": \"buttons\", \"x\": 0.1, \"xanchor\": \"right\", \"y\": 0, \"yanchor\": \"top\"}], \"xaxis\": {\"range\": [260, 300], \"title\": {\"text\": \"AverageMathScore\"}}, \"yaxis\": {\"range\": [5, 16], \"title\": {\"text\": \"DollarsPerStudent\"}}},\n",
       "                        {\"showLink\": false, \"linkText\": \"Export to plot.ly\", \"plotlyServerURL\": \"https://plot.ly\", \"responsive\": true}\n",
       "                    ).then(function(){\n",
       "                            Plotly.addFrames('2a44bc30-e553-49ee-b5ca-93b36a183efc', [{\"data\": [{\"hoverlabel\": {\"namelength\": 0}, \"hovertemplate\": \"<b>%{hovertext}</b><br><br>State=West Virginia<br>Year=2003<br>AverageMathScore=%{x}<br>DollarsPerStudent=%{marker.size}\", \"hovertext\": [\"West Virginia\"], \"ids\": [\"West Virginia\"], \"legendgroup\": \"State=West Virginia\", \"marker\": {\"color\": \"#636efa\", \"size\": [8.869981640038212], \"sizemode\": \"area\", \"sizeref\": 0.032515707985901254, \"symbol\": \"circle\"}, \"mode\": \"markers\", \"name\": \"State=West Virginia\", \"showlegend\": true, \"x\": [270.7703534], \"xaxis\": \"x\", \"y\": [8.869981640038212], \"yaxis\": \"y\", \"type\": \"scatter\"}, {\"hoverlabel\": {\"namelength\": 0}, \"hovertemplate\": \"<b>%{hovertext}</b><br><br>State=Arizona<br>Year=2003<br>AverageMathScore=%{x}<br>DollarsPerStudent=%{marker.size}\", \"hovertext\": [\"Arizona\"], \"ids\": [\"Arizona\"], \"legendgroup\": \"State=Arizona\", \"marker\": {\"color\": \"#EF553B\", \"size\": [7.461789418713741], \"sizemode\": \"area\", \"sizeref\": 0.032515707985901254, \"symbol\": \"circle\"}, \"mode\": \"markers\", \"name\": \"State=Arizona\", \"showlegend\": true, \"x\": [271.1773505], \"xaxis\": \"x\", \"y\": [7.461789418713741], \"yaxis\": \"y\", \"type\": \"scatter\"}, {\"hoverlabel\": {\"namelength\": 0}, \"hovertemplate\": \"<b>%{hovertext}</b><br><br>State=Colorado<br>Year=2003<br>AverageMathScore=%{x}<br>DollarsPerStudent=%{marker.size}\", \"hovertext\": [\"Colorado\"], \"ids\": [\"Colorado\"], \"legendgroup\": \"State=Colorado\", \"marker\": {\"color\": \"#00cc96\", \"size\": [8.384595412549647], \"sizemode\": \"area\", \"sizeref\": 0.032515707985901254, \"symbol\": \"circle\"}, \"mode\": \"markers\", \"name\": \"State=Colorado\", \"showlegend\": true, \"x\": [283.3998585], \"xaxis\": \"x\", \"y\": [8.384595412549647], \"yaxis\": \"y\", \"type\": \"scatter\"}, {\"hoverlabel\": {\"namelength\": 0}, \"hovertemplate\": \"<b>%{hovertext}</b><br><br>State=Kentucky<br>Year=2003<br>AverageMathScore=%{x}<br>DollarsPerStudent=%{marker.size}\", \"hovertext\": [\"Kentucky\"], \"ids\": [\"Kentucky\"], \"legendgroup\": \"State=Kentucky\", \"marker\": {\"color\": \"#ab63fa\", \"size\": [7.373120030509305], \"sizemode\": \"area\", \"sizeref\": 0.032515707985901254, \"symbol\": \"circle\"}, \"mode\": \"markers\", \"name\": \"State=Kentucky\", \"showlegend\": true, \"x\": [274.2784722], \"xaxis\": \"x\", \"y\": [7.373120030509305], \"yaxis\": \"y\", \"type\": \"scatter\"}, {\"hoverlabel\": {\"namelength\": 0}, \"hovertemplate\": \"<b>%{hovertext}</b><br><br>State=Virginia<br>Year=2003<br>AverageMathScore=%{x}<br>DollarsPerStudent=%{marker.size}\", \"hovertext\": [\"Virginia\"], \"ids\": [\"Virginia\"], \"legendgroup\": \"State=Virginia\", \"marker\": {\"color\": \"#19d3f3\", \"size\": [8.936233366058167], \"sizemode\": \"area\", \"sizeref\": 0.032515707985901254, \"symbol\": \"circle\"}, \"mode\": \"markers\", \"name\": \"State=Virginia\", \"showlegend\": true, \"x\": [281.6766434], \"xaxis\": \"x\", \"y\": [8.936233366058167], \"yaxis\": \"y\", \"type\": \"scatter\"}, {\"hoverlabel\": {\"namelength\": 0}, \"hovertemplate\": \"<b>%{hovertext}</b><br><br>State=Oklahoma<br>Year=2003<br>AverageMathScore=%{x}<br>DollarsPerStudent=%{marker.size}\", \"hovertext\": [\"Oklahoma\"], \"ids\": [\"Oklahoma\"], \"legendgroup\": \"State=Oklahoma\", \"marker\": {\"color\": \"#e763fa\", \"size\": [7.091991054177974], \"sizemode\": \"area\", \"sizeref\": 0.032515707985901254, \"symbol\": \"circle\"}, \"mode\": \"markers\", \"name\": \"State=Oklahoma\", \"showlegend\": true, \"x\": [271.9051513], \"xaxis\": \"x\", \"y\": [7.091991054177974], \"yaxis\": \"y\", \"type\": \"scatter\"}, {\"hoverlabel\": {\"namelength\": 0}, \"hovertemplate\": \"<b>%{hovertext}</b><br><br>State=South Carolina<br>Year=2003<br>AverageMathScore=%{x}<br>DollarsPerStudent=%{marker.size}\", \"hovertext\": [\"South Carolina\"], \"ids\": [\"South Carolina\"], \"legendgroup\": \"State=South Carolina\", \"marker\": {\"color\": \"#FECB52\", \"size\": [8.254170666265743], \"sizemode\": \"area\", \"sizeref\": 0.032515707985901254, \"symbol\": \"circle\"}, \"mode\": \"markers\", \"name\": \"State=South Carolina\", \"showlegend\": true, \"x\": [277.3004496], \"xaxis\": \"x\", \"y\": [8.254170666265743], \"yaxis\": \"y\", \"type\": \"scatter\"}, {\"hoverlabel\": {\"namelength\": 0}, \"hovertemplate\": \"<b>%{hovertext}</b><br><br>State=North Carolina<br>Year=2003<br>AverageMathScore=%{x}<br>DollarsPerStudent=%{marker.size}\", \"hovertext\": [\"North Carolina\"], \"ids\": [\"North Carolina\"], \"legendgroup\": \"State=North Carolina\", \"marker\": {\"color\": \"#FFA15A\", \"size\": [7.536127981062381], \"sizemode\": \"area\", \"sizeref\": 0.032515707985901254, \"symbol\": \"circle\"}, \"mode\": \"markers\", \"name\": \"State=North Carolina\", \"showlegend\": true, \"x\": [281.2403506], \"xaxis\": \"x\", \"y\": [7.536127981062381], \"yaxis\": \"y\", \"type\": \"scatter\"}], \"name\": \"2003\"}, {\"data\": [{\"hoverlabel\": {\"namelength\": 0}, \"hovertemplate\": \"<b>%{hovertext}</b><br><br>State=West Virginia<br>Year=2005<br>AverageMathScore=%{x}<br>DollarsPerStudent=%{marker.size}\", \"hovertext\": [\"West Virginia\"], \"ids\": [\"West Virginia\"], \"legendgroup\": \"State=West Virginia\", \"marker\": {\"color\": \"#636efa\", \"size\": [9.665407076605977], \"sizemode\": \"area\", \"sizeref\": 0.032515707985901254, \"symbol\": \"circle\"}, \"mode\": \"markers\", \"name\": \"State=West Virginia\", \"showlegend\": true, \"x\": [269.0994928], \"xaxis\": \"x\", \"y\": [9.665407076605977], \"yaxis\": \"y\", \"type\": \"scatter\"}, {\"hoverlabel\": {\"namelength\": 0}, \"hovertemplate\": \"<b>%{hovertext}</b><br><br>State=Arizona<br>Year=2005<br>AverageMathScore=%{x}<br>DollarsPerStudent=%{marker.size}\", \"hovertext\": [\"Arizona\"], \"ids\": [\"Arizona\"], \"legendgroup\": \"State=Arizona\", \"marker\": {\"color\": \"#EF553B\", \"size\": [8.207755401549123], \"sizemode\": \"area\", \"sizeref\": 0.032515707985901254, \"symbol\": \"circle\"}, \"mode\": \"markers\", \"name\": \"State=Arizona\", \"showlegend\": true, \"x\": [274.30509], \"xaxis\": \"x\", \"y\": [8.207755401549123], \"yaxis\": \"y\", \"type\": \"scatter\"}, {\"hoverlabel\": {\"namelength\": 0}, \"hovertemplate\": \"<b>%{hovertext}</b><br><br>State=Colorado<br>Year=2005<br>AverageMathScore=%{x}<br>DollarsPerStudent=%{marker.size}\", \"hovertext\": [\"Colorado\"], \"ids\": [\"Colorado\"], \"legendgroup\": \"State=Colorado\", \"marker\": {\"color\": \"#00cc96\", \"size\": [9.028487512216026], \"sizemode\": \"area\", \"sizeref\": 0.032515707985901254, \"symbol\": \"circle\"}, \"mode\": \"markers\", \"name\": \"State=Colorado\", \"showlegend\": true, \"x\": [280.8240073], \"xaxis\": \"x\", \"y\": [9.028487512216026], \"yaxis\": \"y\", \"type\": \"scatter\"}, {\"hoverlabel\": {\"namelength\": 0}, \"hovertemplate\": \"<b>%{hovertext}</b><br><br>State=Kentucky<br>Year=2005<br>AverageMathScore=%{x}<br>DollarsPerStudent=%{marker.size}\", \"hovertext\": [\"Kentucky\"], \"ids\": [\"Kentucky\"], \"legendgroup\": \"State=Kentucky\", \"marker\": {\"color\": \"#ab63fa\", \"size\": [8.071598008604868], \"sizemode\": \"area\", \"sizeref\": 0.032515707985901254, \"symbol\": \"circle\"}, \"mode\": \"markers\", \"name\": \"State=Kentucky\", \"showlegend\": true, \"x\": [273.9830272], \"xaxis\": \"x\", \"y\": [8.071598008604868], \"yaxis\": \"y\", \"type\": \"scatter\"}, {\"hoverlabel\": {\"namelength\": 0}, \"hovertemplate\": \"<b>%{hovertext}</b><br><br>State=Virginia<br>Year=2005<br>AverageMathScore=%{x}<br>DollarsPerStudent=%{marker.size}\", \"hovertext\": [\"Virginia\"], \"ids\": [\"Virginia\"], \"legendgroup\": \"State=Virginia\", \"marker\": {\"color\": \"#19d3f3\", \"size\": [10.121032950983512], \"sizemode\": \"area\", \"sizeref\": 0.032515707985901254, \"symbol\": \"circle\"}, \"mode\": \"markers\", \"name\": \"State=Virginia\", \"showlegend\": true, \"x\": [284.3716282], \"xaxis\": \"x\", \"y\": [10.121032950983512], \"yaxis\": \"y\", \"type\": \"scatter\"}, {\"hoverlabel\": {\"namelength\": 0}, \"hovertemplate\": \"<b>%{hovertext}</b><br><br>State=Oklahoma<br>Year=2005<br>AverageMathScore=%{x}<br>DollarsPerStudent=%{marker.size}\", \"hovertext\": [\"Oklahoma\"], \"ids\": [\"Oklahoma\"], \"legendgroup\": \"State=Oklahoma\", \"marker\": {\"color\": \"#e763fa\", \"size\": [7.776503031892489], \"sizemode\": \"area\", \"sizeref\": 0.032515707985901254, \"symbol\": \"circle\"}, \"mode\": \"markers\", \"name\": \"State=Oklahoma\", \"showlegend\": true, \"x\": [271.3599024], \"xaxis\": \"x\", \"y\": [7.776503031892489], \"yaxis\": \"y\", \"type\": \"scatter\"}, {\"hoverlabel\": {\"namelength\": 0}, \"hovertemplate\": \"<b>%{hovertext}</b><br><br>State=South Carolina<br>Year=2005<br>AverageMathScore=%{x}<br>DollarsPerStudent=%{marker.size}\", \"hovertext\": [\"South Carolina\"], \"ids\": [\"South Carolina\"], \"legendgroup\": \"State=South Carolina\", \"marker\": {\"color\": \"#FECB52\", \"size\": [9.038687861535477], \"sizemode\": \"area\", \"sizeref\": 0.032515707985901254, \"symbol\": \"circle\"}, \"mode\": \"markers\", \"name\": \"State=South Carolina\", \"showlegend\": true, \"x\": [281.2343211], \"xaxis\": \"x\", \"y\": [9.038687861535477], \"yaxis\": \"y\", \"type\": \"scatter\"}, {\"hoverlabel\": {\"namelength\": 0}, \"hovertemplate\": \"<b>%{hovertext}</b><br><br>State=North Carolina<br>Year=2005<br>AverageMathScore=%{x}<br>DollarsPerStudent=%{marker.size}\", \"hovertext\": [\"North Carolina\"], \"ids\": [\"North Carolina\"], \"legendgroup\": \"State=North Carolina\", \"marker\": {\"color\": \"#FFA15A\", \"size\": [8.23808972391898], \"sizemode\": \"area\", \"sizeref\": 0.032515707985901254, \"symbol\": \"circle\"}, \"mode\": \"markers\", \"name\": \"State=North Carolina\", \"showlegend\": true, \"x\": [281.8251366], \"xaxis\": \"x\", \"y\": [8.23808972391898], \"yaxis\": \"y\", \"type\": \"scatter\"}], \"name\": \"2005\"}, {\"data\": [{\"hoverlabel\": {\"namelength\": 0}, \"hovertemplate\": \"<b>%{hovertext}</b><br><br>State=West Virginia<br>Year=2007<br>AverageMathScore=%{x}<br>DollarsPerStudent=%{marker.size}\", \"hovertext\": [\"West Virginia\"], \"ids\": [\"West Virginia\"], \"legendgroup\": \"State=West Virginia\", \"marker\": {\"color\": \"#636efa\", \"size\": [10.328864762636066], \"sizemode\": \"area\", \"sizeref\": 0.032515707985901254, \"symbol\": \"circle\"}, \"mode\": \"markers\", \"name\": \"State=West Virginia\", \"showlegend\": true, \"x\": [270.0840936], \"xaxis\": \"x\", \"y\": [10.328864762636066], \"yaxis\": \"y\", \"type\": \"scatter\"}, {\"hoverlabel\": {\"namelength\": 0}, \"hovertemplate\": \"<b>%{hovertext}</b><br><br>State=Arizona<br>Year=2007<br>AverageMathScore=%{x}<br>DollarsPerStudent=%{marker.size}\", \"hovertext\": [\"Arizona\"], \"ids\": [\"Arizona\"], \"legendgroup\": \"State=Arizona\", \"marker\": {\"color\": \"#EF553B\", \"size\": [8.995421059414873], \"sizemode\": \"area\", \"sizeref\": 0.032515707985901254, \"symbol\": \"circle\"}, \"mode\": \"markers\", \"name\": \"State=Arizona\", \"showlegend\": true, \"x\": [275.5484264], \"xaxis\": \"x\", \"y\": [8.995421059414873], \"yaxis\": \"y\", \"type\": \"scatter\"}, {\"hoverlabel\": {\"namelength\": 0}, \"hovertemplate\": \"<b>%{hovertext}</b><br><br>State=Colorado<br>Year=2007<br>AverageMathScore=%{x}<br>DollarsPerStudent=%{marker.size}\", \"hovertext\": [\"Colorado\"], \"ids\": [\"Colorado\"], \"legendgroup\": \"State=Colorado\", \"marker\": {\"color\": \"#00cc96\", \"size\": [9.730330253565187], \"sizemode\": \"area\", \"sizeref\": 0.032515707985901254, \"symbol\": \"circle\"}, \"mode\": \"markers\", \"name\": \"State=Colorado\", \"showlegend\": true, \"x\": [286.1927562], \"xaxis\": \"x\", \"y\": [9.730330253565187], \"yaxis\": \"y\", \"type\": \"scatter\"}, {\"hoverlabel\": {\"namelength\": 0}, \"hovertemplate\": \"<b>%{hovertext}</b><br><br>State=Kentucky<br>Year=2007<br>AverageMathScore=%{x}<br>DollarsPerStudent=%{marker.size}\", \"hovertext\": [\"Kentucky\"], \"ids\": [\"Kentucky\"], \"legendgroup\": \"State=Kentucky\", \"marker\": {\"color\": \"#ab63fa\", \"size\": [9.633479794541742], \"sizemode\": \"area\", \"sizeref\": 0.032515707985901254, \"symbol\": \"circle\"}, \"mode\": \"markers\", \"name\": \"State=Kentucky\", \"showlegend\": true, \"x\": [278.7047499], \"xaxis\": \"x\", \"y\": [9.633479794541742], \"yaxis\": \"y\", \"type\": \"scatter\"}, {\"hoverlabel\": {\"namelength\": 0}, \"hovertemplate\": \"<b>%{hovertext}</b><br><br>State=Virginia<br>Year=2007<br>AverageMathScore=%{x}<br>DollarsPerStudent=%{marker.size}\", \"hovertext\": [\"Virginia\"], \"ids\": [\"Virginia\"], \"legendgroup\": \"State=Virginia\", \"marker\": {\"color\": \"#19d3f3\", \"size\": [11.61579840057684], \"sizemode\": \"area\", \"sizeref\": 0.032515707985901254, \"symbol\": \"circle\"}, \"mode\": \"markers\", \"name\": \"State=Virginia\", \"showlegend\": true, \"x\": [287.625905], \"xaxis\": \"x\", \"y\": [11.61579840057684], \"yaxis\": \"y\", \"type\": \"scatter\"}, {\"hoverlabel\": {\"namelength\": 0}, \"hovertemplate\": \"<b>%{hovertext}</b><br><br>State=Oklahoma<br>Year=2007<br>AverageMathScore=%{x}<br>DollarsPerStudent=%{marker.size}\", \"hovertext\": [\"Oklahoma\"], \"ids\": [\"Oklahoma\"], \"legendgroup\": \"State=Oklahoma\", \"marker\": {\"color\": \"#e763fa\", \"size\": [8.594140825498567], \"sizemode\": \"area\", \"sizeref\": 0.032515707985901254, \"symbol\": \"circle\"}, \"mode\": \"markers\", \"name\": \"State=Oklahoma\", \"showlegend\": true, \"x\": [274.5349894], \"xaxis\": \"x\", \"y\": [8.594140825498567], \"yaxis\": \"y\", \"type\": \"scatter\"}, {\"hoverlabel\": {\"namelength\": 0}, \"hovertemplate\": \"<b>%{hovertext}</b><br><br>State=South Carolina<br>Year=2007<br>AverageMathScore=%{x}<br>DollarsPerStudent=%{marker.size}\", \"hovertext\": [\"South Carolina\"], \"ids\": [\"South Carolina\"], \"legendgroup\": \"State=South Carolina\", \"marker\": {\"color\": \"#FECB52\", \"size\": [10.163165996750193], \"sizemode\": \"area\", \"sizeref\": 0.032515707985901254, \"symbol\": \"circle\"}, \"mode\": \"markers\", \"name\": \"State=South Carolina\", \"showlegend\": true, \"x\": [281.5036015], \"xaxis\": \"x\", \"y\": [10.163165996750193], \"yaxis\": \"y\", \"type\": \"scatter\"}, {\"hoverlabel\": {\"namelength\": 0}, \"hovertemplate\": \"<b>%{hovertext}</b><br><br>State=North Carolina<br>Year=2007<br>AverageMathScore=%{x}<br>DollarsPerStudent=%{marker.size}\", \"hovertext\": [\"North Carolina\"], \"ids\": [\"North Carolina\"], \"legendgroup\": \"State=North Carolina\", \"marker\": {\"color\": \"#FFA15A\", \"size\": [9.225316872265237], \"sizemode\": \"area\", \"sizeref\": 0.032515707985901254, \"symbol\": \"circle\"}, \"mode\": \"markers\", \"name\": \"State=North Carolina\", \"showlegend\": true, \"x\": [283.8806688], \"xaxis\": \"x\", \"y\": [9.225316872265237], \"yaxis\": \"y\", \"type\": \"scatter\"}], \"name\": \"2007\"}, {\"data\": [{\"hoverlabel\": {\"namelength\": 0}, \"hovertemplate\": \"<b>%{hovertext}</b><br><br>State=West Virginia<br>Year=2009<br>AverageMathScore=%{x}<br>DollarsPerStudent=%{marker.size}\", \"hovertext\": [\"West Virginia\"], \"ids\": [\"West Virginia\"], \"legendgroup\": \"State=West Virginia\", \"marker\": {\"color\": \"#636efa\", \"size\": [10.986605559260468], \"sizemode\": \"area\", \"sizeref\": 0.032515707985901254, \"symbol\": \"circle\"}, \"mode\": \"markers\", \"name\": \"State=West Virginia\", \"showlegend\": true, \"x\": [270.4157659], \"xaxis\": \"x\", \"y\": [10.986605559260468], \"yaxis\": \"y\", \"type\": \"scatter\"}, {\"hoverlabel\": {\"namelength\": 0}, \"hovertemplate\": \"<b>%{hovertext}</b><br><br>State=Arizona<br>Year=2009<br>AverageMathScore=%{x}<br>DollarsPerStudent=%{marker.size}\", \"hovertext\": [\"Arizona\"], \"ids\": [\"Arizona\"], \"legendgroup\": \"State=Arizona\", \"marker\": {\"color\": \"#EF553B\", \"size\": [8.970231416799908], \"sizemode\": \"area\", \"sizeref\": 0.032515707985901254, \"symbol\": \"circle\"}, \"mode\": \"markers\", \"name\": \"State=Arizona\", \"showlegend\": true, \"x\": [277.332282], \"xaxis\": \"x\", \"y\": [8.970231416799908], \"yaxis\": \"y\", \"type\": \"scatter\"}, {\"hoverlabel\": {\"namelength\": 0}, \"hovertemplate\": \"<b>%{hovertext}</b><br><br>State=Colorado<br>Year=2009<br>AverageMathScore=%{x}<br>DollarsPerStudent=%{marker.size}\", \"hovertext\": [\"Colorado\"], \"ids\": [\"Colorado\"], \"legendgroup\": \"State=Colorado\", \"marker\": {\"color\": \"#00cc96\", \"size\": [10.233961934222258], \"sizemode\": \"area\", \"sizeref\": 0.032515707985901254, \"symbol\": \"circle\"}, \"mode\": \"markers\", \"name\": \"State=Colorado\", \"showlegend\": true, \"x\": [287.3729075], \"xaxis\": \"x\", \"y\": [10.233961934222258], \"yaxis\": \"y\", \"type\": \"scatter\"}, {\"hoverlabel\": {\"namelength\": 0}, \"hovertemplate\": \"<b>%{hovertext}</b><br><br>State=Kentucky<br>Year=2009<br>AverageMathScore=%{x}<br>DollarsPerStudent=%{marker.size}\", \"hovertext\": [\"Kentucky\"], \"ids\": [\"Kentucky\"], \"legendgroup\": \"State=Kentucky\", \"marker\": {\"color\": \"#ab63fa\", \"size\": [10.012453385642928], \"sizemode\": \"area\", \"sizeref\": 0.032515707985901254, \"symbol\": \"circle\"}, \"mode\": \"markers\", \"name\": \"State=Kentucky\", \"showlegend\": true, \"x\": [279.2842161], \"xaxis\": \"x\", \"y\": [10.012453385642928], \"yaxis\": \"y\", \"type\": \"scatter\"}, {\"hoverlabel\": {\"namelength\": 0}, \"hovertemplate\": \"<b>%{hovertext}</b><br><br>State=Virginia<br>Year=2009<br>AverageMathScore=%{x}<br>DollarsPerStudent=%{marker.size}\", \"hovertext\": [\"Virginia\"], \"ids\": [\"Virginia\"], \"legendgroup\": \"State=Virginia\", \"marker\": {\"color\": \"#19d3f3\", \"size\": [12.34873739336585], \"sizemode\": \"area\", \"sizeref\": 0.032515707985901254, \"symbol\": \"circle\"}, \"mode\": \"markers\", \"name\": \"State=Virginia\", \"showlegend\": true, \"x\": [286.069755], \"xaxis\": \"x\", \"y\": [12.34873739336585], \"yaxis\": \"y\", \"type\": \"scatter\"}, {\"hoverlabel\": {\"namelength\": 0}, \"hovertemplate\": \"<b>%{hovertext}</b><br><br>State=Oklahoma<br>Year=2009<br>AverageMathScore=%{x}<br>DollarsPerStudent=%{marker.size}\", \"hovertext\": [\"Oklahoma\"], \"ids\": [\"Oklahoma\"], \"legendgroup\": \"State=Oklahoma\", \"marker\": {\"color\": \"#e763fa\", \"size\": [9.355079287998274], \"sizemode\": \"area\", \"sizeref\": 0.032515707985901254, \"symbol\": \"circle\"}, \"mode\": \"markers\", \"name\": \"State=Oklahoma\", \"showlegend\": true, \"x\": [275.7119568], \"xaxis\": \"x\", \"y\": [9.355079287998274], \"yaxis\": \"y\", \"type\": \"scatter\"}, {\"hoverlabel\": {\"namelength\": 0}, \"hovertemplate\": \"<b>%{hovertext}</b><br><br>State=South Carolina<br>Year=2009<br>AverageMathScore=%{x}<br>DollarsPerStudent=%{marker.size}\", \"hovertext\": [\"South Carolina\"], \"ids\": [\"South Carolina\"], \"legendgroup\": \"State=South Carolina\", \"marker\": {\"color\": \"#FECB52\", \"size\": [10.737561774629352], \"sizemode\": \"area\", \"sizeref\": 0.032515707985901254, \"symbol\": \"circle\"}, \"mode\": \"markers\", \"name\": \"State=South Carolina\", \"showlegend\": true, \"x\": [280.3808554], \"xaxis\": \"x\", \"y\": [10.737561774629352], \"yaxis\": \"y\", \"type\": \"scatter\"}, {\"hoverlabel\": {\"namelength\": 0}, \"hovertemplate\": \"<b>%{hovertext}</b><br><br>State=North Carolina<br>Year=2009<br>AverageMathScore=%{x}<br>DollarsPerStudent=%{marker.size}\", \"hovertext\": [\"North Carolina\"], \"ids\": [\"North Carolina\"], \"legendgroup\": \"State=North Carolina\", \"marker\": {\"color\": \"#FFA15A\", \"size\": [10.612868303325474], \"sizemode\": \"area\", \"sizeref\": 0.032515707985901254, \"symbol\": \"circle\"}, \"mode\": \"markers\", \"name\": \"State=North Carolina\", \"showlegend\": true, \"x\": [284.3326353], \"xaxis\": \"x\", \"y\": [10.612868303325474], \"yaxis\": \"y\", \"type\": \"scatter\"}], \"name\": \"2009\"}, {\"data\": [{\"hoverlabel\": {\"namelength\": 0}, \"hovertemplate\": \"<b>%{hovertext}</b><br><br>State=West Virginia<br>Year=2011<br>AverageMathScore=%{x}<br>DollarsPerStudent=%{marker.size}\", \"hovertext\": [\"West Virginia\"], \"ids\": [\"West Virginia\"], \"legendgroup\": \"State=West Virginia\", \"marker\": {\"color\": \"#636efa\", \"size\": [12.319292524722645], \"sizemode\": \"area\", \"sizeref\": 0.032515707985901254, \"symbol\": \"circle\"}, \"mode\": \"markers\", \"name\": \"State=West Virginia\", \"showlegend\": true, \"x\": [273.2631731], \"xaxis\": \"x\", \"y\": [12.319292524722645], \"yaxis\": \"y\", \"type\": \"scatter\"}, {\"hoverlabel\": {\"namelength\": 0}, \"hovertemplate\": \"<b>%{hovertext}</b><br><br>State=Arizona<br>Year=2011<br>AverageMathScore=%{x}<br>DollarsPerStudent=%{marker.size}\", \"hovertext\": [\"Arizona\"], \"ids\": [\"Arizona\"], \"legendgroup\": \"State=Arizona\", \"marker\": {\"color\": \"#EF553B\", \"size\": [8.904969621930103], \"sizemode\": \"area\", \"sizeref\": 0.032515707985901254, \"symbol\": \"circle\"}, \"mode\": \"markers\", \"name\": \"State=Arizona\", \"showlegend\": true, \"x\": [279.0335017], \"xaxis\": \"x\", \"y\": [8.904969621930103], \"yaxis\": \"y\", \"type\": \"scatter\"}, {\"hoverlabel\": {\"namelength\": 0}, \"hovertemplate\": \"<b>%{hovertext}</b><br><br>State=Colorado<br>Year=2011<br>AverageMathScore=%{x}<br>DollarsPerStudent=%{marker.size}\", \"hovertext\": [\"Colorado\"], \"ids\": [\"Colorado\"], \"legendgroup\": \"State=Colorado\", \"marker\": {\"color\": \"#00cc96\", \"size\": [10.478121346570328], \"sizemode\": \"area\", \"sizeref\": 0.032515707985901254, \"symbol\": \"circle\"}, \"mode\": \"markers\", \"name\": \"State=Colorado\", \"showlegend\": true, \"x\": [291.7426729], \"xaxis\": \"x\", \"y\": [10.478121346570328], \"yaxis\": \"y\", \"type\": \"scatter\"}, {\"hoverlabel\": {\"namelength\": 0}, \"hovertemplate\": \"<b>%{hovertext}</b><br><br>State=Kentucky<br>Year=2011<br>AverageMathScore=%{x}<br>DollarsPerStudent=%{marker.size}\", \"hovertext\": [\"Kentucky\"], \"ids\": [\"Kentucky\"], \"legendgroup\": \"State=Kentucky\", \"marker\": {\"color\": \"#ab63fa\", \"size\": [10.55725468751393], \"sizemode\": \"area\", \"sizeref\": 0.032515707985901254, \"symbol\": \"circle\"}, \"mode\": \"markers\", \"name\": \"State=Kentucky\", \"showlegend\": true, \"x\": [281.6088097], \"xaxis\": \"x\", \"y\": [10.55725468751393], \"yaxis\": \"y\", \"type\": \"scatter\"}, {\"hoverlabel\": {\"namelength\": 0}, \"hovertemplate\": \"<b>%{hovertext}</b><br><br>State=Virginia<br>Year=2011<br>AverageMathScore=%{x}<br>DollarsPerStudent=%{marker.size}\", \"hovertext\": [\"Virginia\"], \"ids\": [\"Virginia\"], \"legendgroup\": \"State=Virginia\", \"marker\": {\"color\": \"#19d3f3\", \"size\": [11.716290176615619], \"sizemode\": \"area\", \"sizeref\": 0.032515707985901254, \"symbol\": \"circle\"}, \"mode\": \"markers\", \"name\": \"State=Virginia\", \"showlegend\": true, \"x\": [289.2554112], \"xaxis\": \"x\", \"y\": [11.716290176615619], \"yaxis\": \"y\", \"type\": \"scatter\"}, {\"hoverlabel\": {\"namelength\": 0}, \"hovertemplate\": \"<b>%{hovertext}</b><br><br>State=Oklahoma<br>Year=2011<br>AverageMathScore=%{x}<br>DollarsPerStudent=%{marker.size}\", \"hovertext\": [\"Oklahoma\"], \"ids\": [\"Oklahoma\"], \"legendgroup\": \"State=Oklahoma\", \"marker\": {\"color\": \"#e763fa\", \"size\": [8.865787046673848], \"sizemode\": \"area\", \"sizeref\": 0.032515707985901254, \"symbol\": \"circle\"}, \"mode\": \"markers\", \"name\": \"State=Oklahoma\", \"showlegend\": true, \"x\": [279.1796082], \"xaxis\": \"x\", \"y\": [8.865787046673848], \"yaxis\": \"y\", \"type\": \"scatter\"}, {\"hoverlabel\": {\"namelength\": 0}, \"hovertemplate\": \"<b>%{hovertext}</b><br><br>State=South Carolina<br>Year=2011<br>AverageMathScore=%{x}<br>DollarsPerStudent=%{marker.size}\", \"hovertext\": [\"South Carolina\"], \"ids\": [\"South Carolina\"], \"legendgroup\": \"State=South Carolina\", \"marker\": {\"color\": \"#FECB52\", \"size\": [10.893703110393533], \"sizemode\": \"area\", \"sizeref\": 0.032515707985901254, \"symbol\": \"circle\"}, \"mode\": \"markers\", \"name\": \"State=South Carolina\", \"showlegend\": true, \"x\": [281.0001337], \"xaxis\": \"x\", \"y\": [10.893703110393533], \"yaxis\": \"y\", \"type\": \"scatter\"}, {\"hoverlabel\": {\"namelength\": 0}, \"hovertemplate\": \"<b>%{hovertext}</b><br><br>State=North Carolina<br>Year=2011<br>AverageMathScore=%{x}<br>DollarsPerStudent=%{marker.size}\", \"hovertext\": [\"North Carolina\"], \"ids\": [\"North Carolina\"], \"legendgroup\": \"State=North Carolina\", \"marker\": {\"color\": \"#FFA15A\", \"size\": [9.950518500922232], \"sizemode\": \"area\", \"sizeref\": 0.032515707985901254, \"symbol\": \"circle\"}, \"mode\": \"markers\", \"name\": \"State=North Carolina\", \"showlegend\": true, \"x\": [286.2670282], \"xaxis\": \"x\", \"y\": [9.950518500922232], \"yaxis\": \"y\", \"type\": \"scatter\"}], \"name\": \"2011\"}, {\"data\": [{\"hoverlabel\": {\"namelength\": 0}, \"hovertemplate\": \"<b>%{hovertext}</b><br><br>State=West Virginia<br>Year=2013<br>AverageMathScore=%{x}<br>DollarsPerStudent=%{marker.size}\", \"hovertext\": [\"West Virginia\"], \"ids\": [\"West Virginia\"], \"legendgroup\": \"State=West Virginia\", \"marker\": {\"color\": \"#636efa\", \"size\": [12.349424391626226], \"sizemode\": \"area\", \"sizeref\": 0.032515707985901254, \"symbol\": \"circle\"}, \"mode\": \"markers\", \"name\": \"State=West Virginia\", \"showlegend\": true, \"x\": [274.4301347], \"xaxis\": \"x\", \"y\": [12.349424391626226], \"yaxis\": \"y\", \"type\": \"scatter\"}, {\"hoverlabel\": {\"namelength\": 0}, \"hovertemplate\": \"<b>%{hovertext}</b><br><br>State=Arizona<br>Year=2013<br>AverageMathScore=%{x}<br>DollarsPerStudent=%{marker.size}\", \"hovertext\": [\"Arizona\"], \"ids\": [\"Arizona\"], \"legendgroup\": \"State=Arizona\", \"marker\": {\"color\": \"#EF553B\", \"size\": [8.669532326812682], \"sizemode\": \"area\", \"sizeref\": 0.032515707985901254, \"symbol\": \"circle\"}, \"mode\": \"markers\", \"name\": \"State=Arizona\", \"showlegend\": true, \"x\": [279.722268], \"xaxis\": \"x\", \"y\": [8.669532326812682], \"yaxis\": \"y\", \"type\": \"scatter\"}, {\"hoverlabel\": {\"namelength\": 0}, \"hovertemplate\": \"<b>%{hovertext}</b><br><br>State=Colorado<br>Year=2013<br>AverageMathScore=%{x}<br>DollarsPerStudent=%{marker.size}\", \"hovertext\": [\"Colorado\"], \"ids\": [\"Colorado\"], \"legendgroup\": \"State=Colorado\", \"marker\": {\"color\": \"#00cc96\", \"size\": [10.371580012290512], \"sizemode\": \"area\", \"sizeref\": 0.032515707985901254, \"symbol\": \"circle\"}, \"mode\": \"markers\", \"name\": \"State=Colorado\", \"showlegend\": true, \"x\": [289.6818001], \"xaxis\": \"x\", \"y\": [10.371580012290512], \"yaxis\": \"y\", \"type\": \"scatter\"}, {\"hoverlabel\": {\"namelength\": 0}, \"hovertemplate\": \"<b>%{hovertext}</b><br><br>State=Kentucky<br>Year=2013<br>AverageMathScore=%{x}<br>DollarsPerStudent=%{marker.size}\", \"hovertext\": [\"Kentucky\"], \"ids\": [\"Kentucky\"], \"legendgroup\": \"State=Kentucky\", \"marker\": {\"color\": \"#ab63fa\", \"size\": [10.534423635309901], \"sizemode\": \"area\", \"sizeref\": 0.032515707985901254, \"symbol\": \"circle\"}, \"mode\": \"markers\", \"name\": \"State=Kentucky\", \"showlegend\": true, \"x\": [280.6454425], \"xaxis\": \"x\", \"y\": [10.534423635309901], \"yaxis\": \"y\", \"type\": \"scatter\"}, {\"hoverlabel\": {\"namelength\": 0}, \"hovertemplate\": \"<b>%{hovertext}</b><br><br>State=Virginia<br>Year=2013<br>AverageMathScore=%{x}<br>DollarsPerStudent=%{marker.size}\", \"hovertext\": [\"Virginia\"], \"ids\": [\"Virginia\"], \"legendgroup\": \"State=Virginia\", \"marker\": {\"color\": \"#19d3f3\", \"size\": [12.113653469103788], \"sizemode\": \"area\", \"sizeref\": 0.032515707985901254, \"symbol\": \"circle\"}, \"mode\": \"markers\", \"name\": \"State=Virginia\", \"showlegend\": true, \"x\": [288.1429595], \"xaxis\": \"x\", \"y\": [12.113653469103788], \"yaxis\": \"y\", \"type\": \"scatter\"}, {\"hoverlabel\": {\"namelength\": 0}, \"hovertemplate\": \"<b>%{hovertext}</b><br><br>State=Oklahoma<br>Year=2013<br>AverageMathScore=%{x}<br>DollarsPerStudent=%{marker.size}\", \"hovertext\": [\"Oklahoma\"], \"ids\": [\"Oklahoma\"], \"legendgroup\": \"State=Oklahoma\", \"marker\": {\"color\": \"#e763fa\", \"size\": [8.754419200381268], \"sizemode\": \"area\", \"sizeref\": 0.032515707985901254, \"symbol\": \"circle\"}, \"mode\": \"markers\", \"name\": \"State=Oklahoma\", \"showlegend\": true, \"x\": [275.506732], \"xaxis\": \"x\", \"y\": [8.754419200381268], \"yaxis\": \"y\", \"type\": \"scatter\"}, {\"hoverlabel\": {\"namelength\": 0}, \"hovertemplate\": \"<b>%{hovertext}</b><br><br>State=South Carolina<br>Year=2013<br>AverageMathScore=%{x}<br>DollarsPerStudent=%{marker.size}\", \"hovertext\": [\"South Carolina\"], \"ids\": [\"South Carolina\"], \"legendgroup\": \"State=South Carolina\", \"marker\": {\"color\": \"#FECB52\", \"size\": [11.428831331022957], \"sizemode\": \"area\", \"sizeref\": 0.032515707985901254, \"symbol\": \"circle\"}, \"mode\": \"markers\", \"name\": \"State=South Carolina\", \"showlegend\": true, \"x\": [279.8246086], \"xaxis\": \"x\", \"y\": [11.428831331022957], \"yaxis\": \"y\", \"type\": \"scatter\"}, {\"hoverlabel\": {\"namelength\": 0}, \"hovertemplate\": \"<b>%{hovertext}</b><br><br>State=North Carolina<br>Year=2013<br>AverageMathScore=%{x}<br>DollarsPerStudent=%{marker.size}\", \"hovertext\": [\"North Carolina\"], \"ids\": [\"North Carolina\"], \"legendgroup\": \"State=North Carolina\", \"marker\": {\"color\": \"#FFA15A\", \"size\": [8.669908215890175], \"sizemode\": \"area\", \"sizeref\": 0.032515707985901254, \"symbol\": \"circle\"}, \"mode\": \"markers\", \"name\": \"State=North Carolina\", \"showlegend\": true, \"x\": [285.6453884], \"xaxis\": \"x\", \"y\": [8.669908215890175], \"yaxis\": \"y\", \"type\": \"scatter\"}], \"name\": \"2013\"}, {\"data\": [{\"hoverlabel\": {\"namelength\": 0}, \"hovertemplate\": \"<b>%{hovertext}</b><br><br>State=West Virginia<br>Year=2015<br>AverageMathScore=%{x}<br>DollarsPerStudent=%{marker.size}\", \"hovertext\": [\"West Virginia\"], \"ids\": [\"West Virginia\"], \"legendgroup\": \"State=West Virginia\", \"marker\": {\"color\": \"#636efa\", \"size\": [12.442190546026863], \"sizemode\": \"area\", \"sizeref\": 0.032515707985901254, \"symbol\": \"circle\"}, \"mode\": \"markers\", \"name\": \"State=West Virginia\", \"showlegend\": true, \"x\": [271.4507088], \"xaxis\": \"x\", \"y\": [12.442190546026863], \"yaxis\": \"y\", \"type\": \"scatter\"}, {\"hoverlabel\": {\"namelength\": 0}, \"hovertemplate\": \"<b>%{hovertext}</b><br><br>State=Arizona<br>Year=2015<br>AverageMathScore=%{x}<br>DollarsPerStudent=%{marker.size}\", \"hovertext\": [\"Arizona\"], \"ids\": [\"Arizona\"], \"legendgroup\": \"State=Arizona\", \"marker\": {\"color\": \"#EF553B\", \"size\": [8.709733983225007], \"sizemode\": \"area\", \"sizeref\": 0.032515707985901254, \"symbol\": \"circle\"}, \"mode\": \"markers\", \"name\": \"State=Arizona\", \"showlegend\": true, \"x\": [282.9194894], \"xaxis\": \"x\", \"y\": [8.709733983225007], \"yaxis\": \"y\", \"type\": \"scatter\"}, {\"hoverlabel\": {\"namelength\": 0}, \"hovertemplate\": \"<b>%{hovertext}</b><br><br>State=Colorado<br>Year=2015<br>AverageMathScore=%{x}<br>DollarsPerStudent=%{marker.size}\", \"hovertext\": [\"Colorado\"], \"ids\": [\"Colorado\"], \"legendgroup\": \"State=Colorado\", \"marker\": {\"color\": \"#00cc96\", \"size\": [11.06050188004402], \"sizemode\": \"area\", \"sizeref\": 0.032515707985901254, \"symbol\": \"circle\"}, \"mode\": \"markers\", \"name\": \"State=Colorado\", \"showlegend\": true, \"x\": [285.5391887], \"xaxis\": \"x\", \"y\": [11.06050188004402], \"yaxis\": \"y\", \"type\": \"scatter\"}, {\"hoverlabel\": {\"namelength\": 0}, \"hovertemplate\": \"<b>%{hovertext}</b><br><br>State=Kentucky<br>Year=2015<br>AverageMathScore=%{x}<br>DollarsPerStudent=%{marker.size}\", \"hovertext\": [\"Kentucky\"], \"ids\": [\"Kentucky\"], \"legendgroup\": \"State=Kentucky\", \"marker\": {\"color\": \"#ab63fa\", \"size\": [10.96462616652747], \"sizemode\": \"area\", \"sizeref\": 0.032515707985901254, \"symbol\": \"circle\"}, \"mode\": \"markers\", \"name\": \"State=Kentucky\", \"showlegend\": true, \"x\": [277.9472601], \"xaxis\": \"x\", \"y\": [10.96462616652747], \"yaxis\": \"y\", \"type\": \"scatter\"}, {\"hoverlabel\": {\"namelength\": 0}, \"hovertemplate\": \"<b>%{hovertext}</b><br><br>State=Virginia<br>Year=2015<br>AverageMathScore=%{x}<br>DollarsPerStudent=%{marker.size}\", \"hovertext\": [\"Virginia\"], \"ids\": [\"Virginia\"], \"legendgroup\": \"State=Virginia\", \"marker\": {\"color\": \"#19d3f3\", \"size\": [12.38997802115376], \"sizemode\": \"area\", \"sizeref\": 0.032515707985901254, \"symbol\": \"circle\"}, \"mode\": \"markers\", \"name\": \"State=Virginia\", \"showlegend\": true, \"x\": [287.7092987], \"xaxis\": \"x\", \"y\": [12.38997802115376], \"yaxis\": \"y\", \"type\": \"scatter\"}, {\"hoverlabel\": {\"namelength\": 0}, \"hovertemplate\": \"<b>%{hovertext}</b><br><br>State=Oklahoma<br>Year=2015<br>AverageMathScore=%{x}<br>DollarsPerStudent=%{marker.size}\", \"hovertext\": [\"Oklahoma\"], \"ids\": [\"Oklahoma\"], \"legendgroup\": \"State=Oklahoma\", \"marker\": {\"color\": \"#e763fa\", \"size\": [9.112775507469685], \"sizemode\": \"area\", \"sizeref\": 0.032515707985901254, \"symbol\": \"circle\"}, \"mode\": \"markers\", \"name\": \"State=Oklahoma\", \"showlegend\": true, \"x\": [274.5859821], \"xaxis\": \"x\", \"y\": [9.112775507469685], \"yaxis\": \"y\", \"type\": \"scatter\"}, {\"hoverlabel\": {\"namelength\": 0}, \"hovertemplate\": \"<b>%{hovertext}</b><br><br>State=South Carolina<br>Year=2015<br>AverageMathScore=%{x}<br>DollarsPerStudent=%{marker.size}\", \"hovertext\": [\"South Carolina\"], \"ids\": [\"South Carolina\"], \"legendgroup\": \"State=South Carolina\", \"marker\": {\"color\": \"#FECB52\", \"size\": [11.879484839320805], \"sizemode\": \"area\", \"sizeref\": 0.032515707985901254, \"symbol\": \"circle\"}, \"mode\": \"markers\", \"name\": \"State=South Carolina\", \"showlegend\": true, \"x\": [275.8278662], \"xaxis\": \"x\", \"y\": [11.879484839320805], \"yaxis\": \"y\", \"type\": \"scatter\"}, {\"hoverlabel\": {\"namelength\": 0}, \"hovertemplate\": \"<b>%{hovertext}</b><br><br>State=North Carolina<br>Year=2015<br>AverageMathScore=%{x}<br>DollarsPerStudent=%{marker.size}\", \"hovertext\": [\"North Carolina\"], \"ids\": [\"North Carolina\"], \"legendgroup\": \"State=North Carolina\", \"marker\": {\"color\": \"#FFA15A\", \"size\": [8.973826492408692], \"sizemode\": \"area\", \"sizeref\": 0.032515707985901254, \"symbol\": \"circle\"}, \"mode\": \"markers\", \"name\": \"State=North Carolina\", \"showlegend\": true, \"x\": [281.3310911], \"xaxis\": \"x\", \"y\": [8.973826492408692], \"yaxis\": \"y\", \"type\": \"scatter\"}], \"name\": \"2015\"}, {\"data\": [{\"hoverlabel\": {\"namelength\": 0}, \"hovertemplate\": \"<b>%{hovertext}</b><br><br>State=West Virginia<br>Year=2017<br>AverageMathScore=%{x}<br>DollarsPerStudent=%{marker.size}\", \"hovertext\": [\"West Virginia\"], \"ids\": [\"West Virginia\"], \"legendgroup\": \"State=West Virginia\", \"marker\": {\"color\": \"#636efa\", \"size\": [12.725914265841784], \"sizemode\": \"area\", \"sizeref\": 0.032515707985901254, \"symbol\": \"circle\"}, \"mode\": \"markers\", \"name\": \"State=West Virginia\", \"showlegend\": true, \"x\": [273.4158536], \"xaxis\": \"x\", \"y\": [12.725914265841784], \"yaxis\": \"y\", \"type\": \"scatter\"}, {\"hoverlabel\": {\"namelength\": 0}, \"hovertemplate\": \"<b>%{hovertext}</b><br><br>State=Arizona<br>Year=2017<br>AverageMathScore=%{x}<br>DollarsPerStudent=%{marker.size}\", \"hovertext\": [\"Arizona\"], \"ids\": [\"Arizona\"], \"legendgroup\": \"State=Arizona\", \"marker\": {\"color\": \"#EF553B\", \"size\": [9.188139255907458], \"sizemode\": \"area\", \"sizeref\": 0.032515707985901254, \"symbol\": \"circle\"}, \"mode\": \"markers\", \"name\": \"State=Arizona\", \"showlegend\": true, \"x\": [282.2481453], \"xaxis\": \"x\", \"y\": [9.188139255907458], \"yaxis\": \"y\", \"type\": \"scatter\"}, {\"hoverlabel\": {\"namelength\": 0}, \"hovertemplate\": \"<b>%{hovertext}</b><br><br>State=Colorado<br>Year=2017<br>AverageMathScore=%{x}<br>DollarsPerStudent=%{marker.size}\", \"hovertext\": [\"Colorado\"], \"ids\": [\"Colorado\"], \"legendgroup\": \"State=Colorado\", \"marker\": {\"color\": \"#00cc96\", \"size\": [11.726756424676903], \"sizemode\": \"area\", \"sizeref\": 0.032515707985901254, \"symbol\": \"circle\"}, \"mode\": \"markers\", \"name\": \"State=Colorado\", \"showlegend\": true, \"x\": [286.2477175], \"xaxis\": \"x\", \"y\": [11.726756424676903], \"yaxis\": \"y\", \"type\": \"scatter\"}, {\"hoverlabel\": {\"namelength\": 0}, \"hovertemplate\": \"<b>%{hovertext}</b><br><br>State=Kentucky<br>Year=2017<br>AverageMathScore=%{x}<br>DollarsPerStudent=%{marker.size}\", \"hovertext\": [\"Kentucky\"], \"ids\": [\"Kentucky\"], \"legendgroup\": \"State=Kentucky\", \"marker\": {\"color\": \"#ab63fa\", \"size\": [11.577987728554216], \"sizemode\": \"area\", \"sizeref\": 0.032515707985901254, \"symbol\": \"circle\"}, \"mode\": \"markers\", \"name\": \"State=Kentucky\", \"showlegend\": true, \"x\": [277.7141618], \"xaxis\": \"x\", \"y\": [11.577987728554216], \"yaxis\": \"y\", \"type\": \"scatter\"}, {\"hoverlabel\": {\"namelength\": 0}, \"hovertemplate\": \"<b>%{hovertext}</b><br><br>State=Virginia<br>Year=2017<br>AverageMathScore=%{x}<br>DollarsPerStudent=%{marker.size}\", \"hovertext\": [\"Virginia\"], \"ids\": [\"Virginia\"], \"legendgroup\": \"State=Virginia\", \"marker\": {\"color\": \"#19d3f3\", \"size\": [12.846052454669309], \"sizemode\": \"area\", \"sizeref\": 0.032515707985901254, \"symbol\": \"circle\"}, \"mode\": \"markers\", \"name\": \"State=Virginia\", \"showlegend\": true, \"x\": [290.0814074], \"xaxis\": \"x\", \"y\": [12.846052454669309], \"yaxis\": \"y\", \"type\": \"scatter\"}, {\"hoverlabel\": {\"namelength\": 0}, \"hovertemplate\": \"<b>%{hovertext}</b><br><br>State=Oklahoma<br>Year=2017<br>AverageMathScore=%{x}<br>DollarsPerStudent=%{marker.size}\", \"hovertext\": [\"Oklahoma\"], \"ids\": [\"Oklahoma\"], \"legendgroup\": \"State=Oklahoma\", \"marker\": {\"color\": \"#e763fa\", \"size\": [9.209689272878819], \"sizemode\": \"area\", \"sizeref\": 0.032515707985901254, \"symbol\": \"circle\"}, \"mode\": \"markers\", \"name\": \"State=Oklahoma\", \"showlegend\": true, \"x\": [274.6888834], \"xaxis\": \"x\", \"y\": [9.209689272878819], \"yaxis\": \"y\", \"type\": \"scatter\"}, {\"hoverlabel\": {\"namelength\": 0}, \"hovertemplate\": \"<b>%{hovertext}</b><br><br>State=South Carolina<br>Year=2017<br>AverageMathScore=%{x}<br>DollarsPerStudent=%{marker.size}\", \"hovertext\": [\"South Carolina\"], \"ids\": [\"South Carolina\"], \"legendgroup\": \"State=South Carolina\", \"marker\": {\"color\": \"#FECB52\", \"size\": [13.006283194360503], \"sizemode\": \"area\", \"sizeref\": 0.032515707985901254, \"symbol\": \"circle\"}, \"mode\": \"markers\", \"name\": \"State=South Carolina\", \"showlegend\": true, \"x\": [274.6738211], \"xaxis\": \"x\", \"y\": [13.006283194360503], \"yaxis\": \"y\", \"type\": \"scatter\"}, {\"hoverlabel\": {\"namelength\": 0}, \"hovertemplate\": \"<b>%{hovertext}</b><br><br>State=North Carolina<br>Year=2017<br>AverageMathScore=%{x}<br>DollarsPerStudent=%{marker.size}\", \"hovertext\": [\"North Carolina\"], \"ids\": [\"North Carolina\"], \"legendgroup\": \"State=North Carolina\", \"marker\": {\"color\": \"#FFA15A\", \"size\": [9.588254665203074], \"sizemode\": \"area\", \"sizeref\": 0.032515707985901254, \"symbol\": \"circle\"}, \"mode\": \"markers\", \"name\": \"State=North Carolina\", \"showlegend\": true, \"x\": [281.9260284], \"xaxis\": \"x\", \"y\": [9.588254665203074], \"yaxis\": \"y\", \"type\": \"scatter\"}], \"name\": \"2017\"}]);\n",
       "                        }).then(function(){\n",
       "                            \n",
       "var gd = document.getElementById('2a44bc30-e553-49ee-b5ca-93b36a183efc');\n",
       "var x = new MutationObserver(function (mutations, observer) {{\n",
       "        var display = window.getComputedStyle(gd).display;\n",
       "        if (!display || display === 'none') {{\n",
       "            console.log([gd, 'removed!']);\n",
       "            Plotly.purge(gd);\n",
       "            observer.disconnect();\n",
       "        }}\n",
       "}});\n",
       "\n",
       "// Listen for the removal of the full notebook cells\n",
       "var notebookContainer = gd.closest('#notebook-container');\n",
       "if (notebookContainer) {{\n",
       "    x.observe(notebookContainer, {childList: true});\n",
       "}}\n",
       "\n",
       "// Listen for the clearing of the current output cell\n",
       "var outputEl = gd.closest('.output');\n",
       "if (outputEl) {{\n",
       "    x.observe(outputEl, {childList: true});\n",
       "}}\n",
       "\n",
       "                        })\n",
       "                };\n",
       "                });\n",
       "            </script>\n",
       "        </div>"
      ]
     },
     "metadata": {},
     "output_type": "display_data"
    }
   ],
   "source": [
    "px.scatter(protest_states_scores_and_funding,x=\"AverageMathScore\",y=\"DollarsPerStudent\",size=\"DollarsPerStudent\",color=\"State\",hover_name=\"State\",range_x=[260,300],range_y=[5,16],animation_frame=\"Year\",animation_group=\"State\")\n"
   ]
  },
  {
   "cell_type": "markdown",
   "metadata": {},
   "source": [
    "## Calculate national averages and export as csv"
   ]
  },
  {
   "cell_type": "code",
   "execution_count": 460,
   "metadata": {},
   "outputs": [
    {
     "data": {
      "text/html": [
       "<div>\n",
       "<style scoped>\n",
       "    .dataframe tbody tr th:only-of-type {\n",
       "        vertical-align: middle;\n",
       "    }\n",
       "\n",
       "    .dataframe tbody tr th {\n",
       "        vertical-align: top;\n",
       "    }\n",
       "\n",
       "    .dataframe thead th {\n",
       "        text-align: right;\n",
       "    }\n",
       "</style>\n",
       "<table border=\"1\" class=\"dataframe\">\n",
       "  <thead>\n",
       "    <tr style=\"text-align: right;\">\n",
       "      <th></th>\n",
       "      <th>AverageMathScore</th>\n",
       "      <th>AverageReadingScore</th>\n",
       "      <th>StudentsEnrolled</th>\n",
       "      <th>TotalFunding</th>\n",
       "      <th>DollarsPerStudent</th>\n",
       "      <th>Abbreviation</th>\n",
       "      <th>State</th>\n",
       "    </tr>\n",
       "    <tr>\n",
       "      <th>Year</th>\n",
       "      <th></th>\n",
       "      <th></th>\n",
       "      <th></th>\n",
       "      <th></th>\n",
       "      <th></th>\n",
       "      <th></th>\n",
       "      <th></th>\n",
       "    </tr>\n",
       "  </thead>\n",
       "  <tbody>\n",
       "    <tr>\n",
       "      <th>2003</th>\n",
       "      <td>276.743875</td>\n",
       "      <td>262.401744</td>\n",
       "      <td>933396.862745</td>\n",
       "      <td>8.777804e+06</td>\n",
       "      <td>9.404150</td>\n",
       "      <td>US</td>\n",
       "      <td>US</td>\n",
       "    </tr>\n",
       "    <tr>\n",
       "      <th>2005</th>\n",
       "      <td>277.751964</td>\n",
       "      <td>261.613116</td>\n",
       "      <td>942259.960784</td>\n",
       "      <td>9.741954e+06</td>\n",
       "      <td>10.338923</td>\n",
       "      <td>US</td>\n",
       "      <td>US</td>\n",
       "    </tr>\n",
       "    <tr>\n",
       "      <th>2007</th>\n",
       "      <td>280.617942</td>\n",
       "      <td>262.081490</td>\n",
       "      <td>949109.254902</td>\n",
       "      <td>1.109366e+07</td>\n",
       "      <td>11.688496</td>\n",
       "      <td>US</td>\n",
       "      <td>US</td>\n",
       "    </tr>\n",
       "    <tr>\n",
       "      <th>2009</th>\n",
       "      <td>282.416645</td>\n",
       "      <td>263.252402</td>\n",
       "      <td>946249.313725</td>\n",
       "      <td>1.177812e+07</td>\n",
       "      <td>12.447168</td>\n",
       "      <td>US</td>\n",
       "      <td>US</td>\n",
       "    </tr>\n",
       "    <tr>\n",
       "      <th>2011</th>\n",
       "      <td>283.490464</td>\n",
       "      <td>264.671336</td>\n",
       "      <td>946587.745098</td>\n",
       "      <td>1.195207e+07</td>\n",
       "      <td>12.626481</td>\n",
       "      <td>US</td>\n",
       "      <td>US</td>\n",
       "    </tr>\n",
       "    <tr>\n",
       "      <th>2013</th>\n",
       "      <td>283.914996</td>\n",
       "      <td>266.299483</td>\n",
       "      <td>947012.176471</td>\n",
       "      <td>1.192289e+07</td>\n",
       "      <td>12.590006</td>\n",
       "      <td>US</td>\n",
       "      <td>US</td>\n",
       "    </tr>\n",
       "    <tr>\n",
       "      <th>2015</th>\n",
       "      <td>281.759044</td>\n",
       "      <td>264.853594</td>\n",
       "      <td>951263.450980</td>\n",
       "      <td>1.281705e+07</td>\n",
       "      <td>13.473715</td>\n",
       "      <td>US</td>\n",
       "      <td>US</td>\n",
       "    </tr>\n",
       "    <tr>\n",
       "      <th>2017</th>\n",
       "      <td>281.878993</td>\n",
       "      <td>265.407013</td>\n",
       "      <td>953557.725490</td>\n",
       "      <td>1.361002e+07</td>\n",
       "      <td>14.272890</td>\n",
       "      <td>US</td>\n",
       "      <td>US</td>\n",
       "    </tr>\n",
       "  </tbody>\n",
       "</table>\n",
       "</div>"
      ],
      "text/plain": [
       "      AverageMathScore  AverageReadingScore  StudentsEnrolled  TotalFunding  \\\n",
       "Year                                                                          \n",
       "2003        276.743875           262.401744     933396.862745  8.777804e+06   \n",
       "2005        277.751964           261.613116     942259.960784  9.741954e+06   \n",
       "2007        280.617942           262.081490     949109.254902  1.109366e+07   \n",
       "2009        282.416645           263.252402     946249.313725  1.177812e+07   \n",
       "2011        283.490464           264.671336     946587.745098  1.195207e+07   \n",
       "2013        283.914996           266.299483     947012.176471  1.192289e+07   \n",
       "2015        281.759044           264.853594     951263.450980  1.281705e+07   \n",
       "2017        281.878993           265.407013     953557.725490  1.361002e+07   \n",
       "\n",
       "      DollarsPerStudent Abbreviation State  \n",
       "Year                                        \n",
       "2003           9.404150           US    US  \n",
       "2005          10.338923           US    US  \n",
       "2007          11.688496           US    US  \n",
       "2009          12.447168           US    US  \n",
       "2011          12.626481           US    US  \n",
       "2013          12.590006           US    US  \n",
       "2015          13.473715           US    US  \n",
       "2017          14.272890           US    US  "
      ]
     },
     "execution_count": 460,
     "metadata": {},
     "output_type": "execute_result"
    }
   ],
   "source": [
    "# Group data by Year and Subject\n",
    "year_groups = scores_and_funding.groupby([\"Year\"])\n",
    "# Calculate US average scores and funding\n",
    "us_averages_by_year = year_groups[[\"AverageMathScore\",\"AverageReadingScore\",\"StudentsEnrolled\",\"TotalFunding\"]].mean()\n",
    "# Calculate average $ in funding per student and insert as new column\n",
    "us_averages_by_year[\"DollarsPerStudent\"] = us_averages_by_year[\"TotalFunding\"]/us_averages_by_year[\"StudentsEnrolled\"]\n",
    "\n",
    "us_averages_by_year[\"Abbreviation\"] = \"US\"\n",
    "us_averages_by_year[\"State\"] = \"US\"\n",
    "us_averages_by_year"
   ]
  },
  {
   "cell_type": "code",
   "execution_count": 461,
   "metadata": {},
   "outputs": [
    {
     "data": {
      "text/html": [
       "<div>\n",
       "<style scoped>\n",
       "    .dataframe tbody tr th:only-of-type {\n",
       "        vertical-align: middle;\n",
       "    }\n",
       "\n",
       "    .dataframe tbody tr th {\n",
       "        vertical-align: top;\n",
       "    }\n",
       "\n",
       "    .dataframe thead th {\n",
       "        text-align: right;\n",
       "    }\n",
       "</style>\n",
       "<table border=\"1\" class=\"dataframe\">\n",
       "  <thead>\n",
       "    <tr style=\"text-align: right;\">\n",
       "      <th></th>\n",
       "      <th>Year</th>\n",
       "      <th>State</th>\n",
       "      <th>AverageMathScore</th>\n",
       "      <th>AverageReadingScore</th>\n",
       "      <th>StudentsEnrolled</th>\n",
       "      <th>TotalFunding</th>\n",
       "      <th>DollarsPerStudent</th>\n",
       "      <th>Abbreviation</th>\n",
       "    </tr>\n",
       "  </thead>\n",
       "  <tbody>\n",
       "    <tr>\n",
       "      <th>0</th>\n",
       "      <td>2003</td>\n",
       "      <td>US</td>\n",
       "      <td>276.743875</td>\n",
       "      <td>262.401744</td>\n",
       "      <td>933396.862745</td>\n",
       "      <td>8.777804e+06</td>\n",
       "      <td>9.404150</td>\n",
       "      <td>US</td>\n",
       "    </tr>\n",
       "    <tr>\n",
       "      <th>1</th>\n",
       "      <td>2005</td>\n",
       "      <td>US</td>\n",
       "      <td>277.751964</td>\n",
       "      <td>261.613116</td>\n",
       "      <td>942259.960784</td>\n",
       "      <td>9.741954e+06</td>\n",
       "      <td>10.338923</td>\n",
       "      <td>US</td>\n",
       "    </tr>\n",
       "    <tr>\n",
       "      <th>2</th>\n",
       "      <td>2007</td>\n",
       "      <td>US</td>\n",
       "      <td>280.617942</td>\n",
       "      <td>262.081490</td>\n",
       "      <td>949109.254902</td>\n",
       "      <td>1.109366e+07</td>\n",
       "      <td>11.688496</td>\n",
       "      <td>US</td>\n",
       "    </tr>\n",
       "    <tr>\n",
       "      <th>3</th>\n",
       "      <td>2009</td>\n",
       "      <td>US</td>\n",
       "      <td>282.416645</td>\n",
       "      <td>263.252402</td>\n",
       "      <td>946249.313725</td>\n",
       "      <td>1.177812e+07</td>\n",
       "      <td>12.447168</td>\n",
       "      <td>US</td>\n",
       "    </tr>\n",
       "    <tr>\n",
       "      <th>4</th>\n",
       "      <td>2011</td>\n",
       "      <td>US</td>\n",
       "      <td>283.490464</td>\n",
       "      <td>264.671336</td>\n",
       "      <td>946587.745098</td>\n",
       "      <td>1.195207e+07</td>\n",
       "      <td>12.626481</td>\n",
       "      <td>US</td>\n",
       "    </tr>\n",
       "    <tr>\n",
       "      <th>5</th>\n",
       "      <td>2013</td>\n",
       "      <td>US</td>\n",
       "      <td>283.914996</td>\n",
       "      <td>266.299483</td>\n",
       "      <td>947012.176471</td>\n",
       "      <td>1.192289e+07</td>\n",
       "      <td>12.590006</td>\n",
       "      <td>US</td>\n",
       "    </tr>\n",
       "    <tr>\n",
       "      <th>6</th>\n",
       "      <td>2015</td>\n",
       "      <td>US</td>\n",
       "      <td>281.759044</td>\n",
       "      <td>264.853594</td>\n",
       "      <td>951263.450980</td>\n",
       "      <td>1.281705e+07</td>\n",
       "      <td>13.473715</td>\n",
       "      <td>US</td>\n",
       "    </tr>\n",
       "    <tr>\n",
       "      <th>7</th>\n",
       "      <td>2017</td>\n",
       "      <td>US</td>\n",
       "      <td>281.878993</td>\n",
       "      <td>265.407013</td>\n",
       "      <td>953557.725490</td>\n",
       "      <td>1.361002e+07</td>\n",
       "      <td>14.272890</td>\n",
       "      <td>US</td>\n",
       "    </tr>\n",
       "  </tbody>\n",
       "</table>\n",
       "</div>"
      ],
      "text/plain": [
       "   Year State  AverageMathScore  AverageReadingScore  StudentsEnrolled  \\\n",
       "0  2003    US        276.743875           262.401744     933396.862745   \n",
       "1  2005    US        277.751964           261.613116     942259.960784   \n",
       "2  2007    US        280.617942           262.081490     949109.254902   \n",
       "3  2009    US        282.416645           263.252402     946249.313725   \n",
       "4  2011    US        283.490464           264.671336     946587.745098   \n",
       "5  2013    US        283.914996           266.299483     947012.176471   \n",
       "6  2015    US        281.759044           264.853594     951263.450980   \n",
       "7  2017    US        281.878993           265.407013     953557.725490   \n",
       "\n",
       "   TotalFunding  DollarsPerStudent Abbreviation  \n",
       "0  8.777804e+06           9.404150           US  \n",
       "1  9.741954e+06          10.338923           US  \n",
       "2  1.109366e+07          11.688496           US  \n",
       "3  1.177812e+07          12.447168           US  \n",
       "4  1.195207e+07          12.626481           US  \n",
       "5  1.192289e+07          12.590006           US  \n",
       "6  1.281705e+07          13.473715           US  \n",
       "7  1.361002e+07          14.272890           US  "
      ]
     },
     "execution_count": 461,
     "metadata": {},
     "output_type": "execute_result"
    }
   ],
   "source": [
    "us_averages_by_year = us_averages_by_year.reset_index(drop=False)\n",
    "# # Calculate min math score for the year and insert as new column\n",
    "# us_averages_by_year[\"MinMathScore\"] = year_groups[\"AverageMathScore\"].min()\n",
    "# # Calculate max math score for the year and insert as new column\n",
    "# us_averages_by_year[\"MaxMathScore\"] = year_groups[\"AverageMathScore\"].max()\n",
    "# # Calculate min reading score for the year and insert as new column\n",
    "# us_averages_by_year[\"MinReadingScore\"] = year_groups[\"AverageReadingScore\"].min()\n",
    "# # Calculate max reading score for the year and insert as new column\n",
    "# us_averages_by_year[\"MaxReadingScore\"] = year_groups[\"AverageReadingScore\"].max()\n",
    "# us_averages_by_year.columns\n",
    "# Reorganise columns\n",
    "us_averages_by_year = us_averages_by_year[[\"Year\",\"State\",\"AverageMathScore\",\"AverageReadingScore\",\"StudentsEnrolled\",\"TotalFunding\",\"DollarsPerStudent\",\"Abbreviation\"]]\n",
    "# us_averages_by_year = us_averages_by_year.rename(columns={\"StudentsEnrolled\":\"AvgNoofStudentsEnrolled\",\"TotalFunding\":\"AvgTotalFunding\"})\n",
    "us_averages_by_year"
   ]
  },
  {
   "cell_type": "code",
   "execution_count": 462,
   "metadata": {},
   "outputs": [
    {
     "data": {
      "text/html": [
       "<div>\n",
       "<style scoped>\n",
       "    .dataframe tbody tr th:only-of-type {\n",
       "        vertical-align: middle;\n",
       "    }\n",
       "\n",
       "    .dataframe tbody tr th {\n",
       "        vertical-align: top;\n",
       "    }\n",
       "\n",
       "    .dataframe thead th {\n",
       "        text-align: right;\n",
       "    }\n",
       "</style>\n",
       "<table border=\"1\" class=\"dataframe\">\n",
       "  <thead>\n",
       "    <tr style=\"text-align: right;\">\n",
       "      <th></th>\n",
       "      <th>Year</th>\n",
       "      <th>State</th>\n",
       "      <th>AverageMathScore</th>\n",
       "      <th>AverageReadingScore</th>\n",
       "      <th>StudentsEnrolled</th>\n",
       "      <th>TotalFunding</th>\n",
       "      <th>DollarsPerStudent</th>\n",
       "      <th>Abbreviation</th>\n",
       "    </tr>\n",
       "  </thead>\n",
       "  <tbody>\n",
       "    <tr>\n",
       "      <th>0</th>\n",
       "      <td>2003</td>\n",
       "      <td>West Virginia</td>\n",
       "      <td>270.770353</td>\n",
       "      <td>259.564238</td>\n",
       "      <td>281591.0</td>\n",
       "      <td>2497707.0</td>\n",
       "      <td>8.869982</td>\n",
       "      <td>WV</td>\n",
       "    </tr>\n",
       "    <tr>\n",
       "      <th>1</th>\n",
       "      <td>2003</td>\n",
       "      <td>Arizona</td>\n",
       "      <td>271.177350</td>\n",
       "      <td>255.320115</td>\n",
       "      <td>875111.0</td>\n",
       "      <td>6529894.0</td>\n",
       "      <td>7.461789</td>\n",
       "      <td>AZ</td>\n",
       "    </tr>\n",
       "    <tr>\n",
       "      <th>2</th>\n",
       "      <td>2003</td>\n",
       "      <td>Colorado</td>\n",
       "      <td>283.399858</td>\n",
       "      <td>267.592641</td>\n",
       "      <td>751049.0</td>\n",
       "      <td>6297242.0</td>\n",
       "      <td>8.384595</td>\n",
       "      <td>CO</td>\n",
       "    </tr>\n",
       "    <tr>\n",
       "      <th>3</th>\n",
       "      <td>2003</td>\n",
       "      <td>Kentucky</td>\n",
       "      <td>274.278472</td>\n",
       "      <td>266.191435</td>\n",
       "      <td>660782.0</td>\n",
       "      <td>4872025.0</td>\n",
       "      <td>7.373120</td>\n",
       "      <td>KY</td>\n",
       "    </tr>\n",
       "    <tr>\n",
       "      <th>4</th>\n",
       "      <td>2003</td>\n",
       "      <td>Virginia</td>\n",
       "      <td>281.676643</td>\n",
       "      <td>268.004817</td>\n",
       "      <td>1175458.0</td>\n",
       "      <td>10504167.0</td>\n",
       "      <td>8.936233</td>\n",
       "      <td>VA</td>\n",
       "    </tr>\n",
       "  </tbody>\n",
       "</table>\n",
       "</div>"
      ],
      "text/plain": [
       "   Year          State  AverageMathScore  AverageReadingScore  \\\n",
       "0  2003  West Virginia        270.770353           259.564238   \n",
       "1  2003        Arizona        271.177350           255.320115   \n",
       "2  2003       Colorado        283.399858           267.592641   \n",
       "3  2003       Kentucky        274.278472           266.191435   \n",
       "4  2003       Virginia        281.676643           268.004817   \n",
       "\n",
       "   StudentsEnrolled  TotalFunding  DollarsPerStudent Abbreviation  \n",
       "0          281591.0     2497707.0           8.869982           WV  \n",
       "1          875111.0     6529894.0           7.461789           AZ  \n",
       "2          751049.0     6297242.0           8.384595           CO  \n",
       "3          660782.0     4872025.0           7.373120           KY  \n",
       "4         1175458.0    10504167.0           8.936233           VA  "
      ]
     },
     "execution_count": 462,
     "metadata": {},
     "output_type": "execute_result"
    }
   ],
   "source": [
    "# Add US averages to main df\n",
    "protest_states_scores_and_funding = protest_states_scores_and_funding.append(us_averages_by_year,ignore_index = True)\n",
    "protest_states_scores_and_funding.head()"
   ]
  },
  {
   "cell_type": "code",
   "execution_count": 446,
   "metadata": {},
   "outputs": [],
   "source": [
    "# Export as csv for us in JavaScript/D3\n",
    "protest_states_scores_and_funding.to_csv(\"../data/scores_and_funding.csv\")"
   ]
  },
  {
   "cell_type": "code",
   "execution_count": null,
   "metadata": {},
   "outputs": [],
   "source": []
  }
 ],
 "metadata": {
  "kernelspec": {
   "display_name": "Python 3",
   "language": "python",
   "name": "python3"
  },
  "language_info": {
   "codemirror_mode": {
    "name": "ipython",
    "version": 3
   },
   "file_extension": ".py",
   "mimetype": "text/x-python",
   "name": "python",
   "nbconvert_exporter": "python",
   "pygments_lexer": "ipython3",
   "version": "3.7.1"
  }
 },
 "nbformat": 4,
 "nbformat_minor": 2
}
